{
 "metadata": {
  "language_info": {
   "codemirror_mode": {
    "name": "ipython",
    "version": 3
   },
   "file_extension": ".py",
   "mimetype": "text/x-python",
   "name": "python",
   "nbconvert_exporter": "python",
   "pygments_lexer": "ipython3",
   "version": "3.9.4"
  },
  "orig_nbformat": 4,
  "kernelspec": {
   "name": "python3",
   "display_name": "Python 3.9.4 64-bit ('base': conda)"
  },
  "interpreter": {
   "hash": "98b0a9b7b4eaaa670588a142fd0a9b87eaafe866f1db4228be72b4211d12040f"
  }
 },
 "nbformat": 4,
 "nbformat_minor": 2,
 "cells": [
  {
   "cell_type": "code",
   "execution_count": 1,
   "metadata": {},
   "outputs": [
    {
     "output_type": "stream",
     "name": "stderr",
     "text": [
      "/opt/conda/lib/python3.9/site-packages/backtesting/_plotting.py:45: UserWarning: Jupyter Notebook detected. Setting Bokeh output to notebook. This may not work in Jupyter clients without JavaScript support (e.g. PyCharm, Spyder IDE). Reset with `backtesting.set_bokeh_output(notebook=False)`.\n  warnings.warn('Jupyter Notebook detected. '\n"
     ]
    },
    {
     "output_type": "display_data",
     "data": {
      "text/html": "\n    <div class=\"bk-root\">\n        <a href=\"https://bokeh.org\" target=\"_blank\" class=\"bk-logo bk-logo-small bk-logo-notebook\"></a>\n        <span id=\"1002\">Loading BokehJS ...</span>\n    </div>"
     },
     "metadata": {}
    },
    {
     "output_type": "display_data",
     "data": {
      "application/javascript": "\n(function(root) {\n  function now() {\n    return new Date();\n  }\n\n  var force = true;\n\n  if (typeof root._bokeh_onload_callbacks === \"undefined\" || force === true) {\n    root._bokeh_onload_callbacks = [];\n    root._bokeh_is_loading = undefined;\n  }\n\n  var JS_MIME_TYPE = 'application/javascript';\n  var HTML_MIME_TYPE = 'text/html';\n  var EXEC_MIME_TYPE = 'application/vnd.bokehjs_exec.v0+json';\n  var CLASS_NAME = 'output_bokeh rendered_html';\n\n  /**\n   * Render data to the DOM node\n   */\n  function render(props, node) {\n    var script = document.createElement(\"script\");\n    node.appendChild(script);\n  }\n\n  /**\n   * Handle when an output is cleared or removed\n   */\n  function handleClearOutput(event, handle) {\n    var cell = handle.cell;\n\n    var id = cell.output_area._bokeh_element_id;\n    var server_id = cell.output_area._bokeh_server_id;\n    // Clean up Bokeh references\n    if (id != null && id in Bokeh.index) {\n      Bokeh.index[id].model.document.clear();\n      delete Bokeh.index[id];\n    }\n\n    if (server_id !== undefined) {\n      // Clean up Bokeh references\n      var cmd = \"from bokeh.io.state import curstate; print(curstate().uuid_to_server['\" + server_id + \"'].get_sessions()[0].document.roots[0]._id)\";\n      cell.notebook.kernel.execute(cmd, {\n        iopub: {\n          output: function(msg) {\n            var id = msg.content.text.trim();\n            if (id in Bokeh.index) {\n              Bokeh.index[id].model.document.clear();\n              delete Bokeh.index[id];\n            }\n          }\n        }\n      });\n      // Destroy server and session\n      var cmd = \"import bokeh.io.notebook as ion; ion.destroy_server('\" + server_id + \"')\";\n      cell.notebook.kernel.execute(cmd);\n    }\n  }\n\n  /**\n   * Handle when a new output is added\n   */\n  function handleAddOutput(event, handle) {\n    var output_area = handle.output_area;\n    var output = handle.output;\n\n    // limit handleAddOutput to display_data with EXEC_MIME_TYPE content only\n    if ((output.output_type != \"display_data\") || (!Object.prototype.hasOwnProperty.call(output.data, EXEC_MIME_TYPE))) {\n      return\n    }\n\n    var toinsert = output_area.element.find(\".\" + CLASS_NAME.split(' ')[0]);\n\n    if (output.metadata[EXEC_MIME_TYPE][\"id\"] !== undefined) {\n      toinsert[toinsert.length - 1].firstChild.textContent = output.data[JS_MIME_TYPE];\n      // store reference to embed id on output_area\n      output_area._bokeh_element_id = output.metadata[EXEC_MIME_TYPE][\"id\"];\n    }\n    if (output.metadata[EXEC_MIME_TYPE][\"server_id\"] !== undefined) {\n      var bk_div = document.createElement(\"div\");\n      bk_div.innerHTML = output.data[HTML_MIME_TYPE];\n      var script_attrs = bk_div.children[0].attributes;\n      for (var i = 0; i < script_attrs.length; i++) {\n        toinsert[toinsert.length - 1].firstChild.setAttribute(script_attrs[i].name, script_attrs[i].value);\n        toinsert[toinsert.length - 1].firstChild.textContent = bk_div.children[0].textContent\n      }\n      // store reference to server id on output_area\n      output_area._bokeh_server_id = output.metadata[EXEC_MIME_TYPE][\"server_id\"];\n    }\n  }\n\n  function register_renderer(events, OutputArea) {\n\n    function append_mime(data, metadata, element) {\n      // create a DOM node to render to\n      var toinsert = this.create_output_subarea(\n        metadata,\n        CLASS_NAME,\n        EXEC_MIME_TYPE\n      );\n      this.keyboard_manager.register_events(toinsert);\n      // Render to node\n      var props = {data: data, metadata: metadata[EXEC_MIME_TYPE]};\n      render(props, toinsert[toinsert.length - 1]);\n      element.append(toinsert);\n      return toinsert\n    }\n\n    /* Handle when an output is cleared or removed */\n    events.on('clear_output.CodeCell', handleClearOutput);\n    events.on('delete.Cell', handleClearOutput);\n\n    /* Handle when a new output is added */\n    events.on('output_added.OutputArea', handleAddOutput);\n\n    /**\n     * Register the mime type and append_mime function with output_area\n     */\n    OutputArea.prototype.register_mime_type(EXEC_MIME_TYPE, append_mime, {\n      /* Is output safe? */\n      safe: true,\n      /* Index of renderer in `output_area.display_order` */\n      index: 0\n    });\n  }\n\n  // register the mime type if in Jupyter Notebook environment and previously unregistered\n  if (root.Jupyter !== undefined) {\n    var events = require('base/js/events');\n    var OutputArea = require('notebook/js/outputarea').OutputArea;\n\n    if (OutputArea.prototype.mime_types().indexOf(EXEC_MIME_TYPE) == -1) {\n      register_renderer(events, OutputArea);\n    }\n  }\n\n  \n  if (typeof (root._bokeh_timeout) === \"undefined\" || force === true) {\n    root._bokeh_timeout = Date.now() + 5000;\n    root._bokeh_failed_load = false;\n  }\n\n  var NB_LOAD_WARNING = {'data': {'text/html':\n     \"<div style='background-color: #fdd'>\\n\"+\n     \"<p>\\n\"+\n     \"BokehJS does not appear to have successfully loaded. If loading BokehJS from CDN, this \\n\"+\n     \"may be due to a slow or bad network connection. Possible fixes:\\n\"+\n     \"</p>\\n\"+\n     \"<ul>\\n\"+\n     \"<li>re-rerun `output_notebook()` to attempt to load from CDN again, or</li>\\n\"+\n     \"<li>use INLINE resources instead, as so:</li>\\n\"+\n     \"</ul>\\n\"+\n     \"<code>\\n\"+\n     \"from bokeh.resources import INLINE\\n\"+\n     \"output_notebook(resources=INLINE)\\n\"+\n     \"</code>\\n\"+\n     \"</div>\"}};\n\n  function display_loaded() {\n    var el = document.getElementById(\"1002\");\n    if (el != null) {\n      el.textContent = \"BokehJS is loading...\";\n    }\n    if (root.Bokeh !== undefined) {\n      if (el != null) {\n        el.textContent = \"BokehJS \" + root.Bokeh.version + \" successfully loaded.\";\n      }\n    } else if (Date.now() < root._bokeh_timeout) {\n      setTimeout(display_loaded, 100)\n    }\n  }\n\n\n  function run_callbacks() {\n    try {\n      root._bokeh_onload_callbacks.forEach(function(callback) {\n        if (callback != null)\n          callback();\n      });\n    } finally {\n      delete root._bokeh_onload_callbacks\n    }\n    console.debug(\"Bokeh: all callbacks have finished\");\n  }\n\n  function load_libs(css_urls, js_urls, callback) {\n    if (css_urls == null) css_urls = [];\n    if (js_urls == null) js_urls = [];\n\n    root._bokeh_onload_callbacks.push(callback);\n    if (root._bokeh_is_loading > 0) {\n      console.debug(\"Bokeh: BokehJS is being loaded, scheduling callback at\", now());\n      return null;\n    }\n    if (js_urls == null || js_urls.length === 0) {\n      run_callbacks();\n      return null;\n    }\n    console.debug(\"Bokeh: BokehJS not loaded, scheduling load and callback at\", now());\n    root._bokeh_is_loading = css_urls.length + js_urls.length;\n\n    function on_load() {\n      root._bokeh_is_loading--;\n      if (root._bokeh_is_loading === 0) {\n        console.debug(\"Bokeh: all BokehJS libraries/stylesheets loaded\");\n        run_callbacks()\n      }\n    }\n\n    function on_error(url) {\n      console.error(\"failed to load \" + url);\n    }\n\n    for (let i = 0; i < css_urls.length; i++) {\n      const url = css_urls[i];\n      const element = document.createElement(\"link\");\n      element.onload = on_load;\n      element.onerror = on_error.bind(null, url);\n      element.rel = \"stylesheet\";\n      element.type = \"text/css\";\n      element.href = url;\n      console.debug(\"Bokeh: injecting link tag for BokehJS stylesheet: \", url);\n      document.body.appendChild(element);\n    }\n\n    const hashes = {\"https://cdn.bokeh.org/bokeh/release/bokeh-2.3.2.min.js\": \"XypntL49z55iwGVUW4qsEu83zKL3XEcz0MjuGOQ9SlaaQ68X/g+k1FcioZi7oQAc\", \"https://cdn.bokeh.org/bokeh/release/bokeh-tables-2.3.2.min.js\": \"bEsM86IHGDTLCS0Zod8a8WM6Y4+lafAL/eSiyQcuPzinmWNgNO2/olUF0Z2Dkn5i\", \"https://cdn.bokeh.org/bokeh/release/bokeh-widgets-2.3.2.min.js\": \"TX0gSQTdXTTeScqxj6PVQxTiRW8DOoGVwinyi1D3kxv7wuxQ02XkOxv0xwiypcAH\"};\n\n    for (let i = 0; i < js_urls.length; i++) {\n      const url = js_urls[i];\n      const element = document.createElement('script');\n      element.onload = on_load;\n      element.onerror = on_error.bind(null, url);\n      element.async = false;\n      element.src = url;\n      if (url in hashes) {\n        element.crossOrigin = \"anonymous\";\n        element.integrity = \"sha384-\" + hashes[url];\n      }\n      console.debug(\"Bokeh: injecting script tag for BokehJS library: \", url);\n      document.head.appendChild(element);\n    }\n  };\n\n  function inject_raw_css(css) {\n    const element = document.createElement(\"style\");\n    element.appendChild(document.createTextNode(css));\n    document.body.appendChild(element);\n  }\n\n  \n  var js_urls = [\"https://cdn.bokeh.org/bokeh/release/bokeh-2.3.2.min.js\", \"https://cdn.bokeh.org/bokeh/release/bokeh-widgets-2.3.2.min.js\", \"https://cdn.bokeh.org/bokeh/release/bokeh-tables-2.3.2.min.js\"];\n  var css_urls = [];\n  \n\n  var inline_js = [\n    function(Bokeh) {\n      Bokeh.set_log_level(\"info\");\n    },\n    function(Bokeh) {\n    \n    \n    }\n  ];\n\n  function run_inline_js() {\n    \n    if (root.Bokeh !== undefined || force === true) {\n      \n    for (var i = 0; i < inline_js.length; i++) {\n      inline_js[i].call(root, root.Bokeh);\n    }\n    if (force === true) {\n        display_loaded();\n      }} else if (Date.now() < root._bokeh_timeout) {\n      setTimeout(run_inline_js, 100);\n    } else if (!root._bokeh_failed_load) {\n      console.log(\"Bokeh: BokehJS failed to load within specified timeout.\");\n      root._bokeh_failed_load = true;\n    } else if (force !== true) {\n      var cell = $(document.getElementById(\"1002\")).parents('.cell').data().cell;\n      cell.output_area.append_execute_result(NB_LOAD_WARNING)\n    }\n\n  }\n\n  if (root._bokeh_is_loading === 0) {\n    console.debug(\"Bokeh: BokehJS loaded, going straight to plotting\");\n    run_inline_js();\n  } else {\n    load_libs(css_urls, js_urls, function() {\n      console.debug(\"Bokeh: BokehJS plotting callback run at\", now());\n      run_inline_js();\n    });\n  }\n}(window));",
      "application/vnd.bokehjs_load.v0+json": "\n(function(root) {\n  function now() {\n    return new Date();\n  }\n\n  var force = true;\n\n  if (typeof root._bokeh_onload_callbacks === \"undefined\" || force === true) {\n    root._bokeh_onload_callbacks = [];\n    root._bokeh_is_loading = undefined;\n  }\n\n  \n\n  \n  if (typeof (root._bokeh_timeout) === \"undefined\" || force === true) {\n    root._bokeh_timeout = Date.now() + 5000;\n    root._bokeh_failed_load = false;\n  }\n\n  var NB_LOAD_WARNING = {'data': {'text/html':\n     \"<div style='background-color: #fdd'>\\n\"+\n     \"<p>\\n\"+\n     \"BokehJS does not appear to have successfully loaded. If loading BokehJS from CDN, this \\n\"+\n     \"may be due to a slow or bad network connection. Possible fixes:\\n\"+\n     \"</p>\\n\"+\n     \"<ul>\\n\"+\n     \"<li>re-rerun `output_notebook()` to attempt to load from CDN again, or</li>\\n\"+\n     \"<li>use INLINE resources instead, as so:</li>\\n\"+\n     \"</ul>\\n\"+\n     \"<code>\\n\"+\n     \"from bokeh.resources import INLINE\\n\"+\n     \"output_notebook(resources=INLINE)\\n\"+\n     \"</code>\\n\"+\n     \"</div>\"}};\n\n  function display_loaded() {\n    var el = document.getElementById(\"1002\");\n    if (el != null) {\n      el.textContent = \"BokehJS is loading...\";\n    }\n    if (root.Bokeh !== undefined) {\n      if (el != null) {\n        el.textContent = \"BokehJS \" + root.Bokeh.version + \" successfully loaded.\";\n      }\n    } else if (Date.now() < root._bokeh_timeout) {\n      setTimeout(display_loaded, 100)\n    }\n  }\n\n\n  function run_callbacks() {\n    try {\n      root._bokeh_onload_callbacks.forEach(function(callback) {\n        if (callback != null)\n          callback();\n      });\n    } finally {\n      delete root._bokeh_onload_callbacks\n    }\n    console.debug(\"Bokeh: all callbacks have finished\");\n  }\n\n  function load_libs(css_urls, js_urls, callback) {\n    if (css_urls == null) css_urls = [];\n    if (js_urls == null) js_urls = [];\n\n    root._bokeh_onload_callbacks.push(callback);\n    if (root._bokeh_is_loading > 0) {\n      console.debug(\"Bokeh: BokehJS is being loaded, scheduling callback at\", now());\n      return null;\n    }\n    if (js_urls == null || js_urls.length === 0) {\n      run_callbacks();\n      return null;\n    }\n    console.debug(\"Bokeh: BokehJS not loaded, scheduling load and callback at\", now());\n    root._bokeh_is_loading = css_urls.length + js_urls.length;\n\n    function on_load() {\n      root._bokeh_is_loading--;\n      if (root._bokeh_is_loading === 0) {\n        console.debug(\"Bokeh: all BokehJS libraries/stylesheets loaded\");\n        run_callbacks()\n      }\n    }\n\n    function on_error(url) {\n      console.error(\"failed to load \" + url);\n    }\n\n    for (let i = 0; i < css_urls.length; i++) {\n      const url = css_urls[i];\n      const element = document.createElement(\"link\");\n      element.onload = on_load;\n      element.onerror = on_error.bind(null, url);\n      element.rel = \"stylesheet\";\n      element.type = \"text/css\";\n      element.href = url;\n      console.debug(\"Bokeh: injecting link tag for BokehJS stylesheet: \", url);\n      document.body.appendChild(element);\n    }\n\n    const hashes = {\"https://cdn.bokeh.org/bokeh/release/bokeh-2.3.2.min.js\": \"XypntL49z55iwGVUW4qsEu83zKL3XEcz0MjuGOQ9SlaaQ68X/g+k1FcioZi7oQAc\", \"https://cdn.bokeh.org/bokeh/release/bokeh-tables-2.3.2.min.js\": \"bEsM86IHGDTLCS0Zod8a8WM6Y4+lafAL/eSiyQcuPzinmWNgNO2/olUF0Z2Dkn5i\", \"https://cdn.bokeh.org/bokeh/release/bokeh-widgets-2.3.2.min.js\": \"TX0gSQTdXTTeScqxj6PVQxTiRW8DOoGVwinyi1D3kxv7wuxQ02XkOxv0xwiypcAH\"};\n\n    for (let i = 0; i < js_urls.length; i++) {\n      const url = js_urls[i];\n      const element = document.createElement('script');\n      element.onload = on_load;\n      element.onerror = on_error.bind(null, url);\n      element.async = false;\n      element.src = url;\n      if (url in hashes) {\n        element.crossOrigin = \"anonymous\";\n        element.integrity = \"sha384-\" + hashes[url];\n      }\n      console.debug(\"Bokeh: injecting script tag for BokehJS library: \", url);\n      document.head.appendChild(element);\n    }\n  };\n\n  function inject_raw_css(css) {\n    const element = document.createElement(\"style\");\n    element.appendChild(document.createTextNode(css));\n    document.body.appendChild(element);\n  }\n\n  \n  var js_urls = [\"https://cdn.bokeh.org/bokeh/release/bokeh-2.3.2.min.js\", \"https://cdn.bokeh.org/bokeh/release/bokeh-widgets-2.3.2.min.js\", \"https://cdn.bokeh.org/bokeh/release/bokeh-tables-2.3.2.min.js\"];\n  var css_urls = [];\n  \n\n  var inline_js = [\n    function(Bokeh) {\n      Bokeh.set_log_level(\"info\");\n    },\n    function(Bokeh) {\n    \n    \n    }\n  ];\n\n  function run_inline_js() {\n    \n    if (root.Bokeh !== undefined || force === true) {\n      \n    for (var i = 0; i < inline_js.length; i++) {\n      inline_js[i].call(root, root.Bokeh);\n    }\n    if (force === true) {\n        display_loaded();\n      }} else if (Date.now() < root._bokeh_timeout) {\n      setTimeout(run_inline_js, 100);\n    } else if (!root._bokeh_failed_load) {\n      console.log(\"Bokeh: BokehJS failed to load within specified timeout.\");\n      root._bokeh_failed_load = true;\n    } else if (force !== true) {\n      var cell = $(document.getElementById(\"1002\")).parents('.cell').data().cell;\n      cell.output_area.append_execute_result(NB_LOAD_WARNING)\n    }\n\n  }\n\n  if (root._bokeh_is_loading === 0) {\n    console.debug(\"Bokeh: BokehJS loaded, going straight to plotting\");\n    run_inline_js();\n  } else {\n    load_libs(css_urls, js_urls, function() {\n      console.debug(\"Bokeh: BokehJS plotting callback run at\", now());\n      run_inline_js();\n    });\n  }\n}(window));"
     },
     "metadata": {}
    }
   ],
   "source": [
    "import numpy as np\n",
    "import pandas as pd\n",
    "import yfinance as yf\n",
    "import talib\n",
    "\n",
    "from backtesting import Backtest, Strategy \n",
    "from backtesting.lib import crossover\n",
    "from backtesting.test import SMA"
   ]
  },
  {
   "cell_type": "code",
   "execution_count": 2,
   "metadata": {},
   "outputs": [
    {
     "output_type": "stream",
     "name": "stdout",
     "text": [
      "[*********************100%***********************]  7 of 7 completed\n"
     ]
    }
   ],
   "source": [
    "tickers = [\"NVDA\", \"VOO\", \"VUG\", \"SE\", \"CRWD\", \"TSM\", \"MSFT\"]\n",
    "hist = yf.download(\n",
    "    tickers=\" \".join(tickers),\n",
    "    period=\"2y\",\n",
    "    # group_by=\"ticker\"\n",
    ")"
   ]
  },
  {
   "cell_type": "code",
   "execution_count": 3,
   "metadata": {},
   "outputs": [
    {
     "output_type": "execute_result",
     "data": {
      "text/plain": [
       "                  CRWD        MSFT        NVDA          SE         TSM  \\\n",
       "Date                                                                     \n",
       "2019-06-24   67.970001  134.799957  152.058212   34.189999   38.107178   \n",
       "2019-06-25   61.520000  130.544037  150.882843   33.419998   37.096825   \n",
       "2019-06-26   62.650002  131.033249  158.632156   33.810001   37.249325   \n",
       "2019-06-27   63.279999  131.248459  162.586533   33.770000   37.735443   \n",
       "2019-06-28   68.290001  131.062592  163.582581   33.220001   37.335114   \n",
       "...                ...         ...         ...         ...         ...   \n",
       "2021-06-18  244.910004  259.429993  745.549988  282.489990  115.790001   \n",
       "2021-06-21  237.679993  262.630005  737.090027  281.059998  114.139999   \n",
       "2021-06-22  256.609985  265.510010  755.469971  280.869995  114.330002   \n",
       "2021-06-23  252.899994  265.269989  762.289978  280.880005  116.050003   \n",
       "2021-06-24  254.300003  266.734985  770.869995  291.839996  116.879997   \n",
       "\n",
       "                   VOO         VUG  \n",
       "Date                                \n",
       "2019-06-24  261.347595  161.681015  \n",
       "2019-06-25  258.763611  159.273712  \n",
       "2019-06-26  258.512939  159.450577  \n",
       "2019-06-27  259.420135  160.221863  \n",
       "2019-06-28  260.854492  160.950821  \n",
       "...                ...         ...  \n",
       "2021-06-18  382.820007  277.059998  \n",
       "2021-06-21  388.179993  279.420013  \n",
       "2021-06-22  390.239990  282.329987  \n",
       "2021-06-23  389.820007  282.540009  \n",
       "2021-06-24  391.915009  284.440002  \n",
       "\n",
       "[506 rows x 7 columns]"
      ],
      "text/html": "<div>\n<style scoped>\n    .dataframe tbody tr th:only-of-type {\n        vertical-align: middle;\n    }\n\n    .dataframe tbody tr th {\n        vertical-align: top;\n    }\n\n    .dataframe thead th {\n        text-align: right;\n    }\n</style>\n<table border=\"1\" class=\"dataframe\">\n  <thead>\n    <tr style=\"text-align: right;\">\n      <th></th>\n      <th>CRWD</th>\n      <th>MSFT</th>\n      <th>NVDA</th>\n      <th>SE</th>\n      <th>TSM</th>\n      <th>VOO</th>\n      <th>VUG</th>\n    </tr>\n    <tr>\n      <th>Date</th>\n      <th></th>\n      <th></th>\n      <th></th>\n      <th></th>\n      <th></th>\n      <th></th>\n      <th></th>\n    </tr>\n  </thead>\n  <tbody>\n    <tr>\n      <th>2019-06-24</th>\n      <td>67.970001</td>\n      <td>134.799957</td>\n      <td>152.058212</td>\n      <td>34.189999</td>\n      <td>38.107178</td>\n      <td>261.347595</td>\n      <td>161.681015</td>\n    </tr>\n    <tr>\n      <th>2019-06-25</th>\n      <td>61.520000</td>\n      <td>130.544037</td>\n      <td>150.882843</td>\n      <td>33.419998</td>\n      <td>37.096825</td>\n      <td>258.763611</td>\n      <td>159.273712</td>\n    </tr>\n    <tr>\n      <th>2019-06-26</th>\n      <td>62.650002</td>\n      <td>131.033249</td>\n      <td>158.632156</td>\n      <td>33.810001</td>\n      <td>37.249325</td>\n      <td>258.512939</td>\n      <td>159.450577</td>\n    </tr>\n    <tr>\n      <th>2019-06-27</th>\n      <td>63.279999</td>\n      <td>131.248459</td>\n      <td>162.586533</td>\n      <td>33.770000</td>\n      <td>37.735443</td>\n      <td>259.420135</td>\n      <td>160.221863</td>\n    </tr>\n    <tr>\n      <th>2019-06-28</th>\n      <td>68.290001</td>\n      <td>131.062592</td>\n      <td>163.582581</td>\n      <td>33.220001</td>\n      <td>37.335114</td>\n      <td>260.854492</td>\n      <td>160.950821</td>\n    </tr>\n    <tr>\n      <th>...</th>\n      <td>...</td>\n      <td>...</td>\n      <td>...</td>\n      <td>...</td>\n      <td>...</td>\n      <td>...</td>\n      <td>...</td>\n    </tr>\n    <tr>\n      <th>2021-06-18</th>\n      <td>244.910004</td>\n      <td>259.429993</td>\n      <td>745.549988</td>\n      <td>282.489990</td>\n      <td>115.790001</td>\n      <td>382.820007</td>\n      <td>277.059998</td>\n    </tr>\n    <tr>\n      <th>2021-06-21</th>\n      <td>237.679993</td>\n      <td>262.630005</td>\n      <td>737.090027</td>\n      <td>281.059998</td>\n      <td>114.139999</td>\n      <td>388.179993</td>\n      <td>279.420013</td>\n    </tr>\n    <tr>\n      <th>2021-06-22</th>\n      <td>256.609985</td>\n      <td>265.510010</td>\n      <td>755.469971</td>\n      <td>280.869995</td>\n      <td>114.330002</td>\n      <td>390.239990</td>\n      <td>282.329987</td>\n    </tr>\n    <tr>\n      <th>2021-06-23</th>\n      <td>252.899994</td>\n      <td>265.269989</td>\n      <td>762.289978</td>\n      <td>280.880005</td>\n      <td>116.050003</td>\n      <td>389.820007</td>\n      <td>282.540009</td>\n    </tr>\n    <tr>\n      <th>2021-06-24</th>\n      <td>254.300003</td>\n      <td>266.734985</td>\n      <td>770.869995</td>\n      <td>291.839996</td>\n      <td>116.879997</td>\n      <td>391.915009</td>\n      <td>284.440002</td>\n    </tr>\n  </tbody>\n</table>\n<p>506 rows × 7 columns</p>\n</div>"
     },
     "metadata": {},
     "execution_count": 3
    }
   ],
   "source": [
    "hist['Adj Close']"
   ]
  },
  {
   "cell_type": "code",
   "execution_count": 4,
   "metadata": {},
   "outputs": [],
   "source": [
    "from pypfopt import EfficientFrontier\n",
    "from pypfopt import risk_models\n",
    "from pypfopt import expected_returns"
   ]
  },
  {
   "cell_type": "code",
   "execution_count": 5,
   "metadata": {},
   "outputs": [],
   "source": [
    "mu = expected_returns.mean_historical_return(hist['Adj Close'])\n",
    "S = risk_models.sample_cov(hist['Adj Close'])"
   ]
  },
  {
   "cell_type": "code",
   "execution_count": 6,
   "metadata": {},
   "outputs": [
    {
     "output_type": "execute_result",
     "data": {
      "text/plain": [
       "CRWD    0.931733\n",
       "MSFT    0.405729\n",
       "NVDA    1.247955\n",
       "SE      1.915418\n",
       "TSM     0.749383\n",
       "VOO     0.224087\n",
       "VUG     0.325632\n",
       "dtype: float64"
      ]
     },
     "metadata": {},
     "execution_count": 6
    }
   ],
   "source": [
    "mu"
   ]
  },
  {
   "cell_type": "code",
   "execution_count": 7,
   "metadata": {},
   "outputs": [
    {
     "output_type": "execute_result",
     "data": {
      "text/plain": [
       "          CRWD      MSFT      NVDA        SE       TSM       VOO       VUG\n",
       "CRWD  0.430108  0.095570  0.146399  0.159748  0.084159  0.058627  0.080635\n",
       "MSFT  0.095570  0.116725  0.132307  0.109550  0.081292  0.076213  0.086777\n",
       "NVDA  0.146399  0.132307  0.245717  0.163393  0.125613  0.095127  0.112493\n",
       "SE    0.159748  0.109550  0.163393  0.341583  0.110109  0.078071  0.096153\n",
       "TSM   0.084159  0.081292  0.125613  0.110109  0.156807  0.066074  0.072992\n",
       "VOO   0.058627  0.076213  0.095127  0.078071  0.066074  0.067572  0.068435\n",
       "VUG   0.080635  0.086777  0.112493  0.096153  0.072992  0.068435  0.075643"
      ],
      "text/html": "<div>\n<style scoped>\n    .dataframe tbody tr th:only-of-type {\n        vertical-align: middle;\n    }\n\n    .dataframe tbody tr th {\n        vertical-align: top;\n    }\n\n    .dataframe thead th {\n        text-align: right;\n    }\n</style>\n<table border=\"1\" class=\"dataframe\">\n  <thead>\n    <tr style=\"text-align: right;\">\n      <th></th>\n      <th>CRWD</th>\n      <th>MSFT</th>\n      <th>NVDA</th>\n      <th>SE</th>\n      <th>TSM</th>\n      <th>VOO</th>\n      <th>VUG</th>\n    </tr>\n  </thead>\n  <tbody>\n    <tr>\n      <th>CRWD</th>\n      <td>0.430108</td>\n      <td>0.095570</td>\n      <td>0.146399</td>\n      <td>0.159748</td>\n      <td>0.084159</td>\n      <td>0.058627</td>\n      <td>0.080635</td>\n    </tr>\n    <tr>\n      <th>MSFT</th>\n      <td>0.095570</td>\n      <td>0.116725</td>\n      <td>0.132307</td>\n      <td>0.109550</td>\n      <td>0.081292</td>\n      <td>0.076213</td>\n      <td>0.086777</td>\n    </tr>\n    <tr>\n      <th>NVDA</th>\n      <td>0.146399</td>\n      <td>0.132307</td>\n      <td>0.245717</td>\n      <td>0.163393</td>\n      <td>0.125613</td>\n      <td>0.095127</td>\n      <td>0.112493</td>\n    </tr>\n    <tr>\n      <th>SE</th>\n      <td>0.159748</td>\n      <td>0.109550</td>\n      <td>0.163393</td>\n      <td>0.341583</td>\n      <td>0.110109</td>\n      <td>0.078071</td>\n      <td>0.096153</td>\n    </tr>\n    <tr>\n      <th>TSM</th>\n      <td>0.084159</td>\n      <td>0.081292</td>\n      <td>0.125613</td>\n      <td>0.110109</td>\n      <td>0.156807</td>\n      <td>0.066074</td>\n      <td>0.072992</td>\n    </tr>\n    <tr>\n      <th>VOO</th>\n      <td>0.058627</td>\n      <td>0.076213</td>\n      <td>0.095127</td>\n      <td>0.078071</td>\n      <td>0.066074</td>\n      <td>0.067572</td>\n      <td>0.068435</td>\n    </tr>\n    <tr>\n      <th>VUG</th>\n      <td>0.080635</td>\n      <td>0.086777</td>\n      <td>0.112493</td>\n      <td>0.096153</td>\n      <td>0.072992</td>\n      <td>0.068435</td>\n      <td>0.075643</td>\n    </tr>\n  </tbody>\n</table>\n</div>"
     },
     "metadata": {},
     "execution_count": 7
    }
   ],
   "source": [
    "S"
   ]
  },
  {
   "cell_type": "code",
   "execution_count": 8,
   "metadata": {},
   "outputs": [
    {
     "output_type": "stream",
     "name": "stdout",
     "text": [
      "OrderedDict([('CRWD', 0.0), ('MSFT', 0.0), ('NVDA', 0.29279), ('SE', 0.70721), ('TSM', 0.0), ('VOO', 0.0), ('VUG', 0.0)])\nExpected annual return: 172.0%\nAnnual volatility: 50.9%\nSharpe Ratio: 3.34\n"
     ]
    },
    {
     "output_type": "execute_result",
     "data": {
      "text/plain": [
       "(1.7199929126878906, 0.5094817056515523, 3.3367104134069923)"
      ]
     },
     "metadata": {},
     "execution_count": 8
    }
   ],
   "source": [
    "ef = EfficientFrontier(mu, S)\n",
    "raw_weights = ef.max_sharpe()\n",
    "cleaned_weights = ef.clean_weights()\n",
    "ef.save_weights_to_file(\"weights.csv\")\n",
    "print(cleaned_weights)\n",
    "ef.portfolio_performance(verbose=True)"
   ]
  },
  {
   "cell_type": "code",
   "execution_count": 9,
   "metadata": {},
   "outputs": [],
   "source": [
    "from pypfopt.discrete_allocation import DiscreteAllocation, get_latest_prices"
   ]
  },
  {
   "cell_type": "code",
   "execution_count": 10,
   "metadata": {},
   "outputs": [],
   "source": [
    "latest_prices = get_latest_prices(hist['Adj Close'])"
   ]
  },
  {
   "cell_type": "code",
   "execution_count": 11,
   "metadata": {},
   "outputs": [],
   "source": [
    "da = DiscreteAllocation(cleaned_weights, latest_prices, total_portfolio_value=10_000)\n",
    "allocation, leftover = da.greedy_portfolio()"
   ]
  },
  {
   "cell_type": "code",
   "execution_count": 12,
   "metadata": {},
   "outputs": [
    {
     "output_type": "stream",
     "name": "stdout",
     "text": [
      "Discrete allocation: {'SE': 24, 'NVDA': 3}\nFunds remaining: $683.23\n"
     ]
    }
   ],
   "source": [
    "print(\"Discrete allocation:\", allocation)\n",
    "print(\"Funds remaining: ${:.2f}\".format(leftover))"
   ]
  },
  {
   "cell_type": "code",
   "execution_count": 13,
   "metadata": {},
   "outputs": [
    {
     "output_type": "stream",
     "name": "stdout",
     "text": [
      "Expected annual return: 171.6%\nAnnual volatility: 50.8%\nSharpe Ratio: 3.34\n"
     ]
    },
    {
     "output_type": "display_data",
     "data": {
      "text/plain": "<Figure size 432x288 with 1 Axes>",
      "image/svg+xml": "<?xml version=\"1.0\" encoding=\"utf-8\" standalone=\"no\"?>\n<!DOCTYPE svg PUBLIC \"-//W3C//DTD SVG 1.1//EN\"\n  \"http://www.w3.org/Graphics/SVG/1.1/DTD/svg11.dtd\">\n<svg height=\"280.15625pt\" version=\"1.1\" viewBox=\"0 0 424.36875 280.15625\" width=\"424.36875pt\" xmlns=\"http://www.w3.org/2000/svg\" xmlns:xlink=\"http://www.w3.org/1999/xlink\">\n <metadata>\n  <rdf:RDF xmlns:cc=\"http://creativecommons.org/ns#\" xmlns:dc=\"http://purl.org/dc/elements/1.1/\" xmlns:rdf=\"http://www.w3.org/1999/02/22-rdf-syntax-ns#\">\n   <cc:Work>\n    <dc:type rdf:resource=\"http://purl.org/dc/dcmitype/StillImage\"/>\n    <dc:date>2021-06-24T14:12:34.654153</dc:date>\n    <dc:format>image/svg+xml</dc:format>\n    <dc:creator>\n     <cc:Agent>\n      <dc:title>Matplotlib v3.4.2, https://matplotlib.org/</dc:title>\n     </cc:Agent>\n    </dc:creator>\n   </cc:Work>\n  </rdf:RDF>\n </metadata>\n <defs>\n  <style type=\"text/css\">*{stroke-linecap:butt;stroke-linejoin:round;}</style>\n </defs>\n <g id=\"figure_1\">\n  <g id=\"patch_1\">\n   <path d=\"M 0 280.15625 \nL 424.36875 280.15625 \nL 424.36875 0 \nL 0 0 \nz\n\" style=\"fill:none;\"/>\n  </g>\n  <g id=\"axes_1\">\n   <g id=\"patch_2\">\n    <path d=\"M 50.14375 242.6 \nL 417.16875 242.6 \nL 417.16875 7.2 \nL 50.14375 7.2 \nz\n\" style=\"fill:#ffffff;\"/>\n   </g>\n   <g id=\"PathCollection_1\">\n    <defs>\n     <path d=\"M -5 5 \nL 5 -5 \nM -5 -5 \nL 5 5 \n\" id=\"m594ca3713b\" style=\"stroke:#ff0000;stroke-width:1.5;\"/>\n    </defs>\n    <g clip-path=\"url(#p1058c72d0f)\">\n     <use style=\"fill:#ff0000;stroke:#ff0000;stroke-width:1.5;\" x=\"276.375328\" xlink:href=\"#m594ca3713b\" y=\"43.079603\"/>\n    </g>\n   </g>\n   <g id=\"PathCollection_2\">\n    <defs>\n     <path d=\"M 0 2.738613 \nC 0.726289 2.738613 1.422928 2.450055 1.936492 1.936492 \nC 2.450055 1.422928 2.738613 0.726289 2.738613 0 \nC 2.738613 -0.726289 2.450055 -1.422928 1.936492 -1.936492 \nC 1.422928 -2.450055 0.726289 -2.738613 0 -2.738613 \nC -0.726289 -2.738613 -1.422928 -2.450055 -1.936492 -1.936492 \nC -2.450055 -1.422928 -2.738613 -0.726289 -2.738613 0 \nC -2.738613 0.726289 -2.450055 1.422928 -1.936492 1.936492 \nC -1.422928 2.450055 -0.726289 2.738613 0 2.738613 \nz\n\" id=\"mf6dcec2e10\" style=\"stroke:#000000;\"/>\n    </defs>\n    <g clip-path=\"url(#p1058c72d0f)\">\n     <use style=\"stroke:#000000;\" x=\"400.485795\" xlink:href=\"#mf6dcec2e10\" y=\"142.363261\"/>\n     <use style=\"stroke:#000000;\" x=\"135.970009\" xlink:href=\"#mf6dcec2e10\" y=\"208.917314\"/>\n     <use style=\"stroke:#000000;\" x=\"265.668582\" xlink:href=\"#mf6dcec2e10\" y=\"102.352482\"/>\n     <use style=\"stroke:#000000;\" x=\"340.392511\" xlink:href=\"#mf6dcec2e10\" y=\"17.9\"/>\n     <use style=\"stroke:#000000;\" x=\"181.719442\" xlink:href=\"#mf6dcec2e10\" y=\"165.435677\"/>\n     <use style=\"stroke:#000000;\" x=\"67.180932\" xlink:href=\"#mf6dcec2e10\" y=\"231.9\"/>\n     <use style=\"stroke:#000000;\" x=\"79.882255\" xlink:href=\"#mf6dcec2e10\" y=\"219.05184\"/>\n    </g>\n   </g>\n   <g id=\"matplotlib.axis_1\">\n    <g id=\"xtick_1\">\n     <g id=\"line2d_1\">\n      <defs>\n       <path d=\"M 0 0 \nL 0 3.5 \n\" id=\"m5ef111594c\" style=\"stroke:#000000;stroke-width:0.8;\"/>\n      </defs>\n      <g>\n       <use style=\"stroke:#000000;stroke-width:0.8;\" x=\"58.806951\" xlink:href=\"#m5ef111594c\" y=\"242.6\"/>\n      </g>\n     </g>\n     <g id=\"text_1\">\n      <!-- 0.25 -->\n      <g transform=\"translate(47.674138 257.198437)scale(0.1 -0.1)\">\n       <defs>\n        <path d=\"M 2034 4250 \nQ 1547 4250 1301 3770 \nQ 1056 3291 1056 2328 \nQ 1056 1369 1301 889 \nQ 1547 409 2034 409 \nQ 2525 409 2770 889 \nQ 3016 1369 3016 2328 \nQ 3016 3291 2770 3770 \nQ 2525 4250 2034 4250 \nz\nM 2034 4750 \nQ 2819 4750 3233 4129 \nQ 3647 3509 3647 2328 \nQ 3647 1150 3233 529 \nQ 2819 -91 2034 -91 \nQ 1250 -91 836 529 \nQ 422 1150 422 2328 \nQ 422 3509 836 4129 \nQ 1250 4750 2034 4750 \nz\n\" id=\"DejaVuSans-30\" transform=\"scale(0.015625)\"/>\n        <path d=\"M 684 794 \nL 1344 794 \nL 1344 0 \nL 684 0 \nL 684 794 \nz\n\" id=\"DejaVuSans-2e\" transform=\"scale(0.015625)\"/>\n        <path d=\"M 1228 531 \nL 3431 531 \nL 3431 0 \nL 469 0 \nL 469 531 \nQ 828 903 1448 1529 \nQ 2069 2156 2228 2338 \nQ 2531 2678 2651 2914 \nQ 2772 3150 2772 3378 \nQ 2772 3750 2511 3984 \nQ 2250 4219 1831 4219 \nQ 1534 4219 1204 4116 \nQ 875 4013 500 3803 \nL 500 4441 \nQ 881 4594 1212 4672 \nQ 1544 4750 1819 4750 \nQ 2544 4750 2975 4387 \nQ 3406 4025 3406 3419 \nQ 3406 3131 3298 2873 \nQ 3191 2616 2906 2266 \nQ 2828 2175 2409 1742 \nQ 1991 1309 1228 531 \nz\n\" id=\"DejaVuSans-32\" transform=\"scale(0.015625)\"/>\n        <path d=\"M 691 4666 \nL 3169 4666 \nL 3169 4134 \nL 1269 4134 \nL 1269 2991 \nQ 1406 3038 1543 3061 \nQ 1681 3084 1819 3084 \nQ 2600 3084 3056 2656 \nQ 3513 2228 3513 1497 \nQ 3513 744 3044 326 \nQ 2575 -91 1722 -91 \nQ 1428 -91 1123 -41 \nQ 819 9 494 109 \nL 494 744 \nQ 775 591 1075 516 \nQ 1375 441 1709 441 \nQ 2250 441 2565 725 \nQ 2881 1009 2881 1497 \nQ 2881 1984 2565 2268 \nQ 2250 2553 1709 2553 \nQ 1456 2553 1204 2497 \nQ 953 2441 691 2322 \nL 691 4666 \nz\n\" id=\"DejaVuSans-35\" transform=\"scale(0.015625)\"/>\n       </defs>\n       <use xlink:href=\"#DejaVuSans-30\"/>\n       <use x=\"63.623047\" xlink:href=\"#DejaVuSans-2e\"/>\n       <use x=\"95.410156\" xlink:href=\"#DejaVuSans-32\"/>\n       <use x=\"159.033203\" xlink:href=\"#DejaVuSans-35\"/>\n      </g>\n     </g>\n    </g>\n    <g id=\"xtick_2\">\n     <g id=\"line2d_2\">\n      <g>\n       <use style=\"stroke:#000000;stroke-width:0.8;\" x=\"100.903631\" xlink:href=\"#m5ef111594c\" y=\"242.6\"/>\n      </g>\n     </g>\n     <g id=\"text_2\">\n      <!-- 0.30 -->\n      <g transform=\"translate(89.770818 257.198437)scale(0.1 -0.1)\">\n       <defs>\n        <path d=\"M 2597 2516 \nQ 3050 2419 3304 2112 \nQ 3559 1806 3559 1356 \nQ 3559 666 3084 287 \nQ 2609 -91 1734 -91 \nQ 1441 -91 1130 -33 \nQ 819 25 488 141 \nL 488 750 \nQ 750 597 1062 519 \nQ 1375 441 1716 441 \nQ 2309 441 2620 675 \nQ 2931 909 2931 1356 \nQ 2931 1769 2642 2001 \nQ 2353 2234 1838 2234 \nL 1294 2234 \nL 1294 2753 \nL 1863 2753 \nQ 2328 2753 2575 2939 \nQ 2822 3125 2822 3475 \nQ 2822 3834 2567 4026 \nQ 2313 4219 1838 4219 \nQ 1578 4219 1281 4162 \nQ 984 4106 628 3988 \nL 628 4550 \nQ 988 4650 1302 4700 \nQ 1616 4750 1894 4750 \nQ 2613 4750 3031 4423 \nQ 3450 4097 3450 3541 \nQ 3450 3153 3228 2886 \nQ 3006 2619 2597 2516 \nz\n\" id=\"DejaVuSans-33\" transform=\"scale(0.015625)\"/>\n       </defs>\n       <use xlink:href=\"#DejaVuSans-30\"/>\n       <use x=\"63.623047\" xlink:href=\"#DejaVuSans-2e\"/>\n       <use x=\"95.410156\" xlink:href=\"#DejaVuSans-33\"/>\n       <use x=\"159.033203\" xlink:href=\"#DejaVuSans-30\"/>\n      </g>\n     </g>\n    </g>\n    <g id=\"xtick_3\">\n     <g id=\"line2d_3\">\n      <g>\n       <use style=\"stroke:#000000;stroke-width:0.8;\" x=\"143.000311\" xlink:href=\"#m5ef111594c\" y=\"242.6\"/>\n      </g>\n     </g>\n     <g id=\"text_3\">\n      <!-- 0.35 -->\n      <g transform=\"translate(131.867499 257.198437)scale(0.1 -0.1)\">\n       <use xlink:href=\"#DejaVuSans-30\"/>\n       <use x=\"63.623047\" xlink:href=\"#DejaVuSans-2e\"/>\n       <use x=\"95.410156\" xlink:href=\"#DejaVuSans-33\"/>\n       <use x=\"159.033203\" xlink:href=\"#DejaVuSans-35\"/>\n      </g>\n     </g>\n    </g>\n    <g id=\"xtick_4\">\n     <g id=\"line2d_4\">\n      <g>\n       <use style=\"stroke:#000000;stroke-width:0.8;\" x=\"185.096992\" xlink:href=\"#m5ef111594c\" y=\"242.6\"/>\n      </g>\n     </g>\n     <g id=\"text_4\">\n      <!-- 0.40 -->\n      <g transform=\"translate(173.964179 257.198437)scale(0.1 -0.1)\">\n       <defs>\n        <path d=\"M 2419 4116 \nL 825 1625 \nL 2419 1625 \nL 2419 4116 \nz\nM 2253 4666 \nL 3047 4666 \nL 3047 1625 \nL 3713 1625 \nL 3713 1100 \nL 3047 1100 \nL 3047 0 \nL 2419 0 \nL 2419 1100 \nL 313 1100 \nL 313 1709 \nL 2253 4666 \nz\n\" id=\"DejaVuSans-34\" transform=\"scale(0.015625)\"/>\n       </defs>\n       <use xlink:href=\"#DejaVuSans-30\"/>\n       <use x=\"63.623047\" xlink:href=\"#DejaVuSans-2e\"/>\n       <use x=\"95.410156\" xlink:href=\"#DejaVuSans-34\"/>\n       <use x=\"159.033203\" xlink:href=\"#DejaVuSans-30\"/>\n      </g>\n     </g>\n    </g>\n    <g id=\"xtick_5\">\n     <g id=\"line2d_5\">\n      <g>\n       <use style=\"stroke:#000000;stroke-width:0.8;\" x=\"227.193672\" xlink:href=\"#m5ef111594c\" y=\"242.6\"/>\n      </g>\n     </g>\n     <g id=\"text_5\">\n      <!-- 0.45 -->\n      <g transform=\"translate(216.06086 257.198437)scale(0.1 -0.1)\">\n       <use xlink:href=\"#DejaVuSans-30\"/>\n       <use x=\"63.623047\" xlink:href=\"#DejaVuSans-2e\"/>\n       <use x=\"95.410156\" xlink:href=\"#DejaVuSans-34\"/>\n       <use x=\"159.033203\" xlink:href=\"#DejaVuSans-35\"/>\n      </g>\n     </g>\n    </g>\n    <g id=\"xtick_6\">\n     <g id=\"line2d_6\">\n      <g>\n       <use style=\"stroke:#000000;stroke-width:0.8;\" x=\"269.290353\" xlink:href=\"#m5ef111594c\" y=\"242.6\"/>\n      </g>\n     </g>\n     <g id=\"text_6\">\n      <!-- 0.50 -->\n      <g transform=\"translate(258.15754 257.198437)scale(0.1 -0.1)\">\n       <use xlink:href=\"#DejaVuSans-30\"/>\n       <use x=\"63.623047\" xlink:href=\"#DejaVuSans-2e\"/>\n       <use x=\"95.410156\" xlink:href=\"#DejaVuSans-35\"/>\n       <use x=\"159.033203\" xlink:href=\"#DejaVuSans-30\"/>\n      </g>\n     </g>\n    </g>\n    <g id=\"xtick_7\">\n     <g id=\"line2d_7\">\n      <g>\n       <use style=\"stroke:#000000;stroke-width:0.8;\" x=\"311.387033\" xlink:href=\"#m5ef111594c\" y=\"242.6\"/>\n      </g>\n     </g>\n     <g id=\"text_7\">\n      <!-- 0.55 -->\n      <g transform=\"translate(300.254221 257.198437)scale(0.1 -0.1)\">\n       <use xlink:href=\"#DejaVuSans-30\"/>\n       <use x=\"63.623047\" xlink:href=\"#DejaVuSans-2e\"/>\n       <use x=\"95.410156\" xlink:href=\"#DejaVuSans-35\"/>\n       <use x=\"159.033203\" xlink:href=\"#DejaVuSans-35\"/>\n      </g>\n     </g>\n    </g>\n    <g id=\"xtick_8\">\n     <g id=\"line2d_8\">\n      <g>\n       <use style=\"stroke:#000000;stroke-width:0.8;\" x=\"353.483713\" xlink:href=\"#m5ef111594c\" y=\"242.6\"/>\n      </g>\n     </g>\n     <g id=\"text_8\">\n      <!-- 0.60 -->\n      <g transform=\"translate(342.350901 257.198437)scale(0.1 -0.1)\">\n       <defs>\n        <path d=\"M 2113 2584 \nQ 1688 2584 1439 2293 \nQ 1191 2003 1191 1497 \nQ 1191 994 1439 701 \nQ 1688 409 2113 409 \nQ 2538 409 2786 701 \nQ 3034 994 3034 1497 \nQ 3034 2003 2786 2293 \nQ 2538 2584 2113 2584 \nz\nM 3366 4563 \nL 3366 3988 \nQ 3128 4100 2886 4159 \nQ 2644 4219 2406 4219 \nQ 1781 4219 1451 3797 \nQ 1122 3375 1075 2522 \nQ 1259 2794 1537 2939 \nQ 1816 3084 2150 3084 \nQ 2853 3084 3261 2657 \nQ 3669 2231 3669 1497 \nQ 3669 778 3244 343 \nQ 2819 -91 2113 -91 \nQ 1303 -91 875 529 \nQ 447 1150 447 2328 \nQ 447 3434 972 4092 \nQ 1497 4750 2381 4750 \nQ 2619 4750 2861 4703 \nQ 3103 4656 3366 4563 \nz\n\" id=\"DejaVuSans-36\" transform=\"scale(0.015625)\"/>\n       </defs>\n       <use xlink:href=\"#DejaVuSans-30\"/>\n       <use x=\"63.623047\" xlink:href=\"#DejaVuSans-2e\"/>\n       <use x=\"95.410156\" xlink:href=\"#DejaVuSans-36\"/>\n       <use x=\"159.033203\" xlink:href=\"#DejaVuSans-30\"/>\n      </g>\n     </g>\n    </g>\n    <g id=\"xtick_9\">\n     <g id=\"line2d_9\">\n      <g>\n       <use style=\"stroke:#000000;stroke-width:0.8;\" x=\"395.580394\" xlink:href=\"#m5ef111594c\" y=\"242.6\"/>\n      </g>\n     </g>\n     <g id=\"text_9\">\n      <!-- 0.65 -->\n      <g transform=\"translate(384.447581 257.198437)scale(0.1 -0.1)\">\n       <use xlink:href=\"#DejaVuSans-30\"/>\n       <use x=\"63.623047\" xlink:href=\"#DejaVuSans-2e\"/>\n       <use x=\"95.410156\" xlink:href=\"#DejaVuSans-36\"/>\n       <use x=\"159.033203\" xlink:href=\"#DejaVuSans-35\"/>\n      </g>\n     </g>\n    </g>\n    <g id=\"text_10\">\n     <!-- Volatility -->\n     <g transform=\"translate(212.064063 270.876562)scale(0.1 -0.1)\">\n      <defs>\n       <path d=\"M 1831 0 \nL 50 4666 \nL 709 4666 \nL 2188 738 \nL 3669 4666 \nL 4325 4666 \nL 2547 0 \nL 1831 0 \nz\n\" id=\"DejaVuSans-56\" transform=\"scale(0.015625)\"/>\n       <path d=\"M 1959 3097 \nQ 1497 3097 1228 2736 \nQ 959 2375 959 1747 \nQ 959 1119 1226 758 \nQ 1494 397 1959 397 \nQ 2419 397 2687 759 \nQ 2956 1122 2956 1747 \nQ 2956 2369 2687 2733 \nQ 2419 3097 1959 3097 \nz\nM 1959 3584 \nQ 2709 3584 3137 3096 \nQ 3566 2609 3566 1747 \nQ 3566 888 3137 398 \nQ 2709 -91 1959 -91 \nQ 1206 -91 779 398 \nQ 353 888 353 1747 \nQ 353 2609 779 3096 \nQ 1206 3584 1959 3584 \nz\n\" id=\"DejaVuSans-6f\" transform=\"scale(0.015625)\"/>\n       <path d=\"M 603 4863 \nL 1178 4863 \nL 1178 0 \nL 603 0 \nL 603 4863 \nz\n\" id=\"DejaVuSans-6c\" transform=\"scale(0.015625)\"/>\n       <path d=\"M 2194 1759 \nQ 1497 1759 1228 1600 \nQ 959 1441 959 1056 \nQ 959 750 1161 570 \nQ 1363 391 1709 391 \nQ 2188 391 2477 730 \nQ 2766 1069 2766 1631 \nL 2766 1759 \nL 2194 1759 \nz\nM 3341 1997 \nL 3341 0 \nL 2766 0 \nL 2766 531 \nQ 2569 213 2275 61 \nQ 1981 -91 1556 -91 \nQ 1019 -91 701 211 \nQ 384 513 384 1019 \nQ 384 1609 779 1909 \nQ 1175 2209 1959 2209 \nL 2766 2209 \nL 2766 2266 \nQ 2766 2663 2505 2880 \nQ 2244 3097 1772 3097 \nQ 1472 3097 1187 3025 \nQ 903 2953 641 2809 \nL 641 3341 \nQ 956 3463 1253 3523 \nQ 1550 3584 1831 3584 \nQ 2591 3584 2966 3190 \nQ 3341 2797 3341 1997 \nz\n\" id=\"DejaVuSans-61\" transform=\"scale(0.015625)\"/>\n       <path d=\"M 1172 4494 \nL 1172 3500 \nL 2356 3500 \nL 2356 3053 \nL 1172 3053 \nL 1172 1153 \nQ 1172 725 1289 603 \nQ 1406 481 1766 481 \nL 2356 481 \nL 2356 0 \nL 1766 0 \nQ 1100 0 847 248 \nQ 594 497 594 1153 \nL 594 3053 \nL 172 3053 \nL 172 3500 \nL 594 3500 \nL 594 4494 \nL 1172 4494 \nz\n\" id=\"DejaVuSans-74\" transform=\"scale(0.015625)\"/>\n       <path d=\"M 603 3500 \nL 1178 3500 \nL 1178 0 \nL 603 0 \nL 603 3500 \nz\nM 603 4863 \nL 1178 4863 \nL 1178 4134 \nL 603 4134 \nL 603 4863 \nz\n\" id=\"DejaVuSans-69\" transform=\"scale(0.015625)\"/>\n       <path d=\"M 2059 -325 \nQ 1816 -950 1584 -1140 \nQ 1353 -1331 966 -1331 \nL 506 -1331 \nL 506 -850 \nL 844 -850 \nQ 1081 -850 1212 -737 \nQ 1344 -625 1503 -206 \nL 1606 56 \nL 191 3500 \nL 800 3500 \nL 1894 763 \nL 2988 3500 \nL 3597 3500 \nL 2059 -325 \nz\n\" id=\"DejaVuSans-79\" transform=\"scale(0.015625)\"/>\n      </defs>\n      <use xlink:href=\"#DejaVuSans-56\"/>\n      <use x=\"60.658203\" xlink:href=\"#DejaVuSans-6f\"/>\n      <use x=\"121.839844\" xlink:href=\"#DejaVuSans-6c\"/>\n      <use x=\"149.623047\" xlink:href=\"#DejaVuSans-61\"/>\n      <use x=\"210.902344\" xlink:href=\"#DejaVuSans-74\"/>\n      <use x=\"250.111328\" xlink:href=\"#DejaVuSans-69\"/>\n      <use x=\"277.894531\" xlink:href=\"#DejaVuSans-6c\"/>\n      <use x=\"305.677734\" xlink:href=\"#DejaVuSans-69\"/>\n      <use x=\"333.460938\" xlink:href=\"#DejaVuSans-74\"/>\n      <use x=\"372.669922\" xlink:href=\"#DejaVuSans-79\"/>\n     </g>\n    </g>\n   </g>\n   <g id=\"matplotlib.axis_2\">\n    <g id=\"ytick_1\">\n     <g id=\"line2d_10\">\n      <defs>\n       <path d=\"M 0 0 \nL -3.5 0 \n\" id=\"mfc241a6376\" style=\"stroke:#000000;stroke-width:0.8;\"/>\n      </defs>\n      <g>\n       <use style=\"stroke:#000000;stroke-width:0.8;\" x=\"50.14375\" xlink:href=\"#mfc241a6376\" y=\"228.621353\"/>\n      </g>\n     </g>\n     <g id=\"text_11\">\n      <!-- 0.25 -->\n      <g transform=\"translate(20.878125 232.420572)scale(0.1 -0.1)\">\n       <use xlink:href=\"#DejaVuSans-30\"/>\n       <use x=\"63.623047\" xlink:href=\"#DejaVuSans-2e\"/>\n       <use x=\"95.410156\" xlink:href=\"#DejaVuSans-32\"/>\n       <use x=\"159.033203\" xlink:href=\"#DejaVuSans-35\"/>\n      </g>\n     </g>\n    </g>\n    <g id=\"ytick_2\">\n     <g id=\"line2d_11\">\n      <g>\n       <use style=\"stroke:#000000;stroke-width:0.8;\" x=\"50.14375\" xlink:href=\"#mfc241a6376\" y=\"196.989453\"/>\n      </g>\n     </g>\n     <g id=\"text_12\">\n      <!-- 0.50 -->\n      <g transform=\"translate(20.878125 200.788671)scale(0.1 -0.1)\">\n       <use xlink:href=\"#DejaVuSans-30\"/>\n       <use x=\"63.623047\" xlink:href=\"#DejaVuSans-2e\"/>\n       <use x=\"95.410156\" xlink:href=\"#DejaVuSans-35\"/>\n       <use x=\"159.033203\" xlink:href=\"#DejaVuSans-30\"/>\n      </g>\n     </g>\n    </g>\n    <g id=\"ytick_3\">\n     <g id=\"line2d_12\">\n      <g>\n       <use style=\"stroke:#000000;stroke-width:0.8;\" x=\"50.14375\" xlink:href=\"#mfc241a6376\" y=\"165.357552\"/>\n      </g>\n     </g>\n     <g id=\"text_13\">\n      <!-- 0.75 -->\n      <g transform=\"translate(20.878125 169.156771)scale(0.1 -0.1)\">\n       <defs>\n        <path d=\"M 525 4666 \nL 3525 4666 \nL 3525 4397 \nL 1831 0 \nL 1172 0 \nL 2766 4134 \nL 525 4134 \nL 525 4666 \nz\n\" id=\"DejaVuSans-37\" transform=\"scale(0.015625)\"/>\n       </defs>\n       <use xlink:href=\"#DejaVuSans-30\"/>\n       <use x=\"63.623047\" xlink:href=\"#DejaVuSans-2e\"/>\n       <use x=\"95.410156\" xlink:href=\"#DejaVuSans-37\"/>\n       <use x=\"159.033203\" xlink:href=\"#DejaVuSans-35\"/>\n      </g>\n     </g>\n    </g>\n    <g id=\"ytick_4\">\n     <g id=\"line2d_13\">\n      <g>\n       <use style=\"stroke:#000000;stroke-width:0.8;\" x=\"50.14375\" xlink:href=\"#mfc241a6376\" y=\"133.725651\"/>\n      </g>\n     </g>\n     <g id=\"text_14\">\n      <!-- 1.00 -->\n      <g transform=\"translate(20.878125 137.52487)scale(0.1 -0.1)\">\n       <defs>\n        <path d=\"M 794 531 \nL 1825 531 \nL 1825 4091 \nL 703 3866 \nL 703 4441 \nL 1819 4666 \nL 2450 4666 \nL 2450 531 \nL 3481 531 \nL 3481 0 \nL 794 0 \nL 794 531 \nz\n\" id=\"DejaVuSans-31\" transform=\"scale(0.015625)\"/>\n       </defs>\n       <use xlink:href=\"#DejaVuSans-31\"/>\n       <use x=\"63.623047\" xlink:href=\"#DejaVuSans-2e\"/>\n       <use x=\"95.410156\" xlink:href=\"#DejaVuSans-30\"/>\n       <use x=\"159.033203\" xlink:href=\"#DejaVuSans-30\"/>\n      </g>\n     </g>\n    </g>\n    <g id=\"ytick_5\">\n     <g id=\"line2d_14\">\n      <g>\n       <use style=\"stroke:#000000;stroke-width:0.8;\" x=\"50.14375\" xlink:href=\"#mfc241a6376\" y=\"102.093751\"/>\n      </g>\n     </g>\n     <g id=\"text_15\">\n      <!-- 1.25 -->\n      <g transform=\"translate(20.878125 105.892969)scale(0.1 -0.1)\">\n       <use xlink:href=\"#DejaVuSans-31\"/>\n       <use x=\"63.623047\" xlink:href=\"#DejaVuSans-2e\"/>\n       <use x=\"95.410156\" xlink:href=\"#DejaVuSans-32\"/>\n       <use x=\"159.033203\" xlink:href=\"#DejaVuSans-35\"/>\n      </g>\n     </g>\n    </g>\n    <g id=\"ytick_6\">\n     <g id=\"line2d_15\">\n      <g>\n       <use style=\"stroke:#000000;stroke-width:0.8;\" x=\"50.14375\" xlink:href=\"#mfc241a6376\" y=\"70.46185\"/>\n      </g>\n     </g>\n     <g id=\"text_16\">\n      <!-- 1.50 -->\n      <g transform=\"translate(20.878125 74.261069)scale(0.1 -0.1)\">\n       <use xlink:href=\"#DejaVuSans-31\"/>\n       <use x=\"63.623047\" xlink:href=\"#DejaVuSans-2e\"/>\n       <use x=\"95.410156\" xlink:href=\"#DejaVuSans-35\"/>\n       <use x=\"159.033203\" xlink:href=\"#DejaVuSans-30\"/>\n      </g>\n     </g>\n    </g>\n    <g id=\"ytick_7\">\n     <g id=\"line2d_16\">\n      <g>\n       <use style=\"stroke:#000000;stroke-width:0.8;\" x=\"50.14375\" xlink:href=\"#mfc241a6376\" y=\"38.829949\"/>\n      </g>\n     </g>\n     <g id=\"text_17\">\n      <!-- 1.75 -->\n      <g transform=\"translate(20.878125 42.629168)scale(0.1 -0.1)\">\n       <use xlink:href=\"#DejaVuSans-31\"/>\n       <use x=\"63.623047\" xlink:href=\"#DejaVuSans-2e\"/>\n       <use x=\"95.410156\" xlink:href=\"#DejaVuSans-37\"/>\n       <use x=\"159.033203\" xlink:href=\"#DejaVuSans-35\"/>\n      </g>\n     </g>\n    </g>\n    <g id=\"text_18\">\n     <!-- Return -->\n     <g transform=\"translate(14.798438 141.491406)rotate(-90)scale(0.1 -0.1)\">\n      <defs>\n       <path d=\"M 2841 2188 \nQ 3044 2119 3236 1894 \nQ 3428 1669 3622 1275 \nL 4263 0 \nL 3584 0 \nL 2988 1197 \nQ 2756 1666 2539 1819 \nQ 2322 1972 1947 1972 \nL 1259 1972 \nL 1259 0 \nL 628 0 \nL 628 4666 \nL 2053 4666 \nQ 2853 4666 3247 4331 \nQ 3641 3997 3641 3322 \nQ 3641 2881 3436 2590 \nQ 3231 2300 2841 2188 \nz\nM 1259 4147 \nL 1259 2491 \nL 2053 2491 \nQ 2509 2491 2742 2702 \nQ 2975 2913 2975 3322 \nQ 2975 3731 2742 3939 \nQ 2509 4147 2053 4147 \nL 1259 4147 \nz\n\" id=\"DejaVuSans-52\" transform=\"scale(0.015625)\"/>\n       <path d=\"M 3597 1894 \nL 3597 1613 \nL 953 1613 \nQ 991 1019 1311 708 \nQ 1631 397 2203 397 \nQ 2534 397 2845 478 \nQ 3156 559 3463 722 \nL 3463 178 \nQ 3153 47 2828 -22 \nQ 2503 -91 2169 -91 \nQ 1331 -91 842 396 \nQ 353 884 353 1716 \nQ 353 2575 817 3079 \nQ 1281 3584 2069 3584 \nQ 2775 3584 3186 3129 \nQ 3597 2675 3597 1894 \nz\nM 3022 2063 \nQ 3016 2534 2758 2815 \nQ 2500 3097 2075 3097 \nQ 1594 3097 1305 2825 \nQ 1016 2553 972 2059 \nL 3022 2063 \nz\n\" id=\"DejaVuSans-65\" transform=\"scale(0.015625)\"/>\n       <path d=\"M 544 1381 \nL 544 3500 \nL 1119 3500 \nL 1119 1403 \nQ 1119 906 1312 657 \nQ 1506 409 1894 409 \nQ 2359 409 2629 706 \nQ 2900 1003 2900 1516 \nL 2900 3500 \nL 3475 3500 \nL 3475 0 \nL 2900 0 \nL 2900 538 \nQ 2691 219 2414 64 \nQ 2138 -91 1772 -91 \nQ 1169 -91 856 284 \nQ 544 659 544 1381 \nz\nM 1991 3584 \nL 1991 3584 \nz\n\" id=\"DejaVuSans-75\" transform=\"scale(0.015625)\"/>\n       <path d=\"M 2631 2963 \nQ 2534 3019 2420 3045 \nQ 2306 3072 2169 3072 \nQ 1681 3072 1420 2755 \nQ 1159 2438 1159 1844 \nL 1159 0 \nL 581 0 \nL 581 3500 \nL 1159 3500 \nL 1159 2956 \nQ 1341 3275 1631 3429 \nQ 1922 3584 2338 3584 \nQ 2397 3584 2469 3576 \nQ 2541 3569 2628 3553 \nL 2631 2963 \nz\n\" id=\"DejaVuSans-72\" transform=\"scale(0.015625)\"/>\n       <path d=\"M 3513 2113 \nL 3513 0 \nL 2938 0 \nL 2938 2094 \nQ 2938 2591 2744 2837 \nQ 2550 3084 2163 3084 \nQ 1697 3084 1428 2787 \nQ 1159 2491 1159 1978 \nL 1159 0 \nL 581 0 \nL 581 3500 \nL 1159 3500 \nL 1159 2956 \nQ 1366 3272 1645 3428 \nQ 1925 3584 2291 3584 \nQ 2894 3584 3203 3211 \nQ 3513 2838 3513 2113 \nz\n\" id=\"DejaVuSans-6e\" transform=\"scale(0.015625)\"/>\n      </defs>\n      <use xlink:href=\"#DejaVuSans-52\"/>\n      <use x=\"64.982422\" xlink:href=\"#DejaVuSans-65\"/>\n      <use x=\"126.505859\" xlink:href=\"#DejaVuSans-74\"/>\n      <use x=\"165.714844\" xlink:href=\"#DejaVuSans-75\"/>\n      <use x=\"229.09375\" xlink:href=\"#DejaVuSans-72\"/>\n      <use x=\"268.457031\" xlink:href=\"#DejaVuSans-6e\"/>\n     </g>\n    </g>\n   </g>\n   <g id=\"line2d_17\">\n    <path clip-path=\"url(#p1058c72d0f)\" d=\"M 340.392511 17.9 \nL 340.392511 17.9 \nL 340.392511 17.9 \nL 340.392511 17.9 \nL 340.392511 17.9 \nL 340.392511 17.9 \nL 340.392511 17.9 \nL 340.392511 17.9 \nL 340.392511 17.9 \nL 340.392511 17.9 \nL 340.392511 17.9 \nL 340.392511 17.9 \nL 340.392511 17.9 \nL 340.392511 17.9 \nL 340.392511 17.9 \nL 340.392511 17.9 \nL 335.217964 19.619065 \nL 330.146659 21.338131 \nL 325.18189 23.057196 \nL 320.327019 24.776261 \nL 315.585472 26.495327 \nL 310.960733 28.214392 \nL 306.456339 29.933457 \nL 302.075874 31.652523 \nL 297.822961 33.371588 \nL 293.701255 35.090653 \nL 289.714431 36.809719 \nL 285.866177 38.528784 \nL 282.160179 40.247849 \nL 278.600113 41.966915 \nL 275.189631 43.68598 \nL 272.297237 45.18395 \nL 269.431662 46.681921 \nL 266.593457 48.179891 \nL 263.783183 49.677862 \nL 261.001411 51.175832 \nL 258.248722 52.673802 \nL 255.525704 54.171773 \nL 252.832957 55.669743 \nL 250.17109 57.167713 \nL 247.54072 58.665684 \nL 244.942475 60.163654 \nL 242.376988 61.661625 \nL 239.844905 63.159595 \nL 237.346878 64.657565 \nL 234.883567 66.155536 \nL 233.245654 67.163064 \nL 231.622011 68.170592 \nL 230.012821 69.178121 \nL 228.418267 70.185649 \nL 226.838535 71.193178 \nL 225.27381 72.200706 \nL 223.724281 73.208234 \nL 222.190136 74.215763 \nL 220.671565 75.223291 \nL 219.16876 76.23082 \nL 217.681913 77.238348 \nL 216.211217 78.245876 \nL 214.756868 79.253405 \nL 213.31906 80.260933 \nL 211.89799 81.268461 \nL 198.217044 91.131933 \nL 184.856967 100.995404 \nL 171.857512 110.858876 \nL 159.263912 120.722347 \nL 147.127486 130.585818 \nL 135.506203 140.44929 \nL 124.465107 150.312761 \nL 114.076524 160.176232 \nL 104.419874 170.039704 \nL 95.580927 179.903175 \nL 87.650302 189.766646 \nL 80.721007 199.630118 \nL 74.884936 209.493589 \nL 70.228361 219.35706 \nL 66.826705 229.220532 \n\" style=\"fill:none;stroke:#4c72b0;stroke-linecap:square;stroke-width:1.5;\"/>\n   </g>\n   <g id=\"patch_3\">\n    <path d=\"M 50.14375 242.6 \nL 50.14375 7.2 \n\" style=\"fill:none;stroke:#000000;stroke-linecap:square;stroke-linejoin:miter;stroke-width:0.8;\"/>\n   </g>\n   <g id=\"patch_4\">\n    <path d=\"M 417.16875 242.6 \nL 417.16875 7.2 \n\" style=\"fill:none;stroke:#000000;stroke-linecap:square;stroke-linejoin:miter;stroke-width:0.8;\"/>\n   </g>\n   <g id=\"patch_5\">\n    <path d=\"M 50.14375 242.6 \nL 417.16875 242.6 \n\" style=\"fill:none;stroke:#000000;stroke-linecap:square;stroke-linejoin:miter;stroke-width:0.8;\"/>\n   </g>\n   <g id=\"patch_6\">\n    <path d=\"M 50.14375 7.2 \nL 417.16875 7.2 \n\" style=\"fill:none;stroke:#000000;stroke-linecap:square;stroke-linejoin:miter;stroke-width:0.8;\"/>\n   </g>\n   <g id=\"legend_1\">\n    <g id=\"patch_7\">\n     <path d=\"M 57.14375 59.234375 \nL 169.971875 59.234375 \nQ 171.971875 59.234375 171.971875 57.234375 \nL 171.971875 14.2 \nQ 171.971875 12.2 169.971875 12.2 \nL 57.14375 12.2 \nQ 55.14375 12.2 55.14375 14.2 \nL 55.14375 57.234375 \nQ 55.14375 59.234375 57.14375 59.234375 \nz\n\" style=\"fill:#ffffff;opacity:0.8;stroke:#cccccc;stroke-linejoin:miter;\"/>\n    </g>\n    <g id=\"line2d_18\">\n     <path d=\"M 59.14375 20.298437 \nL 79.14375 20.298437 \n\" style=\"fill:none;stroke:#4c72b0;stroke-linecap:square;stroke-width:1.5;\"/>\n    </g>\n    <g id=\"line2d_19\"/>\n    <g id=\"text_19\">\n     <!-- Efficient frontier -->\n     <g transform=\"translate(87.14375 23.798437)scale(0.1 -0.1)\">\n      <defs>\n       <path d=\"M 628 4666 \nL 3578 4666 \nL 3578 4134 \nL 1259 4134 \nL 1259 2753 \nL 3481 2753 \nL 3481 2222 \nL 1259 2222 \nL 1259 531 \nL 3634 531 \nL 3634 0 \nL 628 0 \nL 628 4666 \nz\n\" id=\"DejaVuSans-45\" transform=\"scale(0.015625)\"/>\n       <path d=\"M 2375 4863 \nL 2375 4384 \nL 1825 4384 \nQ 1516 4384 1395 4259 \nQ 1275 4134 1275 3809 \nL 1275 3500 \nL 2222 3500 \nL 2222 3053 \nL 1275 3053 \nL 1275 0 \nL 697 0 \nL 697 3053 \nL 147 3053 \nL 147 3500 \nL 697 3500 \nL 697 3744 \nQ 697 4328 969 4595 \nQ 1241 4863 1831 4863 \nL 2375 4863 \nz\n\" id=\"DejaVuSans-66\" transform=\"scale(0.015625)\"/>\n       <path d=\"M 3122 3366 \nL 3122 2828 \nQ 2878 2963 2633 3030 \nQ 2388 3097 2138 3097 \nQ 1578 3097 1268 2742 \nQ 959 2388 959 1747 \nQ 959 1106 1268 751 \nQ 1578 397 2138 397 \nQ 2388 397 2633 464 \nQ 2878 531 3122 666 \nL 3122 134 \nQ 2881 22 2623 -34 \nQ 2366 -91 2075 -91 \nQ 1284 -91 818 406 \nQ 353 903 353 1747 \nQ 353 2603 823 3093 \nQ 1294 3584 2113 3584 \nQ 2378 3584 2631 3529 \nQ 2884 3475 3122 3366 \nz\n\" id=\"DejaVuSans-63\" transform=\"scale(0.015625)\"/>\n       <path id=\"DejaVuSans-20\" transform=\"scale(0.015625)\"/>\n      </defs>\n      <use xlink:href=\"#DejaVuSans-45\"/>\n      <use x=\"63.183594\" xlink:href=\"#DejaVuSans-66\"/>\n      <use x=\"98.388672\" xlink:href=\"#DejaVuSans-66\"/>\n      <use x=\"133.59375\" xlink:href=\"#DejaVuSans-69\"/>\n      <use x=\"161.376953\" xlink:href=\"#DejaVuSans-63\"/>\n      <use x=\"216.357422\" xlink:href=\"#DejaVuSans-69\"/>\n      <use x=\"244.140625\" xlink:href=\"#DejaVuSans-65\"/>\n      <use x=\"305.664062\" xlink:href=\"#DejaVuSans-6e\"/>\n      <use x=\"369.042969\" xlink:href=\"#DejaVuSans-74\"/>\n      <use x=\"408.251953\" xlink:href=\"#DejaVuSans-20\"/>\n      <use x=\"440.039062\" xlink:href=\"#DejaVuSans-66\"/>\n      <use x=\"475.244141\" xlink:href=\"#DejaVuSans-72\"/>\n      <use x=\"514.107422\" xlink:href=\"#DejaVuSans-6f\"/>\n      <use x=\"575.289062\" xlink:href=\"#DejaVuSans-6e\"/>\n      <use x=\"638.667969\" xlink:href=\"#DejaVuSans-74\"/>\n      <use x=\"677.876953\" xlink:href=\"#DejaVuSans-69\"/>\n      <use x=\"705.660156\" xlink:href=\"#DejaVuSans-65\"/>\n      <use x=\"767.183594\" xlink:href=\"#DejaVuSans-72\"/>\n     </g>\n    </g>\n    <g id=\"PathCollection_3\">\n     <g>\n      <use style=\"fill:#ff0000;stroke:#ff0000;stroke-width:1.5;\" x=\"69.14375\" xlink:href=\"#m594ca3713b\" y=\"35.851562\"/>\n     </g>\n    </g>\n    <g id=\"text_20\">\n     <!-- optimal -->\n     <g transform=\"translate(87.14375 38.476562)scale(0.1 -0.1)\">\n      <defs>\n       <path d=\"M 1159 525 \nL 1159 -1331 \nL 581 -1331 \nL 581 3500 \nL 1159 3500 \nL 1159 2969 \nQ 1341 3281 1617 3432 \nQ 1894 3584 2278 3584 \nQ 2916 3584 3314 3078 \nQ 3713 2572 3713 1747 \nQ 3713 922 3314 415 \nQ 2916 -91 2278 -91 \nQ 1894 -91 1617 61 \nQ 1341 213 1159 525 \nz\nM 3116 1747 \nQ 3116 2381 2855 2742 \nQ 2594 3103 2138 3103 \nQ 1681 3103 1420 2742 \nQ 1159 2381 1159 1747 \nQ 1159 1113 1420 752 \nQ 1681 391 2138 391 \nQ 2594 391 2855 752 \nQ 3116 1113 3116 1747 \nz\n\" id=\"DejaVuSans-70\" transform=\"scale(0.015625)\"/>\n       <path d=\"M 3328 2828 \nQ 3544 3216 3844 3400 \nQ 4144 3584 4550 3584 \nQ 5097 3584 5394 3201 \nQ 5691 2819 5691 2113 \nL 5691 0 \nL 5113 0 \nL 5113 2094 \nQ 5113 2597 4934 2840 \nQ 4756 3084 4391 3084 \nQ 3944 3084 3684 2787 \nQ 3425 2491 3425 1978 \nL 3425 0 \nL 2847 0 \nL 2847 2094 \nQ 2847 2600 2669 2842 \nQ 2491 3084 2119 3084 \nQ 1678 3084 1418 2786 \nQ 1159 2488 1159 1978 \nL 1159 0 \nL 581 0 \nL 581 3500 \nL 1159 3500 \nL 1159 2956 \nQ 1356 3278 1631 3431 \nQ 1906 3584 2284 3584 \nQ 2666 3584 2933 3390 \nQ 3200 3197 3328 2828 \nz\n\" id=\"DejaVuSans-6d\" transform=\"scale(0.015625)\"/>\n      </defs>\n      <use xlink:href=\"#DejaVuSans-6f\"/>\n      <use x=\"61.181641\" xlink:href=\"#DejaVuSans-70\"/>\n      <use x=\"124.658203\" xlink:href=\"#DejaVuSans-74\"/>\n      <use x=\"163.867188\" xlink:href=\"#DejaVuSans-69\"/>\n      <use x=\"191.650391\" xlink:href=\"#DejaVuSans-6d\"/>\n      <use x=\"289.0625\" xlink:href=\"#DejaVuSans-61\"/>\n      <use x=\"350.341797\" xlink:href=\"#DejaVuSans-6c\"/>\n     </g>\n    </g>\n    <g id=\"PathCollection_4\">\n     <g>\n      <use style=\"stroke:#000000;\" x=\"69.14375\" xlink:href=\"#mf6dcec2e10\" y=\"50.529687\"/>\n     </g>\n    </g>\n    <g id=\"text_21\">\n     <!-- assets -->\n     <g transform=\"translate(87.14375 53.154687)scale(0.1 -0.1)\">\n      <defs>\n       <path d=\"M 2834 3397 \nL 2834 2853 \nQ 2591 2978 2328 3040 \nQ 2066 3103 1784 3103 \nQ 1356 3103 1142 2972 \nQ 928 2841 928 2578 \nQ 928 2378 1081 2264 \nQ 1234 2150 1697 2047 \nL 1894 2003 \nQ 2506 1872 2764 1633 \nQ 3022 1394 3022 966 \nQ 3022 478 2636 193 \nQ 2250 -91 1575 -91 \nQ 1294 -91 989 -36 \nQ 684 19 347 128 \nL 347 722 \nQ 666 556 975 473 \nQ 1284 391 1588 391 \nQ 1994 391 2212 530 \nQ 2431 669 2431 922 \nQ 2431 1156 2273 1281 \nQ 2116 1406 1581 1522 \nL 1381 1569 \nQ 847 1681 609 1914 \nQ 372 2147 372 2553 \nQ 372 3047 722 3315 \nQ 1072 3584 1716 3584 \nQ 2034 3584 2315 3537 \nQ 2597 3491 2834 3397 \nz\n\" id=\"DejaVuSans-73\" transform=\"scale(0.015625)\"/>\n      </defs>\n      <use xlink:href=\"#DejaVuSans-61\"/>\n      <use x=\"61.279297\" xlink:href=\"#DejaVuSans-73\"/>\n      <use x=\"113.378906\" xlink:href=\"#DejaVuSans-73\"/>\n      <use x=\"165.478516\" xlink:href=\"#DejaVuSans-65\"/>\n      <use x=\"227.001953\" xlink:href=\"#DejaVuSans-74\"/>\n      <use x=\"266.210938\" xlink:href=\"#DejaVuSans-73\"/>\n     </g>\n    </g>\n   </g>\n  </g>\n </g>\n <defs>\n  <clipPath id=\"p1058c72d0f\">\n   <rect height=\"235.4\" width=\"367.025\" x=\"50.14375\" y=\"7.2\"/>\n  </clipPath>\n </defs>\n</svg>\n",
      "image/png": "[encoded data removed]"
     },
     "metadata": {
      "needs_background": "light"
     }
    }
   ],
   "source": [
    "from pypfopt.efficient_frontier import EfficientFrontier#, \n",
    "#objective_functions\n",
    "from pypfopt import risk_models, expected_returns, CLA, plotting\n",
    "\n",
    "\n",
    "days = 252\n",
    "mu = expected_returns.mean_historical_return(hist[\"Adj Close\"], frequency=days)\n",
    "S =risk_models.sample_cov(hist[\"Adj Close\"], frequency=days)\n",
    "cla = CLA(mu, S)\n",
    "cla.max_sharpe()\n",
    "cla.portfolio_performance(verbose=True)\n",
    "ax = plotting.plot_efficient_frontier(cla, showfig=False)\n"
   ]
  },
  {
   "cell_type": "code",
   "execution_count": 14,
   "metadata": {},
   "outputs": [
    {
     "output_type": "execute_result",
     "data": {
      "text/plain": [
       "                 0\n",
       "CRWD  0.000000e+00\n",
       "MSFT  0.000000e+00\n",
       "NVDA  2.981511e-01\n",
       "SE    7.018489e-01\n",
       "TSM  -6.098149e-17\n",
       "VOO   0.000000e+00\n",
       "VUG   0.000000e+00"
      ],
      "text/html": "<div>\n<style scoped>\n    .dataframe tbody tr th:only-of-type {\n        vertical-align: middle;\n    }\n\n    .dataframe tbody tr th {\n        vertical-align: top;\n    }\n\n    .dataframe thead th {\n        text-align: right;\n    }\n</style>\n<table border=\"1\" class=\"dataframe\">\n  <thead>\n    <tr style=\"text-align: right;\">\n      <th></th>\n      <th>0</th>\n    </tr>\n  </thead>\n  <tbody>\n    <tr>\n      <th>CRWD</th>\n      <td>0.000000e+00</td>\n    </tr>\n    <tr>\n      <th>MSFT</th>\n      <td>0.000000e+00</td>\n    </tr>\n    <tr>\n      <th>NVDA</th>\n      <td>2.981511e-01</td>\n    </tr>\n    <tr>\n      <th>SE</th>\n      <td>7.018489e-01</td>\n    </tr>\n    <tr>\n      <th>TSM</th>\n      <td>-6.098149e-17</td>\n    </tr>\n    <tr>\n      <th>VOO</th>\n      <td>0.000000e+00</td>\n    </tr>\n    <tr>\n      <th>VUG</th>\n      <td>0.000000e+00</td>\n    </tr>\n  </tbody>\n</table>\n</div>"
     },
     "metadata": {},
     "execution_count": 14
    }
   ],
   "source": [
    "pd.DataFrame(cla.weights, index=hist[\"Adj Close\"].columns)"
   ]
  },
  {
   "cell_type": "code",
   "execution_count": 15,
   "metadata": {},
   "outputs": [],
   "source": [
    "from pypfopt.efficient_frontier import EfficientFrontier\n",
    "from pypfopt import risk_models, expected_returns\n",
    "import math\n",
    "import numpy as np"
   ]
  },
  {
   "cell_type": "code",
   "execution_count": 16,
   "metadata": {},
   "outputs": [],
   "source": [
    "risks = (hist[\"Adj Close\"].pct_change().dropna(how=\"all\")).std() # 各株ごとの平均リスク（標準偏差）の計算\n",
    "risks = ((risks * risks) * days).apply(math.sqrt) # 指定期間での各株ごとのリスク（標準偏差）の計算\n"
   ]
  },
  {
   "cell_type": "code",
   "execution_count": 47,
   "metadata": {},
   "outputs": [
    {
     "output_type": "execute_result",
     "data": {
      "text/plain": [
       "CRWD    0.655825\n",
       "MSFT    0.341646\n",
       "NVDA    0.495684\n",
       "SE      0.584148\n",
       "TSM     0.395992\n",
       "VOO     0.259951\n",
       "VUG     0.275028\n",
       "dtype: float64"
      ]
     },
     "metadata": {},
     "execution_count": 47
    }
   ],
   "source": [
    "risks"
   ]
  },
  {
   "cell_type": "code",
   "execution_count": 17,
   "metadata": {},
   "outputs": [],
   "source": [
    "plot_df = pd.DataFrame()\n",
    "\n",
    "plot_df[\"symbol\"] = mu.index\n",
    "plot_df[\"risk\"] = risks.values\n",
    "plot_df[\"return\"] = mu.values\n",
    "\n",
    "ef = EfficientFrontier(mu, S)"
   ]
  },
  {
   "cell_type": "code",
   "execution_count": 18,
   "metadata": {},
   "outputs": [],
   "source": [
    "trets = np.arange(round(np.amin(mu), 3), round(np.amax(mu), 3), 0.01)\n",
    "tvols = []\n",
    "res_ret = []\n",
    "res_risk = []\n",
    "weight_df = pd.DataFrame(columns=mu.index, index=trets)"
   ]
  },
  {
   "cell_type": "code",
   "execution_count": 20,
   "metadata": {},
   "outputs": [
    {
     "output_type": "execute_result",
     "data": {
      "text/plain": [
       "(170,)"
      ]
     },
     "metadata": {},
     "execution_count": 20
    }
   ],
   "source": [
    "trets.shape"
   ]
  },
  {
   "cell_type": "code",
   "execution_count": 21,
   "metadata": {},
   "outputs": [
    {
     "output_type": "stream",
     "name": "stdout",
     "text": [
      "0\n",
      "10\n",
      "20\n",
      "30\n",
      "40\n",
      "50\n",
      "60\n",
      "70\n",
      "80\n",
      "90\n",
      "100\n",
      "110\n",
      "120\n",
      "130\n",
      "140\n",
      "150\n",
      "160\n"
     ]
    }
   ],
   "source": [
    "for i, tr in enumerate(trets):\n",
    "    if i % 10 == 0:\n",
    "        print(i)\n",
    "    try:\n",
    "        w = ef.efficient_return(target_return=tr)\n",
    "        w = ef.clean_weights()\n",
    "        pref = ef.portfolio_performance()\n",
    "        res_ret += [pref[0]]\n",
    "        res_risk += [pref[1]]\n",
    "        weight_df.loc[tr, :] = list(w.values())\n",
    "\n",
    "    except:\n",
    "        print(tr, \"error\")\n",
    "\n"
   ]
  },
  {
   "cell_type": "code",
   "execution_count": 25,
   "metadata": {},
   "outputs": [],
   "source": [
    "from plotly import graph_objects as go"
   ]
  },
  {
   "cell_type": "code",
   "execution_count": 30,
   "metadata": {},
   "outputs": [
    {
     "output_type": "display_data",
     "data": {
      "application/vnd.plotly.v1+json": {
       "config": {
        "plotlyServerURL": "https://plot.ly"
       },
       "data": [
        {
         "mode": "markers+text",
         "text": [
          "CRWD",
          "MSFT",
          "NVDA",
          "SE",
          "TSM",
          "VOO",
          "VUG"
         ],
         "textposition": "top center",
         "type": "scatter",
         "x": [
          65.58263520233889,
          34.16498138715315,
          49.56982706260419,
          58.44510272528819,
          39.598834175421196,
          25.99461299679512,
          27.503202650156506
         ],
         "y": [
          93.17333973225952,
          40.57291739954818,
          124.79551357107871,
          191.54180512182424,
          74.93825466429385,
          22.408749812889695,
          32.56318216968912
         ]
        },
        {
         "mode": "lines",
         "type": "scatter",
         "x": [
          25.95253995564307,
          25.95253995564306,
          25.95253995564307,
          25.95639357717677,
          25.970261644951737,
          25.99420874701431,
          26.027869782338353,
          26.066242990490764,
          26.10766235586993,
          26.15211340509136,
          26.199580707203356,
          26.250047899568074,
          26.303497714977496,
          26.359912009904097,
          26.419271793783388,
          26.481557259224058,
          26.54674781304066,
          26.614822108003043,
          26.6857580751975,
          26.759532956894855,
          26.83612333982252,
          26.915505188739154,
          26.99765388021289,
          27.08254423650695,
          27.170150559479605,
          27.26044666440878,
          27.353405913655692,
          27.449001250085676,
          27.547205230168952,
          27.647990056688432,
          27.75132761098628,
          27.85718948468579,
          27.96554701082995,
          28.076371294382817,
          28.18963324204484,
          28.30530359133792,
          28.423352938920978,
          28.543751768101195,
          28.66647047551101,
          28.79147939692507,
          28.918748832195867,
          29.048249069290748,
          29.17995040741715,
          29.31382317922638,
          29.449837772090138,
          29.587964648447123,
          29.728174365220255,
          29.87043759230809,
          30.014725130156688,
          30.161007926420453,
          30.309257091723453,
          30.459443914533814,
          30.611539875166788,
          30.765516658932828,
          30.921346168449272,
          31.079000535135037,
          31.238339796328923,
          31.398970488601268,
          31.560844176199726,
          31.72394183171171,
          31.888244674589046,
          32.05373417198448,
          32.22039203931566,
          32.388200240570754,
          32.55714098836965,
          32.72719674379418,
          32.89835021600029,
          33.07058436162507,
          33.24388238400077,
          33.41822773218762,
          33.59360409983707,
          33.76999542389647,
          33.94738588316555,
          34.12575989671539,
          34.305102122179264,
          34.48539745392519,
          34.666631021118754,
          34.84878818568526,
          35.031854540179296,
          35.215815905569556,
          35.40065832894654,
          35.58636808116022,
          35.7729316543946,
          35.96033575968549,
          36.14856732438792,
          36.33761348959857,
          36.52746160753943,
          36.71809923890723,
          36.909514150194006,
          37.10169431098351,
          37.294627891227464,
          37.48830325850634,
          37.68270897527821,
          37.87783379611948,
          38.073666664960825,
          38.27019671232183,
          38.46741325254701,
          38.665305781046264,
          38.86386397154241,
          39.063077673327975,
          39.262936908533966,
          39.46343186941226,
          39.664552915633976,
          39.866290571605404,
          40.06863552380317,
          40.2715786181303,
          40.475110857294496,
          40.679223398209906,
          40.88390754942363,
          41.08915476856795,
          41.29495665983926,
          41.501304971504645,
          41.70819159343679,
          41.915608554677874,
          42.12354802103333,
          42.33200229269551,
          42.54096380189823,
          42.75042511060228,
          42.96037890821231,
          43.170818009325394,
          43.38292255375779,
          43.59815098442319,
          43.81646190284883,
          44.0378094661289,
          44.262148117035245,
          44.48943260777426,
          44.71961802226217,
          44.952659796950925,
          45.18851374023946,
          45.4271360505066,
          45.668483332804996,
          45.912512614255476,
          46.15935870614688,
          46.40915550543718,
          46.66185562583957,
          46.917412154969476,
          47.175778672382194,
          47.43690926404925,
          47.7007585354722,
          47.96728162348731,
          48.23643420681296,
          48.508172515393554,
          48.78245333859198,
          49.05923403228346,
          49.33847252490241,
          49.62012732249359,
          49.904157512817854,
          50.19052276856188,
          50.47918334970025,
          50.77031578923936,
          51.06903960256991,
          51.377409094966545,
          51.69525165319514,
          52.022393644042666,
          52.358660756528266,
          52.703878327611,
          53.057871650858424,
          53.42046626770712,
          53.79148824110032,
          54.170764411429175,
          54.55812263483429,
          54.95339200403922,
          55.35640305199136,
          55.76698793867534,
          56.184980621542735,
          56.61021701006661,
          57.042535104985184,
          57.48177512284241,
          57.927779606467844,
          58.380393522062946
         ],
         "y": [
          24.526444404033846,
          24.526444404033835,
          24.526444404033853,
          25.4,
          26.399999999999995,
          27.40000000000001,
          28.400000000000002,
          29.400000000000006,
          30.400000000000006,
          31.400000000000013,
          32.4,
          33.40000000000001,
          34.40000000000002,
          35.400000000000006,
          36.40000000000001,
          37.400000000000006,
          38.400000000000006,
          39.40000000000001,
          40.40000000000001,
          41.40000000000001,
          42.40000000000003,
          43.40000000000002,
          44.400000000000034,
          45.400000000000006,
          46.40000000000003,
          47.400000000000006,
          48.40000000000002,
          49.40000000000002,
          50.40000000000002,
          51.40000000000002,
          52.400000000000034,
          53.40000000000003,
          54.40000000000001,
          55.40000000000003,
          56.40000000000003,
          57.40000000000003,
          58.40000000000003,
          59.400000000000055,
          60.400000000000034,
          61.400000000000034,
          62.40000000000002,
          63.400000000000034,
          64.40000000000003,
          65.40000000000005,
          66.40000000000003,
          67.40000000000003,
          68.40000000000003,
          69.40000000000002,
          70.40000000000005,
          71.40000000000002,
          72.40000000000005,
          73.40000000000005,
          74.40000000000005,
          75.40000000000005,
          76.40000000000005,
          77.40000000000006,
          78.40000000000002,
          79.40000000000003,
          80.40000000000005,
          81.40000000000006,
          82.40000000000005,
          83.40000000000005,
          84.40000000000005,
          85.40000000000003,
          86.40000000000005,
          87.40000000000008,
          88.40000000000006,
          89.40000000000003,
          90.40000000000006,
          91.40000000000008,
          92.40000000000003,
          93.40000000000006,
          94.40000000000006,
          95.4000000000001,
          96.40000000000005,
          97.40000000000005,
          98.40000000000008,
          99.40000000000006,
          100.40000000000006,
          101.40000000000006,
          102.40000000000009,
          103.40000000000006,
          104.40000000000009,
          105.40000000000008,
          106.40000000000012,
          107.40000000000005,
          108.40000000000005,
          109.40000000000008,
          110.40000000000005,
          111.40000000000008,
          112.4000000000001,
          113.4000000000001,
          114.40000000000008,
          115.40000000000008,
          116.40000000000006,
          117.40000000000008,
          118.40000000000008,
          119.40000000000009,
          120.4000000000001,
          121.40000000000009,
          122.4000000000001,
          123.40000000000009,
          124.40000000000006,
          125.40000000000009,
          126.40000000000009,
          127.40000000000006,
          128.40000000000012,
          129.4000000000001,
          130.40000000000006,
          131.4000000000001,
          132.40000000000006,
          133.4000000000001,
          134.40000000000015,
          135.40000000000006,
          136.4000000000001,
          137.4000000000001,
          138.4000000000001,
          139.4000000000001,
          140.4000000000001,
          141.4000000000001,
          142.4000000000001,
          143.4000000000001,
          144.4000000000001,
          145.4000000000001,
          146.40000000000012,
          147.4000000000001,
          148.4000000000001,
          149.40000000000006,
          150.40000000000015,
          151.40000000000015,
          152.4000000000001,
          153.40000000000015,
          154.40000000000012,
          155.4000000000001,
          156.40000000000015,
          157.40000000000012,
          158.40000000000012,
          159.40000000000015,
          160.4000000000001,
          161.40000000000015,
          162.40000000000015,
          163.40000000000015,
          164.4000000000001,
          165.40000000000015,
          166.40000000000015,
          167.40000000000015,
          168.40000000000018,
          169.40000000000012,
          170.40000000000012,
          171.40000000000012,
          172.40000000000012,
          173.40000000000012,
          174.40000000000012,
          175.40000000000015,
          176.40000000000015,
          177.40000000000015,
          178.40000000000015,
          179.40000000000012,
          180.40000000000015,
          181.40000000000015,
          182.40000000000015,
          183.40000000000015,
          184.40000000000012,
          185.40000000000015,
          186.40000000000012,
          187.40000000000018,
          188.4000000000002,
          189.40000000000015,
          190.40000000000012,
          191.40000000000015
         ]
        }
       ],
       "layout": {
        "template": {
         "data": {
          "bar": [
           {
            "error_x": {
             "color": "#2a3f5f"
            },
            "error_y": {
             "color": "#2a3f5f"
            },
            "marker": {
             "line": {
              "color": "#E5ECF6",
              "width": 0.5
             },
             "pattern": {
              "fillmode": "overlay",
              "size": 10,
              "solidity": 0.2
             }
            },
            "type": "bar"
           }
          ],
          "barpolar": [
           {
            "marker": {
             "line": {
              "color": "#E5ECF6",
              "width": 0.5
             },
             "pattern": {
              "fillmode": "overlay",
              "size": 10,
              "solidity": 0.2
             }
            },
            "type": "barpolar"
           }
          ],
          "carpet": [
           {
            "aaxis": {
             "endlinecolor": "#2a3f5f",
             "gridcolor": "white",
             "linecolor": "white",
             "minorgridcolor": "white",
             "startlinecolor": "#2a3f5f"
            },
            "baxis": {
             "endlinecolor": "#2a3f5f",
             "gridcolor": "white",
             "linecolor": "white",
             "minorgridcolor": "white",
             "startlinecolor": "#2a3f5f"
            },
            "type": "carpet"
           }
          ],
          "choropleth": [
           {
            "colorbar": {
             "outlinewidth": 0,
             "ticks": ""
            },
            "type": "choropleth"
           }
          ],
          "contour": [
           {
            "colorbar": {
             "outlinewidth": 0,
             "ticks": ""
            },
            "colorscale": [
             [
              0,
              "#0d0887"
             ],
             [
              0.1111111111111111,
              "#46039f"
             ],
             [
              0.2222222222222222,
              "#7201a8"
             ],
             [
              0.3333333333333333,
              "#9c179e"
             ],
             [
              0.4444444444444444,
              "#bd3786"
             ],
             [
              0.5555555555555556,
              "#d8576b"
             ],
             [
              0.6666666666666666,
              "#ed7953"
             ],
             [
              0.7777777777777778,
              "#fb9f3a"
             ],
             [
              0.8888888888888888,
              "#fdca26"
             ],
             [
              1,
              "#f0f921"
             ]
            ],
            "type": "contour"
           }
          ],
          "contourcarpet": [
           {
            "colorbar": {
             "outlinewidth": 0,
             "ticks": ""
            },
            "type": "contourcarpet"
           }
          ],
          "heatmap": [
           {
            "colorbar": {
             "outlinewidth": 0,
             "ticks": ""
            },
            "colorscale": [
             [
              0,
              "#0d0887"
             ],
             [
              0.1111111111111111,
              "#46039f"
             ],
             [
              0.2222222222222222,
              "#7201a8"
             ],
             [
              0.3333333333333333,
              "#9c179e"
             ],
             [
              0.4444444444444444,
              "#bd3786"
             ],
             [
              0.5555555555555556,
              "#d8576b"
             ],
             [
              0.6666666666666666,
              "#ed7953"
             ],
             [
              0.7777777777777778,
              "#fb9f3a"
             ],
             [
              0.8888888888888888,
              "#fdca26"
             ],
             [
              1,
              "#f0f921"
             ]
            ],
            "type": "heatmap"
           }
          ],
          "heatmapgl": [
           {
            "colorbar": {
             "outlinewidth": 0,
             "ticks": ""
            },
            "colorscale": [
             [
              0,
              "#0d0887"
             ],
             [
              0.1111111111111111,
              "#46039f"
             ],
             [
              0.2222222222222222,
              "#7201a8"
             ],
             [
              0.3333333333333333,
              "#9c179e"
             ],
             [
              0.4444444444444444,
              "#bd3786"
             ],
             [
              0.5555555555555556,
              "#d8576b"
             ],
             [
              0.6666666666666666,
              "#ed7953"
             ],
             [
              0.7777777777777778,
              "#fb9f3a"
             ],
             [
              0.8888888888888888,
              "#fdca26"
             ],
             [
              1,
              "#f0f921"
             ]
            ],
            "type": "heatmapgl"
           }
          ],
          "histogram": [
           {
            "marker": {
             "pattern": {
              "fillmode": "overlay",
              "size": 10,
              "solidity": 0.2
             }
            },
            "type": "histogram"
           }
          ],
          "histogram2d": [
           {
            "colorbar": {
             "outlinewidth": 0,
             "ticks": ""
            },
            "colorscale": [
             [
              0,
              "#0d0887"
             ],
             [
              0.1111111111111111,
              "#46039f"
             ],
             [
              0.2222222222222222,
              "#7201a8"
             ],
             [
              0.3333333333333333,
              "#9c179e"
             ],
             [
              0.4444444444444444,
              "#bd3786"
             ],
             [
              0.5555555555555556,
              "#d8576b"
             ],
             [
              0.6666666666666666,
              "#ed7953"
             ],
             [
              0.7777777777777778,
              "#fb9f3a"
             ],
             [
              0.8888888888888888,
              "#fdca26"
             ],
             [
              1,
              "#f0f921"
             ]
            ],
            "type": "histogram2d"
           }
          ],
          "histogram2dcontour": [
           {
            "colorbar": {
             "outlinewidth": 0,
             "ticks": ""
            },
            "colorscale": [
             [
              0,
              "#0d0887"
             ],
             [
              0.1111111111111111,
              "#46039f"
             ],
             [
              0.2222222222222222,
              "#7201a8"
             ],
             [
              0.3333333333333333,
              "#9c179e"
             ],
             [
              0.4444444444444444,
              "#bd3786"
             ],
             [
              0.5555555555555556,
              "#d8576b"
             ],
             [
              0.6666666666666666,
              "#ed7953"
             ],
             [
              0.7777777777777778,
              "#fb9f3a"
             ],
             [
              0.8888888888888888,
              "#fdca26"
             ],
             [
              1,
              "#f0f921"
             ]
            ],
            "type": "histogram2dcontour"
           }
          ],
          "mesh3d": [
           {
            "colorbar": {
             "outlinewidth": 0,
             "ticks": ""
            },
            "type": "mesh3d"
           }
          ],
          "parcoords": [
           {
            "line": {
             "colorbar": {
              "outlinewidth": 0,
              "ticks": ""
             }
            },
            "type": "parcoords"
           }
          ],
          "pie": [
           {
            "automargin": true,
            "type": "pie"
           }
          ],
          "scatter": [
           {
            "marker": {
             "colorbar": {
              "outlinewidth": 0,
              "ticks": ""
             }
            },
            "type": "scatter"
           }
          ],
          "scatter3d": [
           {
            "line": {
             "colorbar": {
              "outlinewidth": 0,
              "ticks": ""
             }
            },
            "marker": {
             "colorbar": {
              "outlinewidth": 0,
              "ticks": ""
             }
            },
            "type": "scatter3d"
           }
          ],
          "scattercarpet": [
           {
            "marker": {
             "colorbar": {
              "outlinewidth": 0,
              "ticks": ""
             }
            },
            "type": "scattercarpet"
           }
          ],
          "scattergeo": [
           {
            "marker": {
             "colorbar": {
              "outlinewidth": 0,
              "ticks": ""
             }
            },
            "type": "scattergeo"
           }
          ],
          "scattergl": [
           {
            "marker": {
             "colorbar": {
              "outlinewidth": 0,
              "ticks": ""
             }
            },
            "type": "scattergl"
           }
          ],
          "scattermapbox": [
           {
            "marker": {
             "colorbar": {
              "outlinewidth": 0,
              "ticks": ""
             }
            },
            "type": "scattermapbox"
           }
          ],
          "scatterpolar": [
           {
            "marker": {
             "colorbar": {
              "outlinewidth": 0,
              "ticks": ""
             }
            },
            "type": "scatterpolar"
           }
          ],
          "scatterpolargl": [
           {
            "marker": {
             "colorbar": {
              "outlinewidth": 0,
              "ticks": ""
             }
            },
            "type": "scatterpolargl"
           }
          ],
          "scatterternary": [
           {
            "marker": {
             "colorbar": {
              "outlinewidth": 0,
              "ticks": ""
             }
            },
            "type": "scatterternary"
           }
          ],
          "surface": [
           {
            "colorbar": {
             "outlinewidth": 0,
             "ticks": ""
            },
            "colorscale": [
             [
              0,
              "#0d0887"
             ],
             [
              0.1111111111111111,
              "#46039f"
             ],
             [
              0.2222222222222222,
              "#7201a8"
             ],
             [
              0.3333333333333333,
              "#9c179e"
             ],
             [
              0.4444444444444444,
              "#bd3786"
             ],
             [
              0.5555555555555556,
              "#d8576b"
             ],
             [
              0.6666666666666666,
              "#ed7953"
             ],
             [
              0.7777777777777778,
              "#fb9f3a"
             ],
             [
              0.8888888888888888,
              "#fdca26"
             ],
             [
              1,
              "#f0f921"
             ]
            ],
            "type": "surface"
           }
          ],
          "table": [
           {
            "cells": {
             "fill": {
              "color": "#EBF0F8"
             },
             "line": {
              "color": "white"
             }
            },
            "header": {
             "fill": {
              "color": "#C8D4E3"
             },
             "line": {
              "color": "white"
             }
            },
            "type": "table"
           }
          ]
         },
         "layout": {
          "annotationdefaults": {
           "arrowcolor": "#2a3f5f",
           "arrowhead": 0,
           "arrowwidth": 1
          },
          "autotypenumbers": "strict",
          "coloraxis": {
           "colorbar": {
            "outlinewidth": 0,
            "ticks": ""
           }
          },
          "colorscale": {
           "diverging": [
            [
             0,
             "#8e0152"
            ],
            [
             0.1,
             "#c51b7d"
            ],
            [
             0.2,
             "#de77ae"
            ],
            [
             0.3,
             "#f1b6da"
            ],
            [
             0.4,
             "#fde0ef"
            ],
            [
             0.5,
             "#f7f7f7"
            ],
            [
             0.6,
             "#e6f5d0"
            ],
            [
             0.7,
             "#b8e186"
            ],
            [
             0.8,
             "#7fbc41"
            ],
            [
             0.9,
             "#4d9221"
            ],
            [
             1,
             "#276419"
            ]
           ],
           "sequential": [
            [
             0,
             "#0d0887"
            ],
            [
             0.1111111111111111,
             "#46039f"
            ],
            [
             0.2222222222222222,
             "#7201a8"
            ],
            [
             0.3333333333333333,
             "#9c179e"
            ],
            [
             0.4444444444444444,
             "#bd3786"
            ],
            [
             0.5555555555555556,
             "#d8576b"
            ],
            [
             0.6666666666666666,
             "#ed7953"
            ],
            [
             0.7777777777777778,
             "#fb9f3a"
            ],
            [
             0.8888888888888888,
             "#fdca26"
            ],
            [
             1,
             "#f0f921"
            ]
           ],
           "sequentialminus": [
            [
             0,
             "#0d0887"
            ],
            [
             0.1111111111111111,
             "#46039f"
            ],
            [
             0.2222222222222222,
             "#7201a8"
            ],
            [
             0.3333333333333333,
             "#9c179e"
            ],
            [
             0.4444444444444444,
             "#bd3786"
            ],
            [
             0.5555555555555556,
             "#d8576b"
            ],
            [
             0.6666666666666666,
             "#ed7953"
            ],
            [
             0.7777777777777778,
             "#fb9f3a"
            ],
            [
             0.8888888888888888,
             "#fdca26"
            ],
            [
             1,
             "#f0f921"
            ]
           ]
          },
          "colorway": [
           "#636efa",
           "#EF553B",
           "#00cc96",
           "#ab63fa",
           "#FFA15A",
           "#19d3f3",
           "#FF6692",
           "#B6E880",
           "#FF97FF",
           "#FECB52"
          ],
          "font": {
           "color": "#2a3f5f"
          },
          "geo": {
           "bgcolor": "white",
           "lakecolor": "white",
           "landcolor": "#E5ECF6",
           "showlakes": true,
           "showland": true,
           "subunitcolor": "white"
          },
          "hoverlabel": {
           "align": "left"
          },
          "hovermode": "closest",
          "mapbox": {
           "style": "light"
          },
          "paper_bgcolor": "white",
          "plot_bgcolor": "#E5ECF6",
          "polar": {
           "angularaxis": {
            "gridcolor": "white",
            "linecolor": "white",
            "ticks": ""
           },
           "bgcolor": "#E5ECF6",
           "radialaxis": {
            "gridcolor": "white",
            "linecolor": "white",
            "ticks": ""
           }
          },
          "scene": {
           "xaxis": {
            "backgroundcolor": "#E5ECF6",
            "gridcolor": "white",
            "gridwidth": 2,
            "linecolor": "white",
            "showbackground": true,
            "ticks": "",
            "zerolinecolor": "white"
           },
           "yaxis": {
            "backgroundcolor": "#E5ECF6",
            "gridcolor": "white",
            "gridwidth": 2,
            "linecolor": "white",
            "showbackground": true,
            "ticks": "",
            "zerolinecolor": "white"
           },
           "zaxis": {
            "backgroundcolor": "#E5ECF6",
            "gridcolor": "white",
            "gridwidth": 2,
            "linecolor": "white",
            "showbackground": true,
            "ticks": "",
            "zerolinecolor": "white"
           }
          },
          "shapedefaults": {
           "line": {
            "color": "#2a3f5f"
           }
          },
          "ternary": {
           "aaxis": {
            "gridcolor": "white",
            "linecolor": "white",
            "ticks": ""
           },
           "baxis": {
            "gridcolor": "white",
            "linecolor": "white",
            "ticks": ""
           },
           "bgcolor": "#E5ECF6",
           "caxis": {
            "gridcolor": "white",
            "linecolor": "white",
            "ticks": ""
           }
          },
          "title": {
           "x": 0.05
          },
          "xaxis": {
           "automargin": true,
           "gridcolor": "white",
           "linecolor": "white",
           "ticks": "",
           "title": {
            "standoff": 15
           },
           "zerolinecolor": "white",
           "zerolinewidth": 2
          },
          "yaxis": {
           "automargin": true,
           "gridcolor": "white",
           "linecolor": "white",
           "ticks": "",
           "title": {
            "standoff": 15
           },
           "zerolinecolor": "white",
           "zerolinewidth": 2
          }
         }
        },
        "xaxis": {
         "title": {
          "text": "risk(%)"
         }
        },
        "yaxis": {
         "title": {
          "text": "return(%)"
         }
        }
       }
      },
      "text/html": "<div>                            <div id=\"b5abd28a-8004-4373-be7e-33d89b67949a\" class=\"plotly-graph-div\" style=\"height:525px; width:100%;\"></div>            <script type=\"text/javascript\">                require([\"plotly\"], function(Plotly) {                    window.PLOTLYENV=window.PLOTLYENV || {};                                    if (document.getElementById(\"b5abd28a-8004-4373-be7e-33d89b67949a\")) {                    Plotly.newPlot(                        \"b5abd28a-8004-4373-be7e-33d89b67949a\",                        [{\"mode\":\"markers+text\",\"text\":[\"CRWD\",\"MSFT\",\"NVDA\",\"SE\",\"TSM\",\"VOO\",\"VUG\"],\"textposition\":\"top center\",\"type\":\"scatter\",\"x\":[65.58263520233889,34.16498138715315,49.56982706260419,58.44510272528819,39.598834175421196,25.99461299679512,27.503202650156506],\"y\":[93.17333973225952,40.57291739954818,124.79551357107871,191.54180512182424,74.93825466429385,22.408749812889695,32.56318216968912]},{\"mode\":\"lines\",\"type\":\"scatter\",\"x\":[25.95253995564307,25.95253995564306,25.95253995564307,25.95639357717677,25.970261644951737,25.99420874701431,26.027869782338353,26.066242990490764,26.10766235586993,26.15211340509136,26.199580707203356,26.250047899568074,26.303497714977496,26.359912009904097,26.419271793783388,26.481557259224058,26.54674781304066,26.614822108003043,26.6857580751975,26.759532956894855,26.83612333982252,26.915505188739154,26.99765388021289,27.08254423650695,27.170150559479605,27.26044666440878,27.353405913655692,27.449001250085676,27.547205230168952,27.647990056688432,27.75132761098628,27.85718948468579,27.96554701082995,28.076371294382817,28.18963324204484,28.30530359133792,28.423352938920978,28.543751768101195,28.66647047551101,28.79147939692507,28.918748832195867,29.048249069290748,29.17995040741715,29.31382317922638,29.449837772090138,29.587964648447123,29.728174365220255,29.87043759230809,30.014725130156688,30.161007926420453,30.309257091723453,30.459443914533814,30.611539875166788,30.765516658932828,30.921346168449272,31.079000535135037,31.238339796328923,31.398970488601268,31.560844176199726,31.72394183171171,31.888244674589046,32.05373417198448,32.22039203931566,32.388200240570754,32.55714098836965,32.72719674379418,32.89835021600029,33.07058436162507,33.24388238400077,33.41822773218762,33.59360409983707,33.76999542389647,33.94738588316555,34.12575989671539,34.305102122179264,34.48539745392519,34.666631021118754,34.84878818568526,35.031854540179296,35.215815905569556,35.40065832894654,35.58636808116022,35.7729316543946,35.96033575968549,36.14856732438792,36.33761348959857,36.52746160753943,36.71809923890723,36.909514150194006,37.10169431098351,37.294627891227464,37.48830325850634,37.68270897527821,37.87783379611948,38.073666664960825,38.27019671232183,38.46741325254701,38.665305781046264,38.86386397154241,39.063077673327975,39.262936908533966,39.46343186941226,39.664552915633976,39.866290571605404,40.06863552380317,40.2715786181303,40.475110857294496,40.679223398209906,40.88390754942363,41.08915476856795,41.29495665983926,41.501304971504645,41.70819159343679,41.915608554677874,42.12354802103333,42.33200229269551,42.54096380189823,42.75042511060228,42.96037890821231,43.170818009325394,43.38292255375779,43.59815098442319,43.81646190284883,44.0378094661289,44.262148117035245,44.48943260777426,44.71961802226217,44.952659796950925,45.18851374023946,45.4271360505066,45.668483332804996,45.912512614255476,46.15935870614688,46.40915550543718,46.66185562583957,46.917412154969476,47.175778672382194,47.43690926404925,47.7007585354722,47.96728162348731,48.23643420681296,48.508172515393554,48.78245333859198,49.05923403228346,49.33847252490241,49.62012732249359,49.904157512817854,50.19052276856188,50.47918334970025,50.77031578923936,51.06903960256991,51.377409094966545,51.69525165319514,52.022393644042666,52.358660756528266,52.703878327611,53.057871650858424,53.42046626770712,53.79148824110032,54.170764411429175,54.55812263483429,54.95339200403922,55.35640305199136,55.76698793867534,56.184980621542735,56.61021701006661,57.042535104985184,57.48177512284241,57.927779606467844,58.380393522062946],\"y\":[24.526444404033846,24.526444404033835,24.526444404033853,25.4,26.399999999999995,27.40000000000001,28.400000000000002,29.400000000000006,30.400000000000006,31.400000000000013,32.4,33.40000000000001,34.40000000000002,35.400000000000006,36.40000000000001,37.400000000000006,38.400000000000006,39.40000000000001,40.40000000000001,41.40000000000001,42.40000000000003,43.40000000000002,44.400000000000034,45.400000000000006,46.40000000000003,47.400000000000006,48.40000000000002,49.40000000000002,50.40000000000002,51.40000000000002,52.400000000000034,53.40000000000003,54.40000000000001,55.40000000000003,56.40000000000003,57.40000000000003,58.40000000000003,59.400000000000055,60.400000000000034,61.400000000000034,62.40000000000002,63.400000000000034,64.40000000000003,65.40000000000005,66.40000000000003,67.40000000000003,68.40000000000003,69.40000000000002,70.40000000000005,71.40000000000002,72.40000000000005,73.40000000000005,74.40000000000005,75.40000000000005,76.40000000000005,77.40000000000006,78.40000000000002,79.40000000000003,80.40000000000005,81.40000000000006,82.40000000000005,83.40000000000005,84.40000000000005,85.40000000000003,86.40000000000005,87.40000000000008,88.40000000000006,89.40000000000003,90.40000000000006,91.40000000000008,92.40000000000003,93.40000000000006,94.40000000000006,95.4000000000001,96.40000000000005,97.40000000000005,98.40000000000008,99.40000000000006,100.40000000000006,101.40000000000006,102.40000000000009,103.40000000000006,104.40000000000009,105.40000000000008,106.40000000000012,107.40000000000005,108.40000000000005,109.40000000000008,110.40000000000005,111.40000000000008,112.4000000000001,113.4000000000001,114.40000000000008,115.40000000000008,116.40000000000006,117.40000000000008,118.40000000000008,119.40000000000009,120.4000000000001,121.40000000000009,122.4000000000001,123.40000000000009,124.40000000000006,125.40000000000009,126.40000000000009,127.40000000000006,128.40000000000012,129.4000000000001,130.40000000000006,131.4000000000001,132.40000000000006,133.4000000000001,134.40000000000015,135.40000000000006,136.4000000000001,137.4000000000001,138.4000000000001,139.4000000000001,140.4000000000001,141.4000000000001,142.4000000000001,143.4000000000001,144.4000000000001,145.4000000000001,146.40000000000012,147.4000000000001,148.4000000000001,149.40000000000006,150.40000000000015,151.40000000000015,152.4000000000001,153.40000000000015,154.40000000000012,155.4000000000001,156.40000000000015,157.40000000000012,158.40000000000012,159.40000000000015,160.4000000000001,161.40000000000015,162.40000000000015,163.40000000000015,164.4000000000001,165.40000000000015,166.40000000000015,167.40000000000015,168.40000000000018,169.40000000000012,170.40000000000012,171.40000000000012,172.40000000000012,173.40000000000012,174.40000000000012,175.40000000000015,176.40000000000015,177.40000000000015,178.40000000000015,179.40000000000012,180.40000000000015,181.40000000000015,182.40000000000015,183.40000000000015,184.40000000000012,185.40000000000015,186.40000000000012,187.40000000000018,188.4000000000002,189.40000000000015,190.40000000000012,191.40000000000015]}],                        {\"template\":{\"data\":{\"bar\":[{\"error_x\":{\"color\":\"#2a3f5f\"},\"error_y\":{\"color\":\"#2a3f5f\"},\"marker\":{\"line\":{\"color\":\"#E5ECF6\",\"width\":0.5},\"pattern\":{\"fillmode\":\"overlay\",\"size\":10,\"solidity\":0.2}},\"type\":\"bar\"}],\"barpolar\":[{\"marker\":{\"line\":{\"color\":\"#E5ECF6\",\"width\":0.5},\"pattern\":{\"fillmode\":\"overlay\",\"size\":10,\"solidity\":0.2}},\"type\":\"barpolar\"}],\"carpet\":[{\"aaxis\":{\"endlinecolor\":\"#2a3f5f\",\"gridcolor\":\"white\",\"linecolor\":\"white\",\"minorgridcolor\":\"white\",\"startlinecolor\":\"#2a3f5f\"},\"baxis\":{\"endlinecolor\":\"#2a3f5f\",\"gridcolor\":\"white\",\"linecolor\":\"white\",\"minorgridcolor\":\"white\",\"startlinecolor\":\"#2a3f5f\"},\"type\":\"carpet\"}],\"choropleth\":[{\"colorbar\":{\"outlinewidth\":0,\"ticks\":\"\"},\"type\":\"choropleth\"}],\"contour\":[{\"colorbar\":{\"outlinewidth\":0,\"ticks\":\"\"},\"colorscale\":[[0.0,\"#0d0887\"],[0.1111111111111111,\"#46039f\"],[0.2222222222222222,\"#7201a8\"],[0.3333333333333333,\"#9c179e\"],[0.4444444444444444,\"#bd3786\"],[0.5555555555555556,\"#d8576b\"],[0.6666666666666666,\"#ed7953\"],[0.7777777777777778,\"#fb9f3a\"],[0.8888888888888888,\"#fdca26\"],[1.0,\"#f0f921\"]],\"type\":\"contour\"}],\"contourcarpet\":[{\"colorbar\":{\"outlinewidth\":0,\"ticks\":\"\"},\"type\":\"contourcarpet\"}],\"heatmap\":[{\"colorbar\":{\"outlinewidth\":0,\"ticks\":\"\"},\"colorscale\":[[0.0,\"#0d0887\"],[0.1111111111111111,\"#46039f\"],[0.2222222222222222,\"#7201a8\"],[0.3333333333333333,\"#9c179e\"],[0.4444444444444444,\"#bd3786\"],[0.5555555555555556,\"#d8576b\"],[0.6666666666666666,\"#ed7953\"],[0.7777777777777778,\"#fb9f3a\"],[0.8888888888888888,\"#fdca26\"],[1.0,\"#f0f921\"]],\"type\":\"heatmap\"}],\"heatmapgl\":[{\"colorbar\":{\"outlinewidth\":0,\"ticks\":\"\"},\"colorscale\":[[0.0,\"#0d0887\"],[0.1111111111111111,\"#46039f\"],[0.2222222222222222,\"#7201a8\"],[0.3333333333333333,\"#9c179e\"],[0.4444444444444444,\"#bd3786\"],[0.5555555555555556,\"#d8576b\"],[0.6666666666666666,\"#ed7953\"],[0.7777777777777778,\"#fb9f3a\"],[0.8888888888888888,\"#fdca26\"],[1.0,\"#f0f921\"]],\"type\":\"heatmapgl\"}],\"histogram\":[{\"marker\":{\"pattern\":{\"fillmode\":\"overlay\",\"size\":10,\"solidity\":0.2}},\"type\":\"histogram\"}],\"histogram2d\":[{\"colorbar\":{\"outlinewidth\":0,\"ticks\":\"\"},\"colorscale\":[[0.0,\"#0d0887\"],[0.1111111111111111,\"#46039f\"],[0.2222222222222222,\"#7201a8\"],[0.3333333333333333,\"#9c179e\"],[0.4444444444444444,\"#bd3786\"],[0.5555555555555556,\"#d8576b\"],[0.6666666666666666,\"#ed7953\"],[0.7777777777777778,\"#fb9f3a\"],[0.8888888888888888,\"#fdca26\"],[1.0,\"#f0f921\"]],\"type\":\"histogram2d\"}],\"histogram2dcontour\":[{\"colorbar\":{\"outlinewidth\":0,\"ticks\":\"\"},\"colorscale\":[[0.0,\"#0d0887\"],[0.1111111111111111,\"#46039f\"],[0.2222222222222222,\"#7201a8\"],[0.3333333333333333,\"#9c179e\"],[0.4444444444444444,\"#bd3786\"],[0.5555555555555556,\"#d8576b\"],[0.6666666666666666,\"#ed7953\"],[0.7777777777777778,\"#fb9f3a\"],[0.8888888888888888,\"#fdca26\"],[1.0,\"#f0f921\"]],\"type\":\"histogram2dcontour\"}],\"mesh3d\":[{\"colorbar\":{\"outlinewidth\":0,\"ticks\":\"\"},\"type\":\"mesh3d\"}],\"parcoords\":[{\"line\":{\"colorbar\":{\"outlinewidth\":0,\"ticks\":\"\"}},\"type\":\"parcoords\"}],\"pie\":[{\"automargin\":true,\"type\":\"pie\"}],\"scatter\":[{\"marker\":{\"colorbar\":{\"outlinewidth\":0,\"ticks\":\"\"}},\"type\":\"scatter\"}],\"scatter3d\":[{\"line\":{\"colorbar\":{\"outlinewidth\":0,\"ticks\":\"\"}},\"marker\":{\"colorbar\":{\"outlinewidth\":0,\"ticks\":\"\"}},\"type\":\"scatter3d\"}],\"scattercarpet\":[{\"marker\":{\"colorbar\":{\"outlinewidth\":0,\"ticks\":\"\"}},\"type\":\"scattercarpet\"}],\"scattergeo\":[{\"marker\":{\"colorbar\":{\"outlinewidth\":0,\"ticks\":\"\"}},\"type\":\"scattergeo\"}],\"scattergl\":[{\"marker\":{\"colorbar\":{\"outlinewidth\":0,\"ticks\":\"\"}},\"type\":\"scattergl\"}],\"scattermapbox\":[{\"marker\":{\"colorbar\":{\"outlinewidth\":0,\"ticks\":\"\"}},\"type\":\"scattermapbox\"}],\"scatterpolar\":[{\"marker\":{\"colorbar\":{\"outlinewidth\":0,\"ticks\":\"\"}},\"type\":\"scatterpolar\"}],\"scatterpolargl\":[{\"marker\":{\"colorbar\":{\"outlinewidth\":0,\"ticks\":\"\"}},\"type\":\"scatterpolargl\"}],\"scatterternary\":[{\"marker\":{\"colorbar\":{\"outlinewidth\":0,\"ticks\":\"\"}},\"type\":\"scatterternary\"}],\"surface\":[{\"colorbar\":{\"outlinewidth\":0,\"ticks\":\"\"},\"colorscale\":[[0.0,\"#0d0887\"],[0.1111111111111111,\"#46039f\"],[0.2222222222222222,\"#7201a8\"],[0.3333333333333333,\"#9c179e\"],[0.4444444444444444,\"#bd3786\"],[0.5555555555555556,\"#d8576b\"],[0.6666666666666666,\"#ed7953\"],[0.7777777777777778,\"#fb9f3a\"],[0.8888888888888888,\"#fdca26\"],[1.0,\"#f0f921\"]],\"type\":\"surface\"}],\"table\":[{\"cells\":{\"fill\":{\"color\":\"#EBF0F8\"},\"line\":{\"color\":\"white\"}},\"header\":{\"fill\":{\"color\":\"#C8D4E3\"},\"line\":{\"color\":\"white\"}},\"type\":\"table\"}]},\"layout\":{\"annotationdefaults\":{\"arrowcolor\":\"#2a3f5f\",\"arrowhead\":0,\"arrowwidth\":1},\"autotypenumbers\":\"strict\",\"coloraxis\":{\"colorbar\":{\"outlinewidth\":0,\"ticks\":\"\"}},\"colorscale\":{\"diverging\":[[0,\"#8e0152\"],[0.1,\"#c51b7d\"],[0.2,\"#de77ae\"],[0.3,\"#f1b6da\"],[0.4,\"#fde0ef\"],[0.5,\"#f7f7f7\"],[0.6,\"#e6f5d0\"],[0.7,\"#b8e186\"],[0.8,\"#7fbc41\"],[0.9,\"#4d9221\"],[1,\"#276419\"]],\"sequential\":[[0.0,\"#0d0887\"],[0.1111111111111111,\"#46039f\"],[0.2222222222222222,\"#7201a8\"],[0.3333333333333333,\"#9c179e\"],[0.4444444444444444,\"#bd3786\"],[0.5555555555555556,\"#d8576b\"],[0.6666666666666666,\"#ed7953\"],[0.7777777777777778,\"#fb9f3a\"],[0.8888888888888888,\"#fdca26\"],[1.0,\"#f0f921\"]],\"sequentialminus\":[[0.0,\"#0d0887\"],[0.1111111111111111,\"#46039f\"],[0.2222222222222222,\"#7201a8\"],[0.3333333333333333,\"#9c179e\"],[0.4444444444444444,\"#bd3786\"],[0.5555555555555556,\"#d8576b\"],[0.6666666666666666,\"#ed7953\"],[0.7777777777777778,\"#fb9f3a\"],[0.8888888888888888,\"#fdca26\"],[1.0,\"#f0f921\"]]},\"colorway\":[\"#636efa\",\"#EF553B\",\"#00cc96\",\"#ab63fa\",\"#FFA15A\",\"#19d3f3\",\"#FF6692\",\"#B6E880\",\"#FF97FF\",\"#FECB52\"],\"font\":{\"color\":\"#2a3f5f\"},\"geo\":{\"bgcolor\":\"white\",\"lakecolor\":\"white\",\"landcolor\":\"#E5ECF6\",\"showlakes\":true,\"showland\":true,\"subunitcolor\":\"white\"},\"hoverlabel\":{\"align\":\"left\"},\"hovermode\":\"closest\",\"mapbox\":{\"style\":\"light\"},\"paper_bgcolor\":\"white\",\"plot_bgcolor\":\"#E5ECF6\",\"polar\":{\"angularaxis\":{\"gridcolor\":\"white\",\"linecolor\":\"white\",\"ticks\":\"\"},\"bgcolor\":\"#E5ECF6\",\"radialaxis\":{\"gridcolor\":\"white\",\"linecolor\":\"white\",\"ticks\":\"\"}},\"scene\":{\"xaxis\":{\"backgroundcolor\":\"#E5ECF6\",\"gridcolor\":\"white\",\"gridwidth\":2,\"linecolor\":\"white\",\"showbackground\":true,\"ticks\":\"\",\"zerolinecolor\":\"white\"},\"yaxis\":{\"backgroundcolor\":\"#E5ECF6\",\"gridcolor\":\"white\",\"gridwidth\":2,\"linecolor\":\"white\",\"showbackground\":true,\"ticks\":\"\",\"zerolinecolor\":\"white\"},\"zaxis\":{\"backgroundcolor\":\"#E5ECF6\",\"gridcolor\":\"white\",\"gridwidth\":2,\"linecolor\":\"white\",\"showbackground\":true,\"ticks\":\"\",\"zerolinecolor\":\"white\"}},\"shapedefaults\":{\"line\":{\"color\":\"#2a3f5f\"}},\"ternary\":{\"aaxis\":{\"gridcolor\":\"white\",\"linecolor\":\"white\",\"ticks\":\"\"},\"baxis\":{\"gridcolor\":\"white\",\"linecolor\":\"white\",\"ticks\":\"\"},\"bgcolor\":\"#E5ECF6\",\"caxis\":{\"gridcolor\":\"white\",\"linecolor\":\"white\",\"ticks\":\"\"}},\"title\":{\"x\":0.05},\"xaxis\":{\"automargin\":true,\"gridcolor\":\"white\",\"linecolor\":\"white\",\"ticks\":\"\",\"title\":{\"standoff\":15},\"zerolinecolor\":\"white\",\"zerolinewidth\":2},\"yaxis\":{\"automargin\":true,\"gridcolor\":\"white\",\"linecolor\":\"white\",\"ticks\":\"\",\"title\":{\"standoff\":15},\"zerolinecolor\":\"white\",\"zerolinewidth\":2}}},\"xaxis\":{\"title\":{\"text\":\"risk(%)\"}},\"yaxis\":{\"title\":{\"text\":\"return(%)\"}}},                        {\"responsive\": true}                    ).then(function(){\n                            \nvar gd = document.getElementById('b5abd28a-8004-4373-be7e-33d89b67949a');\nvar x = new MutationObserver(function (mutations, observer) {{\n        var display = window.getComputedStyle(gd).display;\n        if (!display || display === 'none') {{\n            console.log([gd, 'removed!']);\n            Plotly.purge(gd);\n            observer.disconnect();\n        }}\n}});\n\n// Listen for the removal of the full notebook cells\nvar notebookContainer = gd.closest('#notebook-container');\nif (notebookContainer) {{\n    x.observe(notebookContainer, {childList: true});\n}}\n\n// Listen for the clearing of the current output cell\nvar outputEl = gd.closest('.output');\nif (outputEl) {{\n    x.observe(outputEl, {childList: true});\n}}\n\n                        })                };                });            </script>        </div>"
     },
     "metadata": {}
    }
   ],
   "source": [
    "front_line = pd.DataFrame({\"risk\": res_risk, \"return\": res_ret})\n",
    "\n",
    "layout = go.Layout(\n",
    "    xaxis = {\"title\": \"risk(%)\"},\n",
    "    yaxis = {\"title\": \"return(%)\"}\n",
    ")\n",
    "\n",
    "fig = go.Figure(layout=layout)\n",
    "\n",
    "fig.add_trace(\n",
    "    go.Scatter(\n",
    "        x=plot_df[\"risk\"]*100,\n",
    "        y=plot_df[\"return\"]*100,\n",
    "        mode=\"markers+text\",\n",
    "        text=plot_df[\"symbol\"],\n",
    "        textposition=\"top center\"\n",
    "    )\n",
    ")\n",
    "\n",
    "fig.add_trace(\n",
    "    go.Scatter(\n",
    "        x=front_line[\"risk\"]*100,\n",
    "        y=front_line[\"return\"]*100,\n",
    "        mode=\"lines\"\n",
    "    )\n",
    ")\n",
    "\n",
    "fig.show()"
   ]
  },
  {
   "cell_type": "code",
   "execution_count": 35,
   "metadata": {},
   "outputs": [
    {
     "output_type": "display_data",
     "data": {
      "application/vnd.plotly.v1+json": {
       "config": {
        "plotlyServerURL": "https://plot.ly"
       },
       "data": [
        {
         "line": {
          "width": 0.5
         },
         "mode": "lines",
         "name": "CRWD",
         "stackgroup": "one",
         "type": "scatter",
         "x": [
          22.400000000000002,
          23.400000000000002,
          24.400000000000002,
          25.4,
          26.400000000000002,
          27.400000000000002,
          28.400000000000002,
          29.400000000000006,
          30.400000000000006,
          31.400000000000006,
          32.400000000000006,
          33.400000000000006,
          34.400000000000006,
          35.400000000000006,
          36.40000000000001,
          37.40000000000001,
          38.40000000000001,
          39.40000000000001,
          40.40000000000001,
          41.40000000000001,
          42.40000000000001,
          43.40000000000002,
          44.40000000000002,
          45.40000000000002,
          46.40000000000002,
          47.40000000000002,
          48.40000000000002,
          49.40000000000002,
          50.40000000000002,
          51.40000000000002,
          52.40000000000003,
          53.40000000000003,
          54.40000000000003,
          55.40000000000003,
          56.40000000000003,
          57.40000000000003,
          58.40000000000003,
          59.400000000000034,
          60.400000000000034,
          61.400000000000034,
          62.400000000000034,
          63.400000000000034,
          64.40000000000003,
          65.40000000000003,
          66.40000000000003,
          67.40000000000003,
          68.40000000000003,
          69.40000000000003,
          70.40000000000003,
          71.40000000000003,
          72.40000000000005,
          73.40000000000005,
          74.40000000000005,
          75.40000000000005,
          76.40000000000005,
          77.40000000000005,
          78.40000000000005,
          79.40000000000005,
          80.40000000000005,
          81.40000000000005,
          82.40000000000005,
          83.40000000000005,
          84.40000000000005,
          85.40000000000005,
          86.40000000000005,
          87.40000000000006,
          88.40000000000006,
          89.40000000000006,
          90.40000000000006,
          91.40000000000006,
          92.40000000000006,
          93.40000000000006,
          94.40000000000006,
          95.40000000000006,
          96.40000000000006,
          97.40000000000006,
          98.40000000000006,
          99.40000000000006,
          100.40000000000006,
          101.40000000000006,
          102.40000000000006,
          103.40000000000006,
          104.40000000000008,
          105.40000000000008,
          106.40000000000008,
          107.40000000000008,
          108.40000000000008,
          109.40000000000008,
          110.40000000000008,
          111.40000000000008,
          112.40000000000008,
          113.40000000000008,
          114.40000000000008,
          115.40000000000008,
          116.40000000000008,
          117.40000000000008,
          118.40000000000008,
          119.40000000000009,
          120.40000000000009,
          121.40000000000009,
          122.40000000000009,
          123.40000000000009,
          124.40000000000009,
          125.40000000000009,
          126.40000000000009,
          127.40000000000009,
          128.4000000000001,
          129.4000000000001,
          130.4000000000001,
          131.4000000000001,
          132.4000000000001,
          133.4000000000001,
          134.4000000000001,
          135.4000000000001,
          136.4000000000001,
          137.4000000000001,
          138.4000000000001,
          139.4000000000001,
          140.4000000000001,
          141.4000000000001,
          142.4000000000001,
          143.4000000000001,
          144.40000000000012,
          145.40000000000012,
          146.40000000000012,
          147.40000000000012,
          148.40000000000012,
          149.40000000000012,
          150.40000000000012,
          151.40000000000012,
          152.40000000000012,
          153.40000000000012,
          154.40000000000012,
          155.40000000000012,
          156.40000000000012,
          157.40000000000012,
          158.40000000000012,
          159.40000000000012,
          160.40000000000012,
          161.40000000000012,
          162.40000000000012,
          163.40000000000012,
          164.40000000000012,
          165.40000000000012,
          166.40000000000012,
          167.40000000000012,
          168.40000000000012,
          169.40000000000012,
          170.40000000000012,
          171.40000000000012,
          172.40000000000012,
          173.40000000000012,
          174.40000000000012,
          175.40000000000015,
          176.40000000000015,
          177.40000000000015,
          178.40000000000015,
          179.40000000000015,
          180.40000000000015,
          181.40000000000015,
          182.40000000000015,
          183.40000000000015,
          184.40000000000015,
          185.40000000000015,
          186.40000000000015,
          187.40000000000015,
          188.40000000000015,
          189.40000000000015,
          190.40000000000015,
          191.40000000000015
         ],
         "y": [
          2.283,
          2.283,
          2.283,
          2.624,
          3.013,
          3.4029999999999996,
          3.675,
          3.687,
          3.6990000000000003,
          3.71,
          3.7220000000000004,
          3.734,
          3.746,
          3.758,
          3.769,
          3.781,
          3.7929999999999997,
          3.805,
          3.817,
          3.8289999999999997,
          3.84,
          3.852,
          3.864,
          3.8760000000000003,
          3.888,
          3.8989999999999996,
          3.911,
          3.923,
          3.9350000000000005,
          3.9469999999999996,
          3.9579999999999997,
          3.9699999999999998,
          3.982,
          3.994,
          4.006,
          4.0169999999999995,
          4.029,
          4.041,
          4.053,
          4.0649999999999995,
          4.076,
          4.088,
          4.1000000000000005,
          4.112,
          4.124,
          4.136,
          4.147,
          4.159,
          4.170999999999999,
          4.183,
          4.195,
          4.206,
          4.218,
          4.2299999999999995,
          4.242,
          4.2540000000000004,
          4.239,
          4.212,
          4.185,
          4.1579999999999995,
          4.130000000000001,
          4.103,
          4.076,
          4.0489999999999995,
          4.021,
          3.994,
          3.9669999999999996,
          3.939,
          3.9120000000000004,
          3.8850000000000002,
          3.8580000000000005,
          3.83,
          3.803,
          3.7760000000000002,
          3.749,
          3.721,
          3.694,
          3.6670000000000003,
          3.639,
          3.612,
          3.585,
          3.558,
          3.53,
          3.5029999999999997,
          3.476,
          3.449,
          3.421,
          3.3939999999999997,
          3.367,
          3.3390000000000004,
          3.312,
          3.2849999999999997,
          3.258,
          3.2300000000000004,
          3.2030000000000003,
          3.1759999999999997,
          3.1489999999999996,
          3.121,
          3.094,
          3.0669999999999997,
          3.039,
          3.012,
          2.9850000000000003,
          2.9579999999999997,
          2.93,
          2.903,
          2.876,
          2.849,
          2.8209999999999997,
          2.794,
          2.767,
          2.7390000000000003,
          2.7119999999999997,
          2.685,
          2.658,
          2.63,
          2.603,
          2.576,
          2.549,
          2.521,
          2.321,
          2.11,
          1.899,
          1.688,
          1.477,
          1.266,
          1.055,
          0.845,
          0.634,
          0.42300000000000004,
          0.212,
          0,
          0,
          0,
          0,
          0,
          0,
          0,
          0,
          0,
          0,
          0,
          0,
          0,
          0,
          0,
          0,
          0,
          0,
          0,
          0,
          0,
          0,
          0,
          0,
          0,
          0,
          0,
          0,
          0,
          0,
          0,
          0,
          0,
          0,
          0,
          0,
          0,
          0,
          0
         ]
        },
        {
         "line": {
          "width": 0.5
         },
         "mode": "lines",
         "name": "MSFT",
         "stackgroup": "one",
         "type": "scatter",
         "x": [
          22.400000000000002,
          23.400000000000002,
          24.400000000000002,
          25.4,
          26.400000000000002,
          27.400000000000002,
          28.400000000000002,
          29.400000000000006,
          30.400000000000006,
          31.400000000000006,
          32.400000000000006,
          33.400000000000006,
          34.400000000000006,
          35.400000000000006,
          36.40000000000001,
          37.40000000000001,
          38.40000000000001,
          39.40000000000001,
          40.40000000000001,
          41.40000000000001,
          42.40000000000001,
          43.40000000000002,
          44.40000000000002,
          45.40000000000002,
          46.40000000000002,
          47.40000000000002,
          48.40000000000002,
          49.40000000000002,
          50.40000000000002,
          51.40000000000002,
          52.40000000000003,
          53.40000000000003,
          54.40000000000003,
          55.40000000000003,
          56.40000000000003,
          57.40000000000003,
          58.40000000000003,
          59.400000000000034,
          60.400000000000034,
          61.400000000000034,
          62.400000000000034,
          63.400000000000034,
          64.40000000000003,
          65.40000000000003,
          66.40000000000003,
          67.40000000000003,
          68.40000000000003,
          69.40000000000003,
          70.40000000000003,
          71.40000000000003,
          72.40000000000005,
          73.40000000000005,
          74.40000000000005,
          75.40000000000005,
          76.40000000000005,
          77.40000000000005,
          78.40000000000005,
          79.40000000000005,
          80.40000000000005,
          81.40000000000005,
          82.40000000000005,
          83.40000000000005,
          84.40000000000005,
          85.40000000000005,
          86.40000000000005,
          87.40000000000006,
          88.40000000000006,
          89.40000000000006,
          90.40000000000006,
          91.40000000000006,
          92.40000000000006,
          93.40000000000006,
          94.40000000000006,
          95.40000000000006,
          96.40000000000006,
          97.40000000000006,
          98.40000000000006,
          99.40000000000006,
          100.40000000000006,
          101.40000000000006,
          102.40000000000006,
          103.40000000000006,
          104.40000000000008,
          105.40000000000008,
          106.40000000000008,
          107.40000000000008,
          108.40000000000008,
          109.40000000000008,
          110.40000000000008,
          111.40000000000008,
          112.40000000000008,
          113.40000000000008,
          114.40000000000008,
          115.40000000000008,
          116.40000000000008,
          117.40000000000008,
          118.40000000000008,
          119.40000000000009,
          120.40000000000009,
          121.40000000000009,
          122.40000000000009,
          123.40000000000009,
          124.40000000000009,
          125.40000000000009,
          126.40000000000009,
          127.40000000000009,
          128.4000000000001,
          129.4000000000001,
          130.4000000000001,
          131.4000000000001,
          132.4000000000001,
          133.4000000000001,
          134.4000000000001,
          135.4000000000001,
          136.4000000000001,
          137.4000000000001,
          138.4000000000001,
          139.4000000000001,
          140.4000000000001,
          141.4000000000001,
          142.4000000000001,
          143.4000000000001,
          144.40000000000012,
          145.40000000000012,
          146.40000000000012,
          147.40000000000012,
          148.40000000000012,
          149.40000000000012,
          150.40000000000012,
          151.40000000000012,
          152.40000000000012,
          153.40000000000012,
          154.40000000000012,
          155.40000000000012,
          156.40000000000012,
          157.40000000000012,
          158.40000000000012,
          159.40000000000012,
          160.40000000000012,
          161.40000000000012,
          162.40000000000012,
          163.40000000000012,
          164.40000000000012,
          165.40000000000012,
          166.40000000000012,
          167.40000000000012,
          168.40000000000012,
          169.40000000000012,
          170.40000000000012,
          171.40000000000012,
          172.40000000000012,
          173.40000000000012,
          174.40000000000012,
          175.40000000000015,
          176.40000000000015,
          177.40000000000015,
          178.40000000000015,
          179.40000000000015,
          180.40000000000015,
          181.40000000000015,
          182.40000000000015,
          183.40000000000015,
          184.40000000000015,
          185.40000000000015,
          186.40000000000015,
          187.40000000000015,
          188.40000000000015,
          189.40000000000015,
          190.40000000000015,
          191.40000000000015
         ],
         "y": [
          0,
          0,
          0,
          0,
          0,
          0,
          0,
          0,
          0,
          0,
          0,
          0,
          0,
          0,
          0,
          0,
          0,
          0,
          0,
          0,
          0,
          0,
          0,
          0,
          0,
          0,
          0,
          0,
          0,
          0,
          0,
          0,
          0,
          0,
          0,
          0,
          0,
          0,
          0,
          0,
          0,
          0,
          0,
          0,
          0,
          0,
          0,
          0,
          0,
          0,
          0,
          0,
          0,
          0,
          0,
          0,
          0,
          0,
          0,
          0,
          0,
          0,
          0,
          0,
          0,
          0,
          0,
          0,
          0,
          0,
          0,
          0,
          0,
          0,
          0,
          0,
          0,
          0,
          0,
          0,
          0,
          0,
          0,
          0,
          0,
          0,
          0,
          0,
          0,
          0,
          0,
          0,
          0,
          0,
          0,
          0,
          0,
          0,
          0,
          0,
          0,
          0,
          0,
          0,
          0,
          0,
          0,
          0,
          0,
          0,
          0,
          0,
          0,
          0,
          0,
          0,
          0,
          0,
          0,
          0,
          0,
          0,
          0,
          0,
          0,
          0,
          0,
          0,
          0,
          0,
          0,
          0,
          0,
          0,
          0,
          0,
          0,
          0,
          0,
          0,
          0,
          0,
          0,
          0,
          0,
          0,
          0,
          0,
          0,
          0,
          0,
          0,
          0,
          0,
          0,
          0,
          0,
          0,
          0,
          0,
          0,
          0,
          0,
          0,
          0,
          0,
          0,
          0,
          0,
          0
         ]
        },
        {
         "line": {
          "width": 0.5
         },
         "mode": "lines",
         "name": "NVDA",
         "stackgroup": "one",
         "type": "scatter",
         "x": [
          22.400000000000002,
          23.400000000000002,
          24.400000000000002,
          25.4,
          26.400000000000002,
          27.400000000000002,
          28.400000000000002,
          29.400000000000006,
          30.400000000000006,
          31.400000000000006,
          32.400000000000006,
          33.400000000000006,
          34.400000000000006,
          35.400000000000006,
          36.40000000000001,
          37.40000000000001,
          38.40000000000001,
          39.40000000000001,
          40.40000000000001,
          41.40000000000001,
          42.40000000000001,
          43.40000000000002,
          44.40000000000002,
          45.40000000000002,
          46.40000000000002,
          47.40000000000002,
          48.40000000000002,
          49.40000000000002,
          50.40000000000002,
          51.40000000000002,
          52.40000000000003,
          53.40000000000003,
          54.40000000000003,
          55.40000000000003,
          56.40000000000003,
          57.40000000000003,
          58.40000000000003,
          59.400000000000034,
          60.400000000000034,
          61.400000000000034,
          62.400000000000034,
          63.400000000000034,
          64.40000000000003,
          65.40000000000003,
          66.40000000000003,
          67.40000000000003,
          68.40000000000003,
          69.40000000000003,
          70.40000000000003,
          71.40000000000003,
          72.40000000000005,
          73.40000000000005,
          74.40000000000005,
          75.40000000000005,
          76.40000000000005,
          77.40000000000005,
          78.40000000000005,
          79.40000000000005,
          80.40000000000005,
          81.40000000000005,
          82.40000000000005,
          83.40000000000005,
          84.40000000000005,
          85.40000000000005,
          86.40000000000005,
          87.40000000000006,
          88.40000000000006,
          89.40000000000006,
          90.40000000000006,
          91.40000000000006,
          92.40000000000006,
          93.40000000000006,
          94.40000000000006,
          95.40000000000006,
          96.40000000000006,
          97.40000000000006,
          98.40000000000006,
          99.40000000000006,
          100.40000000000006,
          101.40000000000006,
          102.40000000000006,
          103.40000000000006,
          104.40000000000008,
          105.40000000000008,
          106.40000000000008,
          107.40000000000008,
          108.40000000000008,
          109.40000000000008,
          110.40000000000008,
          111.40000000000008,
          112.40000000000008,
          113.40000000000008,
          114.40000000000008,
          115.40000000000008,
          116.40000000000008,
          117.40000000000008,
          118.40000000000008,
          119.40000000000009,
          120.40000000000009,
          121.40000000000009,
          122.40000000000009,
          123.40000000000009,
          124.40000000000009,
          125.40000000000009,
          126.40000000000009,
          127.40000000000009,
          128.4000000000001,
          129.4000000000001,
          130.4000000000001,
          131.4000000000001,
          132.4000000000001,
          133.4000000000001,
          134.4000000000001,
          135.4000000000001,
          136.4000000000001,
          137.4000000000001,
          138.4000000000001,
          139.4000000000001,
          140.4000000000001,
          141.4000000000001,
          142.4000000000001,
          143.4000000000001,
          144.40000000000012,
          145.40000000000012,
          146.40000000000012,
          147.40000000000012,
          148.40000000000012,
          149.40000000000012,
          150.40000000000012,
          151.40000000000012,
          152.40000000000012,
          153.40000000000012,
          154.40000000000012,
          155.40000000000012,
          156.40000000000012,
          157.40000000000012,
          158.40000000000012,
          159.40000000000012,
          160.40000000000012,
          161.40000000000012,
          162.40000000000012,
          163.40000000000012,
          164.40000000000012,
          165.40000000000012,
          166.40000000000012,
          167.40000000000012,
          168.40000000000012,
          169.40000000000012,
          170.40000000000012,
          171.40000000000012,
          172.40000000000012,
          173.40000000000012,
          174.40000000000012,
          175.40000000000015,
          176.40000000000015,
          177.40000000000015,
          178.40000000000015,
          179.40000000000015,
          180.40000000000015,
          181.40000000000015,
          182.40000000000015,
          183.40000000000015,
          184.40000000000015,
          185.40000000000015,
          186.40000000000015,
          187.40000000000015,
          188.40000000000015,
          189.40000000000015,
          190.40000000000015,
          191.40000000000015
         ],
         "y": [
          0,
          0,
          0,
          0,
          0,
          0,
          0,
          0,
          0,
          0,
          0,
          0,
          0,
          0,
          0,
          0,
          0,
          0,
          0,
          0,
          0,
          0,
          0,
          0,
          0,
          0,
          0,
          0,
          0,
          0,
          0,
          0,
          0,
          0,
          0,
          0,
          0,
          0,
          0,
          0,
          0,
          0,
          0,
          0,
          0,
          0,
          0,
          0,
          0,
          0,
          0,
          0,
          0,
          0,
          0,
          0,
          0.23800000000000002,
          0.597,
          0.9560000000000001,
          1.315,
          1.6740000000000002,
          2.033,
          2.392,
          2.751,
          3.11,
          3.469,
          3.827,
          4.186,
          4.545,
          4.904,
          5.263,
          5.622,
          5.981,
          6.34,
          6.699,
          7.058000000000001,
          7.417,
          7.776,
          8.135,
          8.494,
          8.853,
          9.212,
          9.571,
          9.93,
          10.289,
          10.648,
          11.006,
          11.365,
          11.724,
          12.083,
          12.442,
          12.801000000000002,
          13.16,
          13.519,
          13.877999999999998,
          14.237,
          14.596,
          14.954999999999998,
          15.314,
          15.673,
          16.032,
          16.391,
          16.75,
          17.108999999999998,
          17.468,
          17.826,
          18.185000000000002,
          18.544,
          18.903,
          19.262,
          19.621,
          19.98,
          20.339,
          20.698,
          21.057000000000002,
          21.416,
          21.775,
          22.134,
          22.493,
          22.852,
          23.158,
          23.461000000000002,
          23.764,
          24.067,
          24.37,
          24.673000000000002,
          24.977,
          25.28,
          25.583,
          25.886,
          26.189,
          26.491999999999997,
          26.72,
          26.947,
          27.175,
          27.401999999999997,
          27.63,
          27.857,
          28.084999999999997,
          28.311999999999998,
          28.54,
          28.767,
          28.994999999999997,
          29.221999999999998,
          29.45,
          29.677,
          29.904999999999998,
          30.131999999999998,
          30.36,
          30.177,
          28.677999999999997,
          27.18,
          25.682,
          24.184,
          22.686,
          21.187,
          19.689,
          18.191,
          16.692999999999998,
          15.195,
          13.696,
          12.198,
          10.7,
          9.202,
          7.704,
          6.205,
          4.707,
          3.209,
          1.711,
          0.212
         ]
        },
        {
         "line": {
          "width": 0.5
         },
         "mode": "lines",
         "name": "SE",
         "stackgroup": "one",
         "type": "scatter",
         "x": [
          22.400000000000002,
          23.400000000000002,
          24.400000000000002,
          25.4,
          26.400000000000002,
          27.400000000000002,
          28.400000000000002,
          29.400000000000006,
          30.400000000000006,
          31.400000000000006,
          32.400000000000006,
          33.400000000000006,
          34.400000000000006,
          35.400000000000006,
          36.40000000000001,
          37.40000000000001,
          38.40000000000001,
          39.40000000000001,
          40.40000000000001,
          41.40000000000001,
          42.40000000000001,
          43.40000000000002,
          44.40000000000002,
          45.40000000000002,
          46.40000000000002,
          47.40000000000002,
          48.40000000000002,
          49.40000000000002,
          50.40000000000002,
          51.40000000000002,
          52.40000000000003,
          53.40000000000003,
          54.40000000000003,
          55.40000000000003,
          56.40000000000003,
          57.40000000000003,
          58.40000000000003,
          59.400000000000034,
          60.400000000000034,
          61.400000000000034,
          62.400000000000034,
          63.400000000000034,
          64.40000000000003,
          65.40000000000003,
          66.40000000000003,
          67.40000000000003,
          68.40000000000003,
          69.40000000000003,
          70.40000000000003,
          71.40000000000003,
          72.40000000000005,
          73.40000000000005,
          74.40000000000005,
          75.40000000000005,
          76.40000000000005,
          77.40000000000005,
          78.40000000000005,
          79.40000000000005,
          80.40000000000005,
          81.40000000000005,
          82.40000000000005,
          83.40000000000005,
          84.40000000000005,
          85.40000000000005,
          86.40000000000005,
          87.40000000000006,
          88.40000000000006,
          89.40000000000006,
          90.40000000000006,
          91.40000000000006,
          92.40000000000006,
          93.40000000000006,
          94.40000000000006,
          95.40000000000006,
          96.40000000000006,
          97.40000000000006,
          98.40000000000006,
          99.40000000000006,
          100.40000000000006,
          101.40000000000006,
          102.40000000000006,
          103.40000000000006,
          104.40000000000008,
          105.40000000000008,
          106.40000000000008,
          107.40000000000008,
          108.40000000000008,
          109.40000000000008,
          110.40000000000008,
          111.40000000000008,
          112.40000000000008,
          113.40000000000008,
          114.40000000000008,
          115.40000000000008,
          116.40000000000008,
          117.40000000000008,
          118.40000000000008,
          119.40000000000009,
          120.40000000000009,
          121.40000000000009,
          122.40000000000009,
          123.40000000000009,
          124.40000000000009,
          125.40000000000009,
          126.40000000000009,
          127.40000000000009,
          128.4000000000001,
          129.4000000000001,
          130.4000000000001,
          131.4000000000001,
          132.4000000000001,
          133.4000000000001,
          134.4000000000001,
          135.4000000000001,
          136.4000000000001,
          137.4000000000001,
          138.4000000000001,
          139.4000000000001,
          140.4000000000001,
          141.4000000000001,
          142.4000000000001,
          143.4000000000001,
          144.40000000000012,
          145.40000000000012,
          146.40000000000012,
          147.40000000000012,
          148.40000000000012,
          149.40000000000012,
          150.40000000000012,
          151.40000000000012,
          152.40000000000012,
          153.40000000000012,
          154.40000000000012,
          155.40000000000012,
          156.40000000000012,
          157.40000000000012,
          158.40000000000012,
          159.40000000000012,
          160.40000000000012,
          161.40000000000012,
          162.40000000000012,
          163.40000000000012,
          164.40000000000012,
          165.40000000000012,
          166.40000000000012,
          167.40000000000012,
          168.40000000000012,
          169.40000000000012,
          170.40000000000012,
          171.40000000000012,
          172.40000000000012,
          173.40000000000012,
          174.40000000000012,
          175.40000000000015,
          176.40000000000015,
          177.40000000000015,
          178.40000000000015,
          179.40000000000015,
          180.40000000000015,
          181.40000000000015,
          182.40000000000015,
          183.40000000000015,
          184.40000000000015,
          185.40000000000015,
          186.40000000000015,
          187.40000000000015,
          188.40000000000015,
          189.40000000000015,
          190.40000000000015,
          191.40000000000015
         ],
         "y": [
          0,
          0,
          0,
          0,
          0,
          0,
          0.156,
          0.657,
          1.157,
          1.6580000000000001,
          2.158,
          2.659,
          3.16,
          3.66,
          4.1610000000000005,
          4.662,
          5.162,
          5.663,
          6.164,
          6.664000000000001,
          7.165000000000001,
          7.666,
          8.166,
          8.667,
          9.168,
          9.668000000000001,
          10.169,
          10.67,
          11.17,
          11.671,
          12.171999999999999,
          12.672,
          13.173000000000002,
          13.672999999999998,
          14.174000000000001,
          14.674999999999999,
          15.174999999999999,
          15.676000000000002,
          16.177,
          16.677,
          17.177999999999997,
          17.679000000000002,
          18.179000000000002,
          18.68,
          19.181,
          19.681,
          20.182,
          20.683,
          21.183,
          21.684,
          22.185,
          22.685,
          23.186,
          23.687,
          24.187,
          24.688,
          25.086000000000002,
          25.430999999999997,
          25.777,
          26.122,
          26.468000000000004,
          26.813,
          27.159,
          27.504,
          27.85,
          28.194999999999997,
          28.541,
          28.886,
          29.232000000000003,
          29.578,
          29.923,
          30.269000000000002,
          30.614,
          30.959999999999997,
          31.305,
          31.651,
          31.996000000000002,
          32.342,
          32.687,
          33.033,
          33.378,
          33.724,
          34.07,
          34.415,
          34.760999999999996,
          35.106,
          35.452,
          35.797000000000004,
          36.143,
          36.488,
          36.834,
          37.179,
          37.525,
          37.87,
          38.216,
          38.561,
          38.907000000000004,
          39.253,
          39.598,
          39.944,
          40.289,
          40.635,
          40.98,
          41.326,
          41.671,
          42.016999999999996,
          42.362,
          42.708,
          43.053000000000004,
          43.399,
          43.744,
          44.09,
          44.436,
          44.781,
          45.127,
          45.472,
          45.818,
          46.163,
          46.509,
          46.854,
          47.591,
          48.352000000000004,
          49.113,
          49.874,
          50.635,
          51.396,
          52.157,
          52.918,
          53.679,
          54.44,
          55.201,
          55.962,
          56.721999999999994,
          57.482,
          58.243,
          59.00300000000001,
          59.763,
          60.524,
          61.284000000000006,
          62.044,
          62.805,
          63.565000000000005,
          64.325,
          65.086,
          65.846,
          66.606,
          67.367,
          68.12700000000001,
          68.887,
          69.82300000000001,
          71.322,
          72.82,
          74.318,
          75.81599999999999,
          77.31400000000001,
          78.813,
          80.31099999999999,
          81.809,
          83.307,
          84.80499999999999,
          86.304,
          87.802,
          89.3,
          90.798,
          92.296,
          93.795,
          95.293,
          96.79100000000001,
          98.289,
          99.788
         ]
        },
        {
         "line": {
          "width": 0.5
         },
         "mode": "lines",
         "name": "TSM",
         "stackgroup": "one",
         "type": "scatter",
         "x": [
          22.400000000000002,
          23.400000000000002,
          24.400000000000002,
          25.4,
          26.400000000000002,
          27.400000000000002,
          28.400000000000002,
          29.400000000000006,
          30.400000000000006,
          31.400000000000006,
          32.400000000000006,
          33.400000000000006,
          34.400000000000006,
          35.400000000000006,
          36.40000000000001,
          37.40000000000001,
          38.40000000000001,
          39.40000000000001,
          40.40000000000001,
          41.40000000000001,
          42.40000000000001,
          43.40000000000002,
          44.40000000000002,
          45.40000000000002,
          46.40000000000002,
          47.40000000000002,
          48.40000000000002,
          49.40000000000002,
          50.40000000000002,
          51.40000000000002,
          52.40000000000003,
          53.40000000000003,
          54.40000000000003,
          55.40000000000003,
          56.40000000000003,
          57.40000000000003,
          58.40000000000003,
          59.400000000000034,
          60.400000000000034,
          61.400000000000034,
          62.400000000000034,
          63.400000000000034,
          64.40000000000003,
          65.40000000000003,
          66.40000000000003,
          67.40000000000003,
          68.40000000000003,
          69.40000000000003,
          70.40000000000003,
          71.40000000000003,
          72.40000000000005,
          73.40000000000005,
          74.40000000000005,
          75.40000000000005,
          76.40000000000005,
          77.40000000000005,
          78.40000000000005,
          79.40000000000005,
          80.40000000000005,
          81.40000000000005,
          82.40000000000005,
          83.40000000000005,
          84.40000000000005,
          85.40000000000005,
          86.40000000000005,
          87.40000000000006,
          88.40000000000006,
          89.40000000000006,
          90.40000000000006,
          91.40000000000006,
          92.40000000000006,
          93.40000000000006,
          94.40000000000006,
          95.40000000000006,
          96.40000000000006,
          97.40000000000006,
          98.40000000000006,
          99.40000000000006,
          100.40000000000006,
          101.40000000000006,
          102.40000000000006,
          103.40000000000006,
          104.40000000000008,
          105.40000000000008,
          106.40000000000008,
          107.40000000000008,
          108.40000000000008,
          109.40000000000008,
          110.40000000000008,
          111.40000000000008,
          112.40000000000008,
          113.40000000000008,
          114.40000000000008,
          115.40000000000008,
          116.40000000000008,
          117.40000000000008,
          118.40000000000008,
          119.40000000000009,
          120.40000000000009,
          121.40000000000009,
          122.40000000000009,
          123.40000000000009,
          124.40000000000009,
          125.40000000000009,
          126.40000000000009,
          127.40000000000009,
          128.4000000000001,
          129.4000000000001,
          130.4000000000001,
          131.4000000000001,
          132.4000000000001,
          133.4000000000001,
          134.4000000000001,
          135.4000000000001,
          136.4000000000001,
          137.4000000000001,
          138.4000000000001,
          139.4000000000001,
          140.4000000000001,
          141.4000000000001,
          142.4000000000001,
          143.4000000000001,
          144.40000000000012,
          145.40000000000012,
          146.40000000000012,
          147.40000000000012,
          148.40000000000012,
          149.40000000000012,
          150.40000000000012,
          151.40000000000012,
          152.40000000000012,
          153.40000000000012,
          154.40000000000012,
          155.40000000000012,
          156.40000000000012,
          157.40000000000012,
          158.40000000000012,
          159.40000000000012,
          160.40000000000012,
          161.40000000000012,
          162.40000000000012,
          163.40000000000012,
          164.40000000000012,
          165.40000000000012,
          166.40000000000012,
          167.40000000000012,
          168.40000000000012,
          169.40000000000012,
          170.40000000000012,
          171.40000000000012,
          172.40000000000012,
          173.40000000000012,
          174.40000000000012,
          175.40000000000015,
          176.40000000000015,
          177.40000000000015,
          178.40000000000015,
          179.40000000000015,
          180.40000000000015,
          181.40000000000015,
          182.40000000000015,
          183.40000000000015,
          184.40000000000015,
          185.40000000000015,
          186.40000000000015,
          187.40000000000015,
          188.40000000000015,
          189.40000000000015,
          190.40000000000015,
          191.40000000000015
         ],
         "y": [
          0.955,
          0.955,
          0.955,
          2.16,
          3.5389999999999997,
          4.917,
          5.953,
          6.229,
          6.5040000000000004,
          6.78,
          7.056,
          7.332,
          7.608,
          7.883,
          8.158999999999999,
          8.434999999999999,
          8.711,
          8.987,
          9.261999999999999,
          9.538,
          9.814,
          10.09,
          10.366,
          10.641,
          10.917,
          11.193,
          11.469,
          11.745,
          12.02,
          12.296,
          12.572,
          12.848,
          13.123999999999999,
          13.399,
          13.675,
          13.950999999999999,
          14.227,
          14.503,
          14.777999999999999,
          15.054,
          15.329999999999998,
          15.606,
          15.882,
          16.157,
          16.433,
          16.709,
          16.985,
          17.261000000000003,
          17.535999999999998,
          17.812,
          18.088,
          18.364,
          18.64,
          18.915000000000003,
          19.191,
          19.467000000000002,
          19.645000000000003,
          19.773,
          19.902,
          20.03,
          20.158,
          20.286,
          20.415,
          20.543,
          20.671,
          20.799,
          20.928,
          21.056,
          21.184,
          21.312,
          21.441,
          21.569,
          21.697,
          21.825,
          21.954,
          22.081999999999997,
          22.21,
          22.338,
          22.467000000000002,
          22.595000000000002,
          22.723,
          22.851,
          22.98,
          23.108,
          23.236,
          23.363999999999997,
          23.493,
          23.621,
          23.749000000000002,
          23.877000000000002,
          24.006,
          24.134,
          24.262,
          24.39,
          24.519,
          24.647,
          24.775,
          24.904,
          25.032,
          25.16,
          25.288,
          25.417,
          25.545,
          25.673000000000002,
          25.801000000000002,
          25.929999999999996,
          26.057999999999996,
          26.186,
          26.314,
          26.443,
          26.571,
          26.699,
          26.827,
          26.956000000000003,
          27.084000000000003,
          27.211999999999996,
          27.339999999999996,
          27.468999999999998,
          27.596999999999998,
          27.725,
          26.93,
          26.077,
          25.224000000000004,
          24.371000000000002,
          23.517,
          22.664,
          21.811,
          20.958,
          20.105,
          19.252,
          18.398999999999997,
          17.546,
          16.558,
          15.57,
          14.582,
          13.594999999999999,
          12.607,
          11.619,
          10.631,
          9.643,
          8.655,
          7.668,
          6.68,
          5.692,
          4.704,
          3.7159999999999997,
          2.7279999999999998,
          1.7409999999999999,
          0.753,
          0,
          0,
          0,
          0,
          0,
          0,
          0,
          0,
          0,
          0,
          0,
          0,
          0,
          0,
          0,
          0,
          0,
          0,
          0,
          0,
          0
         ]
        },
        {
         "line": {
          "width": 0.5
         },
         "mode": "lines",
         "name": "VOO",
         "stackgroup": "one",
         "type": "scatter",
         "x": [
          22.400000000000002,
          23.400000000000002,
          24.400000000000002,
          25.4,
          26.400000000000002,
          27.400000000000002,
          28.400000000000002,
          29.400000000000006,
          30.400000000000006,
          31.400000000000006,
          32.400000000000006,
          33.400000000000006,
          34.400000000000006,
          35.400000000000006,
          36.40000000000001,
          37.40000000000001,
          38.40000000000001,
          39.40000000000001,
          40.40000000000001,
          41.40000000000001,
          42.40000000000001,
          43.40000000000002,
          44.40000000000002,
          45.40000000000002,
          46.40000000000002,
          47.40000000000002,
          48.40000000000002,
          49.40000000000002,
          50.40000000000002,
          51.40000000000002,
          52.40000000000003,
          53.40000000000003,
          54.40000000000003,
          55.40000000000003,
          56.40000000000003,
          57.40000000000003,
          58.40000000000003,
          59.400000000000034,
          60.400000000000034,
          61.400000000000034,
          62.400000000000034,
          63.400000000000034,
          64.40000000000003,
          65.40000000000003,
          66.40000000000003,
          67.40000000000003,
          68.40000000000003,
          69.40000000000003,
          70.40000000000003,
          71.40000000000003,
          72.40000000000005,
          73.40000000000005,
          74.40000000000005,
          75.40000000000005,
          76.40000000000005,
          77.40000000000005,
          78.40000000000005,
          79.40000000000005,
          80.40000000000005,
          81.40000000000005,
          82.40000000000005,
          83.40000000000005,
          84.40000000000005,
          85.40000000000005,
          86.40000000000005,
          87.40000000000006,
          88.40000000000006,
          89.40000000000006,
          90.40000000000006,
          91.40000000000006,
          92.40000000000006,
          93.40000000000006,
          94.40000000000006,
          95.40000000000006,
          96.40000000000006,
          97.40000000000006,
          98.40000000000006,
          99.40000000000006,
          100.40000000000006,
          101.40000000000006,
          102.40000000000006,
          103.40000000000006,
          104.40000000000008,
          105.40000000000008,
          106.40000000000008,
          107.40000000000008,
          108.40000000000008,
          109.40000000000008,
          110.40000000000008,
          111.40000000000008,
          112.40000000000008,
          113.40000000000008,
          114.40000000000008,
          115.40000000000008,
          116.40000000000008,
          117.40000000000008,
          118.40000000000008,
          119.40000000000009,
          120.40000000000009,
          121.40000000000009,
          122.40000000000009,
          123.40000000000009,
          124.40000000000009,
          125.40000000000009,
          126.40000000000009,
          127.40000000000009,
          128.4000000000001,
          129.4000000000001,
          130.4000000000001,
          131.4000000000001,
          132.4000000000001,
          133.4000000000001,
          134.4000000000001,
          135.4000000000001,
          136.4000000000001,
          137.4000000000001,
          138.4000000000001,
          139.4000000000001,
          140.4000000000001,
          141.4000000000001,
          142.4000000000001,
          143.4000000000001,
          144.40000000000012,
          145.40000000000012,
          146.40000000000012,
          147.40000000000012,
          148.40000000000012,
          149.40000000000012,
          150.40000000000012,
          151.40000000000012,
          152.40000000000012,
          153.40000000000012,
          154.40000000000012,
          155.40000000000012,
          156.40000000000012,
          157.40000000000012,
          158.40000000000012,
          159.40000000000012,
          160.40000000000012,
          161.40000000000012,
          162.40000000000012,
          163.40000000000012,
          164.40000000000012,
          165.40000000000012,
          166.40000000000012,
          167.40000000000012,
          168.40000000000012,
          169.40000000000012,
          170.40000000000012,
          171.40000000000012,
          172.40000000000012,
          173.40000000000012,
          174.40000000000012,
          175.40000000000015,
          176.40000000000015,
          177.40000000000015,
          178.40000000000015,
          179.40000000000015,
          180.40000000000015,
          181.40000000000015,
          182.40000000000015,
          183.40000000000015,
          184.40000000000015,
          185.40000000000015,
          186.40000000000015,
          187.40000000000015,
          188.40000000000015,
          189.40000000000015,
          190.40000000000015,
          191.40000000000015
         ],
         "y": [
          96.761,
          96.761,
          96.761,
          95.216,
          93.448,
          91.67999999999999,
          90.216,
          89.428,
          88.64,
          87.851,
          87.063,
          86.275,
          85.487,
          84.698,
          83.91,
          83.122,
          82.334,
          81.545,
          80.757,
          79.969,
          79.181,
          78.392,
          77.604,
          76.816,
          76.02799999999999,
          75.239,
          74.451,
          73.663,
          72.875,
          72.086,
          71.298,
          70.50999999999999,
          69.722,
          68.93299999999999,
          68.145,
          67.357,
          66.56800000000001,
          65.78,
          64.992,
          64.20400000000001,
          63.415,
          62.627,
          61.839,
          61.051,
          60.26200000000001,
          59.474000000000004,
          58.68600000000001,
          57.898,
          57.109,
          56.321,
          55.533,
          54.745,
          53.956,
          53.168000000000006,
          52.38,
          51.592000000000006,
          50.792,
          49.986000000000004,
          49.181000000000004,
          48.375,
          47.57,
          46.765,
          45.959,
          45.153999999999996,
          44.348,
          43.543,
          42.737,
          41.932,
          41.126000000000005,
          40.321,
          39.515,
          38.71,
          37.903999999999996,
          37.099,
          36.293,
          35.488,
          34.683,
          33.877,
          33.072,
          32.266,
          31.461,
          30.654999999999998,
          29.849999999999998,
          29.043999999999997,
          28.238999999999997,
          27.433000000000003,
          26.628,
          25.822,
          25.017,
          24.212,
          23.406,
          22.601,
          21.795,
          20.990000000000002,
          20.183999999999997,
          19.378999999999998,
          18.573,
          17.768,
          16.962,
          16.157,
          15.351,
          14.546000000000001,
          13.74,
          12.934999999999999,
          12.13,
          11.324,
          10.519,
          9.713,
          8.908000000000001,
          8.102,
          7.297,
          6.491,
          5.686,
          4.88,
          4.075,
          3.2689999999999997,
          2.464,
          1.659,
          0.853,
          0.048,
          0,
          0,
          0,
          0,
          0,
          0,
          0,
          0,
          0,
          0,
          0,
          0,
          0,
          0,
          0,
          0,
          0,
          0,
          0,
          0,
          0,
          0,
          0,
          0,
          0,
          0,
          0,
          0,
          0,
          0,
          0,
          0,
          0,
          0,
          0,
          0,
          0,
          0,
          0,
          0,
          0,
          0,
          0,
          0,
          0,
          0,
          0,
          0,
          0,
          0
         ]
        },
        {
         "line": {
          "width": 0.5
         },
         "mode": "lines",
         "name": "VUG",
         "stackgroup": "one",
         "type": "scatter",
         "x": [
          22.400000000000002,
          23.400000000000002,
          24.400000000000002,
          25.4,
          26.400000000000002,
          27.400000000000002,
          28.400000000000002,
          29.400000000000006,
          30.400000000000006,
          31.400000000000006,
          32.400000000000006,
          33.400000000000006,
          34.400000000000006,
          35.400000000000006,
          36.40000000000001,
          37.40000000000001,
          38.40000000000001,
          39.40000000000001,
          40.40000000000001,
          41.40000000000001,
          42.40000000000001,
          43.40000000000002,
          44.40000000000002,
          45.40000000000002,
          46.40000000000002,
          47.40000000000002,
          48.40000000000002,
          49.40000000000002,
          50.40000000000002,
          51.40000000000002,
          52.40000000000003,
          53.40000000000003,
          54.40000000000003,
          55.40000000000003,
          56.40000000000003,
          57.40000000000003,
          58.40000000000003,
          59.400000000000034,
          60.400000000000034,
          61.400000000000034,
          62.400000000000034,
          63.400000000000034,
          64.40000000000003,
          65.40000000000003,
          66.40000000000003,
          67.40000000000003,
          68.40000000000003,
          69.40000000000003,
          70.40000000000003,
          71.40000000000003,
          72.40000000000005,
          73.40000000000005,
          74.40000000000005,
          75.40000000000005,
          76.40000000000005,
          77.40000000000005,
          78.40000000000005,
          79.40000000000005,
          80.40000000000005,
          81.40000000000005,
          82.40000000000005,
          83.40000000000005,
          84.40000000000005,
          85.40000000000005,
          86.40000000000005,
          87.40000000000006,
          88.40000000000006,
          89.40000000000006,
          90.40000000000006,
          91.40000000000006,
          92.40000000000006,
          93.40000000000006,
          94.40000000000006,
          95.40000000000006,
          96.40000000000006,
          97.40000000000006,
          98.40000000000006,
          99.40000000000006,
          100.40000000000006,
          101.40000000000006,
          102.40000000000006,
          103.40000000000006,
          104.40000000000008,
          105.40000000000008,
          106.40000000000008,
          107.40000000000008,
          108.40000000000008,
          109.40000000000008,
          110.40000000000008,
          111.40000000000008,
          112.40000000000008,
          113.40000000000008,
          114.40000000000008,
          115.40000000000008,
          116.40000000000008,
          117.40000000000008,
          118.40000000000008,
          119.40000000000009,
          120.40000000000009,
          121.40000000000009,
          122.40000000000009,
          123.40000000000009,
          124.40000000000009,
          125.40000000000009,
          126.40000000000009,
          127.40000000000009,
          128.4000000000001,
          129.4000000000001,
          130.4000000000001,
          131.4000000000001,
          132.4000000000001,
          133.4000000000001,
          134.4000000000001,
          135.4000000000001,
          136.4000000000001,
          137.4000000000001,
          138.4000000000001,
          139.4000000000001,
          140.4000000000001,
          141.4000000000001,
          142.4000000000001,
          143.4000000000001,
          144.40000000000012,
          145.40000000000012,
          146.40000000000012,
          147.40000000000012,
          148.40000000000012,
          149.40000000000012,
          150.40000000000012,
          151.40000000000012,
          152.40000000000012,
          153.40000000000012,
          154.40000000000012,
          155.40000000000012,
          156.40000000000012,
          157.40000000000012,
          158.40000000000012,
          159.40000000000012,
          160.40000000000012,
          161.40000000000012,
          162.40000000000012,
          163.40000000000012,
          164.40000000000012,
          165.40000000000012,
          166.40000000000012,
          167.40000000000012,
          168.40000000000012,
          169.40000000000012,
          170.40000000000012,
          171.40000000000012,
          172.40000000000012,
          173.40000000000012,
          174.40000000000012,
          175.40000000000015,
          176.40000000000015,
          177.40000000000015,
          178.40000000000015,
          179.40000000000015,
          180.40000000000015,
          181.40000000000015,
          182.40000000000015,
          183.40000000000015,
          184.40000000000015,
          185.40000000000015,
          186.40000000000015,
          187.40000000000015,
          188.40000000000015,
          189.40000000000015,
          190.40000000000015,
          191.40000000000015
         ],
         "y": [
          0,
          0,
          0,
          0,
          0,
          0,
          0,
          0,
          0,
          0,
          0,
          0,
          0,
          0,
          0,
          0,
          0,
          0,
          0,
          0,
          0,
          0,
          0,
          0,
          0,
          0,
          0,
          0,
          0,
          0,
          0,
          0,
          0,
          0,
          0,
          0,
          0,
          0,
          0,
          0,
          0,
          0,
          0,
          0,
          0,
          0,
          0,
          0,
          0,
          0,
          0,
          0,
          0,
          0,
          0,
          0,
          0,
          0,
          0,
          0,
          0,
          0,
          0,
          0,
          0,
          0,
          0,
          0,
          0,
          0,
          0,
          0,
          0,
          0,
          0,
          0,
          0,
          0,
          0,
          0,
          0,
          0,
          0,
          0,
          0,
          0,
          0,
          0,
          0,
          0,
          0,
          0,
          0,
          0,
          0,
          0,
          0,
          0,
          0,
          0,
          0,
          0,
          0,
          0,
          0,
          0,
          0,
          0,
          0,
          0,
          0,
          0,
          0,
          0,
          0,
          0,
          0,
          0,
          0,
          0,
          0,
          0,
          0,
          0,
          0,
          0,
          0,
          0,
          0,
          0,
          0,
          0,
          0,
          0,
          0,
          0,
          0,
          0,
          0,
          0,
          0,
          0,
          0,
          0,
          0,
          0,
          0,
          0,
          0,
          0,
          0,
          0,
          0,
          0,
          0,
          0,
          0,
          0,
          0,
          0,
          0,
          0,
          0,
          0,
          0,
          0,
          0,
          0,
          0,
          0
         ]
        }
       ],
       "layout": {
        "hovermode": "x",
        "template": {
         "data": {
          "bar": [
           {
            "error_x": {
             "color": "#2a3f5f"
            },
            "error_y": {
             "color": "#2a3f5f"
            },
            "marker": {
             "line": {
              "color": "#E5ECF6",
              "width": 0.5
             },
             "pattern": {
              "fillmode": "overlay",
              "size": 10,
              "solidity": 0.2
             }
            },
            "type": "bar"
           }
          ],
          "barpolar": [
           {
            "marker": {
             "line": {
              "color": "#E5ECF6",
              "width": 0.5
             },
             "pattern": {
              "fillmode": "overlay",
              "size": 10,
              "solidity": 0.2
             }
            },
            "type": "barpolar"
           }
          ],
          "carpet": [
           {
            "aaxis": {
             "endlinecolor": "#2a3f5f",
             "gridcolor": "white",
             "linecolor": "white",
             "minorgridcolor": "white",
             "startlinecolor": "#2a3f5f"
            },
            "baxis": {
             "endlinecolor": "#2a3f5f",
             "gridcolor": "white",
             "linecolor": "white",
             "minorgridcolor": "white",
             "startlinecolor": "#2a3f5f"
            },
            "type": "carpet"
           }
          ],
          "choropleth": [
           {
            "colorbar": {
             "outlinewidth": 0,
             "ticks": ""
            },
            "type": "choropleth"
           }
          ],
          "contour": [
           {
            "colorbar": {
             "outlinewidth": 0,
             "ticks": ""
            },
            "colorscale": [
             [
              0,
              "#0d0887"
             ],
             [
              0.1111111111111111,
              "#46039f"
             ],
             [
              0.2222222222222222,
              "#7201a8"
             ],
             [
              0.3333333333333333,
              "#9c179e"
             ],
             [
              0.4444444444444444,
              "#bd3786"
             ],
             [
              0.5555555555555556,
              "#d8576b"
             ],
             [
              0.6666666666666666,
              "#ed7953"
             ],
             [
              0.7777777777777778,
              "#fb9f3a"
             ],
             [
              0.8888888888888888,
              "#fdca26"
             ],
             [
              1,
              "#f0f921"
             ]
            ],
            "type": "contour"
           }
          ],
          "contourcarpet": [
           {
            "colorbar": {
             "outlinewidth": 0,
             "ticks": ""
            },
            "type": "contourcarpet"
           }
          ],
          "heatmap": [
           {
            "colorbar": {
             "outlinewidth": 0,
             "ticks": ""
            },
            "colorscale": [
             [
              0,
              "#0d0887"
             ],
             [
              0.1111111111111111,
              "#46039f"
             ],
             [
              0.2222222222222222,
              "#7201a8"
             ],
             [
              0.3333333333333333,
              "#9c179e"
             ],
             [
              0.4444444444444444,
              "#bd3786"
             ],
             [
              0.5555555555555556,
              "#d8576b"
             ],
             [
              0.6666666666666666,
              "#ed7953"
             ],
             [
              0.7777777777777778,
              "#fb9f3a"
             ],
             [
              0.8888888888888888,
              "#fdca26"
             ],
             [
              1,
              "#f0f921"
             ]
            ],
            "type": "heatmap"
           }
          ],
          "heatmapgl": [
           {
            "colorbar": {
             "outlinewidth": 0,
             "ticks": ""
            },
            "colorscale": [
             [
              0,
              "#0d0887"
             ],
             [
              0.1111111111111111,
              "#46039f"
             ],
             [
              0.2222222222222222,
              "#7201a8"
             ],
             [
              0.3333333333333333,
              "#9c179e"
             ],
             [
              0.4444444444444444,
              "#bd3786"
             ],
             [
              0.5555555555555556,
              "#d8576b"
             ],
             [
              0.6666666666666666,
              "#ed7953"
             ],
             [
              0.7777777777777778,
              "#fb9f3a"
             ],
             [
              0.8888888888888888,
              "#fdca26"
             ],
             [
              1,
              "#f0f921"
             ]
            ],
            "type": "heatmapgl"
           }
          ],
          "histogram": [
           {
            "marker": {
             "pattern": {
              "fillmode": "overlay",
              "size": 10,
              "solidity": 0.2
             }
            },
            "type": "histogram"
           }
          ],
          "histogram2d": [
           {
            "colorbar": {
             "outlinewidth": 0,
             "ticks": ""
            },
            "colorscale": [
             [
              0,
              "#0d0887"
             ],
             [
              0.1111111111111111,
              "#46039f"
             ],
             [
              0.2222222222222222,
              "#7201a8"
             ],
             [
              0.3333333333333333,
              "#9c179e"
             ],
             [
              0.4444444444444444,
              "#bd3786"
             ],
             [
              0.5555555555555556,
              "#d8576b"
             ],
             [
              0.6666666666666666,
              "#ed7953"
             ],
             [
              0.7777777777777778,
              "#fb9f3a"
             ],
             [
              0.8888888888888888,
              "#fdca26"
             ],
             [
              1,
              "#f0f921"
             ]
            ],
            "type": "histogram2d"
           }
          ],
          "histogram2dcontour": [
           {
            "colorbar": {
             "outlinewidth": 0,
             "ticks": ""
            },
            "colorscale": [
             [
              0,
              "#0d0887"
             ],
             [
              0.1111111111111111,
              "#46039f"
             ],
             [
              0.2222222222222222,
              "#7201a8"
             ],
             [
              0.3333333333333333,
              "#9c179e"
             ],
             [
              0.4444444444444444,
              "#bd3786"
             ],
             [
              0.5555555555555556,
              "#d8576b"
             ],
             [
              0.6666666666666666,
              "#ed7953"
             ],
             [
              0.7777777777777778,
              "#fb9f3a"
             ],
             [
              0.8888888888888888,
              "#fdca26"
             ],
             [
              1,
              "#f0f921"
             ]
            ],
            "type": "histogram2dcontour"
           }
          ],
          "mesh3d": [
           {
            "colorbar": {
             "outlinewidth": 0,
             "ticks": ""
            },
            "type": "mesh3d"
           }
          ],
          "parcoords": [
           {
            "line": {
             "colorbar": {
              "outlinewidth": 0,
              "ticks": ""
             }
            },
            "type": "parcoords"
           }
          ],
          "pie": [
           {
            "automargin": true,
            "type": "pie"
           }
          ],
          "scatter": [
           {
            "marker": {
             "colorbar": {
              "outlinewidth": 0,
              "ticks": ""
             }
            },
            "type": "scatter"
           }
          ],
          "scatter3d": [
           {
            "line": {
             "colorbar": {
              "outlinewidth": 0,
              "ticks": ""
             }
            },
            "marker": {
             "colorbar": {
              "outlinewidth": 0,
              "ticks": ""
             }
            },
            "type": "scatter3d"
           }
          ],
          "scattercarpet": [
           {
            "marker": {
             "colorbar": {
              "outlinewidth": 0,
              "ticks": ""
             }
            },
            "type": "scattercarpet"
           }
          ],
          "scattergeo": [
           {
            "marker": {
             "colorbar": {
              "outlinewidth": 0,
              "ticks": ""
             }
            },
            "type": "scattergeo"
           }
          ],
          "scattergl": [
           {
            "marker": {
             "colorbar": {
              "outlinewidth": 0,
              "ticks": ""
             }
            },
            "type": "scattergl"
           }
          ],
          "scattermapbox": [
           {
            "marker": {
             "colorbar": {
              "outlinewidth": 0,
              "ticks": ""
             }
            },
            "type": "scattermapbox"
           }
          ],
          "scatterpolar": [
           {
            "marker": {
             "colorbar": {
              "outlinewidth": 0,
              "ticks": ""
             }
            },
            "type": "scatterpolar"
           }
          ],
          "scatterpolargl": [
           {
            "marker": {
             "colorbar": {
              "outlinewidth": 0,
              "ticks": ""
             }
            },
            "type": "scatterpolargl"
           }
          ],
          "scatterternary": [
           {
            "marker": {
             "colorbar": {
              "outlinewidth": 0,
              "ticks": ""
             }
            },
            "type": "scatterternary"
           }
          ],
          "surface": [
           {
            "colorbar": {
             "outlinewidth": 0,
             "ticks": ""
            },
            "colorscale": [
             [
              0,
              "#0d0887"
             ],
             [
              0.1111111111111111,
              "#46039f"
             ],
             [
              0.2222222222222222,
              "#7201a8"
             ],
             [
              0.3333333333333333,
              "#9c179e"
             ],
             [
              0.4444444444444444,
              "#bd3786"
             ],
             [
              0.5555555555555556,
              "#d8576b"
             ],
             [
              0.6666666666666666,
              "#ed7953"
             ],
             [
              0.7777777777777778,
              "#fb9f3a"
             ],
             [
              0.8888888888888888,
              "#fdca26"
             ],
             [
              1,
              "#f0f921"
             ]
            ],
            "type": "surface"
           }
          ],
          "table": [
           {
            "cells": {
             "fill": {
              "color": "#EBF0F8"
             },
             "line": {
              "color": "white"
             }
            },
            "header": {
             "fill": {
              "color": "#C8D4E3"
             },
             "line": {
              "color": "white"
             }
            },
            "type": "table"
           }
          ]
         },
         "layout": {
          "annotationdefaults": {
           "arrowcolor": "#2a3f5f",
           "arrowhead": 0,
           "arrowwidth": 1
          },
          "autotypenumbers": "strict",
          "coloraxis": {
           "colorbar": {
            "outlinewidth": 0,
            "ticks": ""
           }
          },
          "colorscale": {
           "diverging": [
            [
             0,
             "#8e0152"
            ],
            [
             0.1,
             "#c51b7d"
            ],
            [
             0.2,
             "#de77ae"
            ],
            [
             0.3,
             "#f1b6da"
            ],
            [
             0.4,
             "#fde0ef"
            ],
            [
             0.5,
             "#f7f7f7"
            ],
            [
             0.6,
             "#e6f5d0"
            ],
            [
             0.7,
             "#b8e186"
            ],
            [
             0.8,
             "#7fbc41"
            ],
            [
             0.9,
             "#4d9221"
            ],
            [
             1,
             "#276419"
            ]
           ],
           "sequential": [
            [
             0,
             "#0d0887"
            ],
            [
             0.1111111111111111,
             "#46039f"
            ],
            [
             0.2222222222222222,
             "#7201a8"
            ],
            [
             0.3333333333333333,
             "#9c179e"
            ],
            [
             0.4444444444444444,
             "#bd3786"
            ],
            [
             0.5555555555555556,
             "#d8576b"
            ],
            [
             0.6666666666666666,
             "#ed7953"
            ],
            [
             0.7777777777777778,
             "#fb9f3a"
            ],
            [
             0.8888888888888888,
             "#fdca26"
            ],
            [
             1,
             "#f0f921"
            ]
           ],
           "sequentialminus": [
            [
             0,
             "#0d0887"
            ],
            [
             0.1111111111111111,
             "#46039f"
            ],
            [
             0.2222222222222222,
             "#7201a8"
            ],
            [
             0.3333333333333333,
             "#9c179e"
            ],
            [
             0.4444444444444444,
             "#bd3786"
            ],
            [
             0.5555555555555556,
             "#d8576b"
            ],
            [
             0.6666666666666666,
             "#ed7953"
            ],
            [
             0.7777777777777778,
             "#fb9f3a"
            ],
            [
             0.8888888888888888,
             "#fdca26"
            ],
            [
             1,
             "#f0f921"
            ]
           ]
          },
          "colorway": [
           "#636efa",
           "#EF553B",
           "#00cc96",
           "#ab63fa",
           "#FFA15A",
           "#19d3f3",
           "#FF6692",
           "#B6E880",
           "#FF97FF",
           "#FECB52"
          ],
          "font": {
           "color": "#2a3f5f"
          },
          "geo": {
           "bgcolor": "white",
           "lakecolor": "white",
           "landcolor": "#E5ECF6",
           "showlakes": true,
           "showland": true,
           "subunitcolor": "white"
          },
          "hoverlabel": {
           "align": "left"
          },
          "hovermode": "closest",
          "mapbox": {
           "style": "light"
          },
          "paper_bgcolor": "white",
          "plot_bgcolor": "#E5ECF6",
          "polar": {
           "angularaxis": {
            "gridcolor": "white",
            "linecolor": "white",
            "ticks": ""
           },
           "bgcolor": "#E5ECF6",
           "radialaxis": {
            "gridcolor": "white",
            "linecolor": "white",
            "ticks": ""
           }
          },
          "scene": {
           "xaxis": {
            "backgroundcolor": "#E5ECF6",
            "gridcolor": "white",
            "gridwidth": 2,
            "linecolor": "white",
            "showbackground": true,
            "ticks": "",
            "zerolinecolor": "white"
           },
           "yaxis": {
            "backgroundcolor": "#E5ECF6",
            "gridcolor": "white",
            "gridwidth": 2,
            "linecolor": "white",
            "showbackground": true,
            "ticks": "",
            "zerolinecolor": "white"
           },
           "zaxis": {
            "backgroundcolor": "#E5ECF6",
            "gridcolor": "white",
            "gridwidth": 2,
            "linecolor": "white",
            "showbackground": true,
            "ticks": "",
            "zerolinecolor": "white"
           }
          },
          "shapedefaults": {
           "line": {
            "color": "#2a3f5f"
           }
          },
          "ternary": {
           "aaxis": {
            "gridcolor": "white",
            "linecolor": "white",
            "ticks": ""
           },
           "baxis": {
            "gridcolor": "white",
            "linecolor": "white",
            "ticks": ""
           },
           "bgcolor": "#E5ECF6",
           "caxis": {
            "gridcolor": "white",
            "linecolor": "white",
            "ticks": ""
           }
          },
          "title": {
           "x": 0.05
          },
          "xaxis": {
           "automargin": true,
           "gridcolor": "white",
           "linecolor": "white",
           "ticks": "",
           "title": {
            "standoff": 15
           },
           "zerolinecolor": "white",
           "zerolinewidth": 2
          },
          "yaxis": {
           "automargin": true,
           "gridcolor": "white",
           "linecolor": "white",
           "ticks": "",
           "title": {
            "standoff": 15
           },
           "zerolinecolor": "white",
           "zerolinewidth": 2
          }
         }
        },
        "xaxis": {
         "title": {
          "text": "return (%)"
         }
        },
        "yaxis": {
         "title": {
          "text": "weight (%)"
         }
        }
       }
      },
      "text/html": "<div>                            <div id=\"c10a0912-50ce-4d05-b1a7-4f52d6ba6e96\" class=\"plotly-graph-div\" style=\"height:525px; width:100%;\"></div>            <script type=\"text/javascript\">                require([\"plotly\"], function(Plotly) {                    window.PLOTLYENV=window.PLOTLYENV || {};                                    if (document.getElementById(\"c10a0912-50ce-4d05-b1a7-4f52d6ba6e96\")) {                    Plotly.newPlot(                        \"c10a0912-50ce-4d05-b1a7-4f52d6ba6e96\",                        [{\"line\":{\"width\":0.5},\"mode\":\"lines\",\"name\":\"CRWD\",\"stackgroup\":\"one\",\"type\":\"scatter\",\"x\":[22.400000000000002,23.400000000000002,24.400000000000002,25.4,26.400000000000002,27.400000000000002,28.400000000000002,29.400000000000006,30.400000000000006,31.400000000000006,32.400000000000006,33.400000000000006,34.400000000000006,35.400000000000006,36.40000000000001,37.40000000000001,38.40000000000001,39.40000000000001,40.40000000000001,41.40000000000001,42.40000000000001,43.40000000000002,44.40000000000002,45.40000000000002,46.40000000000002,47.40000000000002,48.40000000000002,49.40000000000002,50.40000000000002,51.40000000000002,52.40000000000003,53.40000000000003,54.40000000000003,55.40000000000003,56.40000000000003,57.40000000000003,58.40000000000003,59.400000000000034,60.400000000000034,61.400000000000034,62.400000000000034,63.400000000000034,64.40000000000003,65.40000000000003,66.40000000000003,67.40000000000003,68.40000000000003,69.40000000000003,70.40000000000003,71.40000000000003,72.40000000000005,73.40000000000005,74.40000000000005,75.40000000000005,76.40000000000005,77.40000000000005,78.40000000000005,79.40000000000005,80.40000000000005,81.40000000000005,82.40000000000005,83.40000000000005,84.40000000000005,85.40000000000005,86.40000000000005,87.40000000000006,88.40000000000006,89.40000000000006,90.40000000000006,91.40000000000006,92.40000000000006,93.40000000000006,94.40000000000006,95.40000000000006,96.40000000000006,97.40000000000006,98.40000000000006,99.40000000000006,100.40000000000006,101.40000000000006,102.40000000000006,103.40000000000006,104.40000000000008,105.40000000000008,106.40000000000008,107.40000000000008,108.40000000000008,109.40000000000008,110.40000000000008,111.40000000000008,112.40000000000008,113.40000000000008,114.40000000000008,115.40000000000008,116.40000000000008,117.40000000000008,118.40000000000008,119.40000000000009,120.40000000000009,121.40000000000009,122.40000000000009,123.40000000000009,124.40000000000009,125.40000000000009,126.40000000000009,127.40000000000009,128.4000000000001,129.4000000000001,130.4000000000001,131.4000000000001,132.4000000000001,133.4000000000001,134.4000000000001,135.4000000000001,136.4000000000001,137.4000000000001,138.4000000000001,139.4000000000001,140.4000000000001,141.4000000000001,142.4000000000001,143.4000000000001,144.40000000000012,145.40000000000012,146.40000000000012,147.40000000000012,148.40000000000012,149.40000000000012,150.40000000000012,151.40000000000012,152.40000000000012,153.40000000000012,154.40000000000012,155.40000000000012,156.40000000000012,157.40000000000012,158.40000000000012,159.40000000000012,160.40000000000012,161.40000000000012,162.40000000000012,163.40000000000012,164.40000000000012,165.40000000000012,166.40000000000012,167.40000000000012,168.40000000000012,169.40000000000012,170.40000000000012,171.40000000000012,172.40000000000012,173.40000000000012,174.40000000000012,175.40000000000015,176.40000000000015,177.40000000000015,178.40000000000015,179.40000000000015,180.40000000000015,181.40000000000015,182.40000000000015,183.40000000000015,184.40000000000015,185.40000000000015,186.40000000000015,187.40000000000015,188.40000000000015,189.40000000000015,190.40000000000015,191.40000000000015],\"y\":[2.283,2.283,2.283,2.624,3.013,3.4029999999999996,3.675,3.687,3.6990000000000003,3.71,3.7220000000000004,3.734,3.746,3.758,3.769,3.781,3.7929999999999997,3.805,3.817,3.8289999999999997,3.84,3.852,3.864,3.8760000000000003,3.888,3.8989999999999996,3.911,3.923,3.9350000000000005,3.9469999999999996,3.9579999999999997,3.9699999999999998,3.982,3.994,4.006,4.0169999999999995,4.029,4.041,4.053,4.0649999999999995,4.076,4.088,4.1000000000000005,4.112,4.124,4.136,4.147,4.159,4.170999999999999,4.183,4.195,4.206,4.218,4.2299999999999995,4.242,4.2540000000000004,4.239,4.212,4.185,4.1579999999999995,4.130000000000001,4.103,4.076,4.0489999999999995,4.021,3.994,3.9669999999999996,3.939,3.9120000000000004,3.8850000000000002,3.8580000000000005,3.83,3.803,3.7760000000000002,3.749,3.721,3.694,3.6670000000000003,3.639,3.612,3.585,3.558,3.53,3.5029999999999997,3.476,3.449,3.421,3.3939999999999997,3.367,3.3390000000000004,3.312,3.2849999999999997,3.258,3.2300000000000004,3.2030000000000003,3.1759999999999997,3.1489999999999996,3.121,3.094,3.0669999999999997,3.039,3.012,2.9850000000000003,2.9579999999999997,2.93,2.903,2.876,2.849,2.8209999999999997,2.794,2.767,2.7390000000000003,2.7119999999999997,2.685,2.658,2.63,2.603,2.576,2.549,2.521,2.321,2.11,1.899,1.688,1.477,1.266,1.055,0.845,0.634,0.42300000000000004,0.212,0.0,0.0,0.0,0.0,0.0,0.0,0.0,0.0,0.0,0.0,0.0,0.0,0.0,0.0,0.0,0.0,0.0,0.0,0.0,0.0,0.0,0.0,0.0,0.0,0.0,0.0,0.0,0.0,0.0,0.0,0.0,0.0,0.0,0.0,0.0,0.0,0.0,0.0,0.0]},{\"line\":{\"width\":0.5},\"mode\":\"lines\",\"name\":\"MSFT\",\"stackgroup\":\"one\",\"type\":\"scatter\",\"x\":[22.400000000000002,23.400000000000002,24.400000000000002,25.4,26.400000000000002,27.400000000000002,28.400000000000002,29.400000000000006,30.400000000000006,31.400000000000006,32.400000000000006,33.400000000000006,34.400000000000006,35.400000000000006,36.40000000000001,37.40000000000001,38.40000000000001,39.40000000000001,40.40000000000001,41.40000000000001,42.40000000000001,43.40000000000002,44.40000000000002,45.40000000000002,46.40000000000002,47.40000000000002,48.40000000000002,49.40000000000002,50.40000000000002,51.40000000000002,52.40000000000003,53.40000000000003,54.40000000000003,55.40000000000003,56.40000000000003,57.40000000000003,58.40000000000003,59.400000000000034,60.400000000000034,61.400000000000034,62.400000000000034,63.400000000000034,64.40000000000003,65.40000000000003,66.40000000000003,67.40000000000003,68.40000000000003,69.40000000000003,70.40000000000003,71.40000000000003,72.40000000000005,73.40000000000005,74.40000000000005,75.40000000000005,76.40000000000005,77.40000000000005,78.40000000000005,79.40000000000005,80.40000000000005,81.40000000000005,82.40000000000005,83.40000000000005,84.40000000000005,85.40000000000005,86.40000000000005,87.40000000000006,88.40000000000006,89.40000000000006,90.40000000000006,91.40000000000006,92.40000000000006,93.40000000000006,94.40000000000006,95.40000000000006,96.40000000000006,97.40000000000006,98.40000000000006,99.40000000000006,100.40000000000006,101.40000000000006,102.40000000000006,103.40000000000006,104.40000000000008,105.40000000000008,106.40000000000008,107.40000000000008,108.40000000000008,109.40000000000008,110.40000000000008,111.40000000000008,112.40000000000008,113.40000000000008,114.40000000000008,115.40000000000008,116.40000000000008,117.40000000000008,118.40000000000008,119.40000000000009,120.40000000000009,121.40000000000009,122.40000000000009,123.40000000000009,124.40000000000009,125.40000000000009,126.40000000000009,127.40000000000009,128.4000000000001,129.4000000000001,130.4000000000001,131.4000000000001,132.4000000000001,133.4000000000001,134.4000000000001,135.4000000000001,136.4000000000001,137.4000000000001,138.4000000000001,139.4000000000001,140.4000000000001,141.4000000000001,142.4000000000001,143.4000000000001,144.40000000000012,145.40000000000012,146.40000000000012,147.40000000000012,148.40000000000012,149.40000000000012,150.40000000000012,151.40000000000012,152.40000000000012,153.40000000000012,154.40000000000012,155.40000000000012,156.40000000000012,157.40000000000012,158.40000000000012,159.40000000000012,160.40000000000012,161.40000000000012,162.40000000000012,163.40000000000012,164.40000000000012,165.40000000000012,166.40000000000012,167.40000000000012,168.40000000000012,169.40000000000012,170.40000000000012,171.40000000000012,172.40000000000012,173.40000000000012,174.40000000000012,175.40000000000015,176.40000000000015,177.40000000000015,178.40000000000015,179.40000000000015,180.40000000000015,181.40000000000015,182.40000000000015,183.40000000000015,184.40000000000015,185.40000000000015,186.40000000000015,187.40000000000015,188.40000000000015,189.40000000000015,190.40000000000015,191.40000000000015],\"y\":[0.0,0.0,0.0,0.0,0.0,0.0,0.0,0.0,0.0,0.0,0.0,0.0,0.0,0.0,0.0,0.0,0.0,0.0,0.0,0.0,0.0,0.0,0.0,0.0,0.0,0.0,0.0,0.0,0.0,0.0,0.0,0.0,0.0,0.0,0.0,0.0,0.0,0.0,0.0,0.0,0.0,0.0,0.0,0.0,0.0,0.0,0.0,0.0,0.0,0.0,0.0,0.0,0.0,0.0,0.0,0.0,0.0,0.0,0.0,0.0,0.0,0.0,0.0,0.0,0.0,0.0,0.0,0.0,0.0,0.0,0.0,0.0,0.0,0.0,0.0,0.0,0.0,0.0,0.0,0.0,0.0,0.0,0.0,0.0,0.0,0.0,0.0,0.0,0.0,0.0,0.0,0.0,0.0,0.0,0.0,0.0,0.0,0.0,0.0,0.0,0.0,0.0,0.0,0.0,0.0,0.0,0.0,0.0,0.0,0.0,0.0,0.0,0.0,0.0,0.0,0.0,0.0,0.0,0.0,0.0,0.0,0.0,0.0,0.0,0.0,0.0,0.0,0.0,0.0,0.0,0.0,0.0,0.0,0.0,0.0,0.0,0.0,0.0,0.0,0.0,0.0,0.0,0.0,0.0,0.0,0.0,0.0,0.0,0.0,0.0,0.0,0.0,0.0,0.0,0.0,0.0,0.0,0.0,0.0,0.0,0.0,0.0,0.0,0.0,0.0,0.0,0.0,0.0,0.0,0.0]},{\"line\":{\"width\":0.5},\"mode\":\"lines\",\"name\":\"NVDA\",\"stackgroup\":\"one\",\"type\":\"scatter\",\"x\":[22.400000000000002,23.400000000000002,24.400000000000002,25.4,26.400000000000002,27.400000000000002,28.400000000000002,29.400000000000006,30.400000000000006,31.400000000000006,32.400000000000006,33.400000000000006,34.400000000000006,35.400000000000006,36.40000000000001,37.40000000000001,38.40000000000001,39.40000000000001,40.40000000000001,41.40000000000001,42.40000000000001,43.40000000000002,44.40000000000002,45.40000000000002,46.40000000000002,47.40000000000002,48.40000000000002,49.40000000000002,50.40000000000002,51.40000000000002,52.40000000000003,53.40000000000003,54.40000000000003,55.40000000000003,56.40000000000003,57.40000000000003,58.40000000000003,59.400000000000034,60.400000000000034,61.400000000000034,62.400000000000034,63.400000000000034,64.40000000000003,65.40000000000003,66.40000000000003,67.40000000000003,68.40000000000003,69.40000000000003,70.40000000000003,71.40000000000003,72.40000000000005,73.40000000000005,74.40000000000005,75.40000000000005,76.40000000000005,77.40000000000005,78.40000000000005,79.40000000000005,80.40000000000005,81.40000000000005,82.40000000000005,83.40000000000005,84.40000000000005,85.40000000000005,86.40000000000005,87.40000000000006,88.40000000000006,89.40000000000006,90.40000000000006,91.40000000000006,92.40000000000006,93.40000000000006,94.40000000000006,95.40000000000006,96.40000000000006,97.40000000000006,98.40000000000006,99.40000000000006,100.40000000000006,101.40000000000006,102.40000000000006,103.40000000000006,104.40000000000008,105.40000000000008,106.40000000000008,107.40000000000008,108.40000000000008,109.40000000000008,110.40000000000008,111.40000000000008,112.40000000000008,113.40000000000008,114.40000000000008,115.40000000000008,116.40000000000008,117.40000000000008,118.40000000000008,119.40000000000009,120.40000000000009,121.40000000000009,122.40000000000009,123.40000000000009,124.40000000000009,125.40000000000009,126.40000000000009,127.40000000000009,128.4000000000001,129.4000000000001,130.4000000000001,131.4000000000001,132.4000000000001,133.4000000000001,134.4000000000001,135.4000000000001,136.4000000000001,137.4000000000001,138.4000000000001,139.4000000000001,140.4000000000001,141.4000000000001,142.4000000000001,143.4000000000001,144.40000000000012,145.40000000000012,146.40000000000012,147.40000000000012,148.40000000000012,149.40000000000012,150.40000000000012,151.40000000000012,152.40000000000012,153.40000000000012,154.40000000000012,155.40000000000012,156.40000000000012,157.40000000000012,158.40000000000012,159.40000000000012,160.40000000000012,161.40000000000012,162.40000000000012,163.40000000000012,164.40000000000012,165.40000000000012,166.40000000000012,167.40000000000012,168.40000000000012,169.40000000000012,170.40000000000012,171.40000000000012,172.40000000000012,173.40000000000012,174.40000000000012,175.40000000000015,176.40000000000015,177.40000000000015,178.40000000000015,179.40000000000015,180.40000000000015,181.40000000000015,182.40000000000015,183.40000000000015,184.40000000000015,185.40000000000015,186.40000000000015,187.40000000000015,188.40000000000015,189.40000000000015,190.40000000000015,191.40000000000015],\"y\":[0.0,0.0,0.0,0.0,0.0,0.0,0.0,0.0,0.0,0.0,0.0,0.0,0.0,0.0,0.0,0.0,0.0,0.0,0.0,0.0,0.0,0.0,0.0,0.0,0.0,0.0,0.0,0.0,0.0,0.0,0.0,0.0,0.0,0.0,0.0,0.0,0.0,0.0,0.0,0.0,0.0,0.0,0.0,0.0,0.0,0.0,0.0,0.0,0.0,0.0,0.0,0.0,0.0,0.0,0.0,0.0,0.23800000000000002,0.597,0.9560000000000001,1.315,1.6740000000000002,2.033,2.392,2.751,3.11,3.469,3.827,4.186,4.545,4.904,5.263,5.622,5.981,6.34,6.699,7.058000000000001,7.417,7.776,8.135,8.494,8.853,9.212,9.571,9.93,10.289,10.648,11.006,11.365,11.724,12.083,12.442,12.801000000000002,13.16,13.519,13.877999999999998,14.237,14.596,14.954999999999998,15.314,15.673,16.032,16.391,16.75,17.108999999999998,17.468,17.826,18.185000000000002,18.544,18.903,19.262,19.621,19.98,20.339,20.698,21.057000000000002,21.416,21.775,22.134,22.493,22.852,23.158,23.461000000000002,23.764,24.067,24.37,24.673000000000002,24.977,25.28,25.583,25.886,26.189,26.491999999999997,26.72,26.947,27.175,27.401999999999997,27.63,27.857,28.084999999999997,28.311999999999998,28.54,28.767,28.994999999999997,29.221999999999998,29.45,29.677,29.904999999999998,30.131999999999998,30.36,30.177,28.677999999999997,27.18,25.682,24.184,22.686,21.187,19.689,18.191,16.692999999999998,15.195,13.696,12.198,10.7,9.202,7.704,6.205,4.707,3.209,1.711,0.212]},{\"line\":{\"width\":0.5},\"mode\":\"lines\",\"name\":\"SE\",\"stackgroup\":\"one\",\"type\":\"scatter\",\"x\":[22.400000000000002,23.400000000000002,24.400000000000002,25.4,26.400000000000002,27.400000000000002,28.400000000000002,29.400000000000006,30.400000000000006,31.400000000000006,32.400000000000006,33.400000000000006,34.400000000000006,35.400000000000006,36.40000000000001,37.40000000000001,38.40000000000001,39.40000000000001,40.40000000000001,41.40000000000001,42.40000000000001,43.40000000000002,44.40000000000002,45.40000000000002,46.40000000000002,47.40000000000002,48.40000000000002,49.40000000000002,50.40000000000002,51.40000000000002,52.40000000000003,53.40000000000003,54.40000000000003,55.40000000000003,56.40000000000003,57.40000000000003,58.40000000000003,59.400000000000034,60.400000000000034,61.400000000000034,62.400000000000034,63.400000000000034,64.40000000000003,65.40000000000003,66.40000000000003,67.40000000000003,68.40000000000003,69.40000000000003,70.40000000000003,71.40000000000003,72.40000000000005,73.40000000000005,74.40000000000005,75.40000000000005,76.40000000000005,77.40000000000005,78.40000000000005,79.40000000000005,80.40000000000005,81.40000000000005,82.40000000000005,83.40000000000005,84.40000000000005,85.40000000000005,86.40000000000005,87.40000000000006,88.40000000000006,89.40000000000006,90.40000000000006,91.40000000000006,92.40000000000006,93.40000000000006,94.40000000000006,95.40000000000006,96.40000000000006,97.40000000000006,98.40000000000006,99.40000000000006,100.40000000000006,101.40000000000006,102.40000000000006,103.40000000000006,104.40000000000008,105.40000000000008,106.40000000000008,107.40000000000008,108.40000000000008,109.40000000000008,110.40000000000008,111.40000000000008,112.40000000000008,113.40000000000008,114.40000000000008,115.40000000000008,116.40000000000008,117.40000000000008,118.40000000000008,119.40000000000009,120.40000000000009,121.40000000000009,122.40000000000009,123.40000000000009,124.40000000000009,125.40000000000009,126.40000000000009,127.40000000000009,128.4000000000001,129.4000000000001,130.4000000000001,131.4000000000001,132.4000000000001,133.4000000000001,134.4000000000001,135.4000000000001,136.4000000000001,137.4000000000001,138.4000000000001,139.4000000000001,140.4000000000001,141.4000000000001,142.4000000000001,143.4000000000001,144.40000000000012,145.40000000000012,146.40000000000012,147.40000000000012,148.40000000000012,149.40000000000012,150.40000000000012,151.40000000000012,152.40000000000012,153.40000000000012,154.40000000000012,155.40000000000012,156.40000000000012,157.40000000000012,158.40000000000012,159.40000000000012,160.40000000000012,161.40000000000012,162.40000000000012,163.40000000000012,164.40000000000012,165.40000000000012,166.40000000000012,167.40000000000012,168.40000000000012,169.40000000000012,170.40000000000012,171.40000000000012,172.40000000000012,173.40000000000012,174.40000000000012,175.40000000000015,176.40000000000015,177.40000000000015,178.40000000000015,179.40000000000015,180.40000000000015,181.40000000000015,182.40000000000015,183.40000000000015,184.40000000000015,185.40000000000015,186.40000000000015,187.40000000000015,188.40000000000015,189.40000000000015,190.40000000000015,191.40000000000015],\"y\":[0.0,0.0,0.0,0.0,0.0,0.0,0.156,0.657,1.157,1.6580000000000001,2.158,2.659,3.16,3.66,4.1610000000000005,4.662,5.162,5.663,6.164,6.664000000000001,7.165000000000001,7.666,8.166,8.667,9.168,9.668000000000001,10.169,10.67,11.17,11.671,12.171999999999999,12.672,13.173000000000002,13.672999999999998,14.174000000000001,14.674999999999999,15.174999999999999,15.676000000000002,16.177,16.677,17.177999999999997,17.679000000000002,18.179000000000002,18.68,19.181,19.681,20.182,20.683,21.183,21.684,22.185,22.685,23.186,23.687,24.187,24.688,25.086000000000002,25.430999999999997,25.777,26.122,26.468000000000004,26.813,27.159,27.504,27.85,28.194999999999997,28.541,28.886,29.232000000000003,29.578,29.923,30.269000000000002,30.614,30.959999999999997,31.305,31.651,31.996000000000002,32.342,32.687,33.033,33.378,33.724,34.07,34.415,34.760999999999996,35.106,35.452,35.797000000000004,36.143,36.488,36.834,37.179,37.525,37.87,38.216,38.561,38.907000000000004,39.253,39.598,39.944,40.289,40.635,40.98,41.326,41.671,42.016999999999996,42.362,42.708,43.053000000000004,43.399,43.744,44.09,44.436,44.781,45.127,45.472,45.818,46.163,46.509,46.854,47.591,48.352000000000004,49.113,49.874,50.635,51.396,52.157,52.918,53.679,54.44,55.201,55.962,56.721999999999994,57.482,58.243,59.00300000000001,59.763,60.524,61.284000000000006,62.044,62.805,63.565000000000005,64.325,65.086,65.846,66.606,67.367,68.12700000000001,68.887,69.82300000000001,71.322,72.82,74.318,75.81599999999999,77.31400000000001,78.813,80.31099999999999,81.809,83.307,84.80499999999999,86.304,87.802,89.3,90.798,92.296,93.795,95.293,96.79100000000001,98.289,99.788]},{\"line\":{\"width\":0.5},\"mode\":\"lines\",\"name\":\"TSM\",\"stackgroup\":\"one\",\"type\":\"scatter\",\"x\":[22.400000000000002,23.400000000000002,24.400000000000002,25.4,26.400000000000002,27.400000000000002,28.400000000000002,29.400000000000006,30.400000000000006,31.400000000000006,32.400000000000006,33.400000000000006,34.400000000000006,35.400000000000006,36.40000000000001,37.40000000000001,38.40000000000001,39.40000000000001,40.40000000000001,41.40000000000001,42.40000000000001,43.40000000000002,44.40000000000002,45.40000000000002,46.40000000000002,47.40000000000002,48.40000000000002,49.40000000000002,50.40000000000002,51.40000000000002,52.40000000000003,53.40000000000003,54.40000000000003,55.40000000000003,56.40000000000003,57.40000000000003,58.40000000000003,59.400000000000034,60.400000000000034,61.400000000000034,62.400000000000034,63.400000000000034,64.40000000000003,65.40000000000003,66.40000000000003,67.40000000000003,68.40000000000003,69.40000000000003,70.40000000000003,71.40000000000003,72.40000000000005,73.40000000000005,74.40000000000005,75.40000000000005,76.40000000000005,77.40000000000005,78.40000000000005,79.40000000000005,80.40000000000005,81.40000000000005,82.40000000000005,83.40000000000005,84.40000000000005,85.40000000000005,86.40000000000005,87.40000000000006,88.40000000000006,89.40000000000006,90.40000000000006,91.40000000000006,92.40000000000006,93.40000000000006,94.40000000000006,95.40000000000006,96.40000000000006,97.40000000000006,98.40000000000006,99.40000000000006,100.40000000000006,101.40000000000006,102.40000000000006,103.40000000000006,104.40000000000008,105.40000000000008,106.40000000000008,107.40000000000008,108.40000000000008,109.40000000000008,110.40000000000008,111.40000000000008,112.40000000000008,113.40000000000008,114.40000000000008,115.40000000000008,116.40000000000008,117.40000000000008,118.40000000000008,119.40000000000009,120.40000000000009,121.40000000000009,122.40000000000009,123.40000000000009,124.40000000000009,125.40000000000009,126.40000000000009,127.40000000000009,128.4000000000001,129.4000000000001,130.4000000000001,131.4000000000001,132.4000000000001,133.4000000000001,134.4000000000001,135.4000000000001,136.4000000000001,137.4000000000001,138.4000000000001,139.4000000000001,140.4000000000001,141.4000000000001,142.4000000000001,143.4000000000001,144.40000000000012,145.40000000000012,146.40000000000012,147.40000000000012,148.40000000000012,149.40000000000012,150.40000000000012,151.40000000000012,152.40000000000012,153.40000000000012,154.40000000000012,155.40000000000012,156.40000000000012,157.40000000000012,158.40000000000012,159.40000000000012,160.40000000000012,161.40000000000012,162.40000000000012,163.40000000000012,164.40000000000012,165.40000000000012,166.40000000000012,167.40000000000012,168.40000000000012,169.40000000000012,170.40000000000012,171.40000000000012,172.40000000000012,173.40000000000012,174.40000000000012,175.40000000000015,176.40000000000015,177.40000000000015,178.40000000000015,179.40000000000015,180.40000000000015,181.40000000000015,182.40000000000015,183.40000000000015,184.40000000000015,185.40000000000015,186.40000000000015,187.40000000000015,188.40000000000015,189.40000000000015,190.40000000000015,191.40000000000015],\"y\":[0.955,0.955,0.955,2.16,3.5389999999999997,4.917,5.953,6.229,6.5040000000000004,6.78,7.056,7.332,7.608,7.883,8.158999999999999,8.434999999999999,8.711,8.987,9.261999999999999,9.538,9.814,10.09,10.366,10.641,10.917,11.193,11.469,11.745,12.02,12.296,12.572,12.848,13.123999999999999,13.399,13.675,13.950999999999999,14.227,14.503,14.777999999999999,15.054,15.329999999999998,15.606,15.882,16.157,16.433,16.709,16.985,17.261000000000003,17.535999999999998,17.812,18.088,18.364,18.64,18.915000000000003,19.191,19.467000000000002,19.645000000000003,19.773,19.902,20.03,20.158,20.286,20.415,20.543,20.671,20.799,20.928,21.056,21.184,21.312,21.441,21.569,21.697,21.825,21.954,22.081999999999997,22.21,22.338,22.467000000000002,22.595000000000002,22.723,22.851,22.98,23.108,23.236,23.363999999999997,23.493,23.621,23.749000000000002,23.877000000000002,24.006,24.134,24.262,24.39,24.519,24.647,24.775,24.904,25.032,25.16,25.288,25.417,25.545,25.673000000000002,25.801000000000002,25.929999999999996,26.057999999999996,26.186,26.314,26.443,26.571,26.699,26.827,26.956000000000003,27.084000000000003,27.211999999999996,27.339999999999996,27.468999999999998,27.596999999999998,27.725,26.93,26.077,25.224000000000004,24.371000000000002,23.517,22.664,21.811,20.958,20.105,19.252,18.398999999999997,17.546,16.558,15.57,14.582,13.594999999999999,12.607,11.619,10.631,9.643,8.655,7.668,6.68,5.692,4.704,3.7159999999999997,2.7279999999999998,1.7409999999999999,0.753,0.0,0.0,0.0,0.0,0.0,0.0,0.0,0.0,0.0,0.0,0.0,0.0,0.0,0.0,0.0,0.0,0.0,0.0,0.0,0.0,0.0]},{\"line\":{\"width\":0.5},\"mode\":\"lines\",\"name\":\"VOO\",\"stackgroup\":\"one\",\"type\":\"scatter\",\"x\":[22.400000000000002,23.400000000000002,24.400000000000002,25.4,26.400000000000002,27.400000000000002,28.400000000000002,29.400000000000006,30.400000000000006,31.400000000000006,32.400000000000006,33.400000000000006,34.400000000000006,35.400000000000006,36.40000000000001,37.40000000000001,38.40000000000001,39.40000000000001,40.40000000000001,41.40000000000001,42.40000000000001,43.40000000000002,44.40000000000002,45.40000000000002,46.40000000000002,47.40000000000002,48.40000000000002,49.40000000000002,50.40000000000002,51.40000000000002,52.40000000000003,53.40000000000003,54.40000000000003,55.40000000000003,56.40000000000003,57.40000000000003,58.40000000000003,59.400000000000034,60.400000000000034,61.400000000000034,62.400000000000034,63.400000000000034,64.40000000000003,65.40000000000003,66.40000000000003,67.40000000000003,68.40000000000003,69.40000000000003,70.40000000000003,71.40000000000003,72.40000000000005,73.40000000000005,74.40000000000005,75.40000000000005,76.40000000000005,77.40000000000005,78.40000000000005,79.40000000000005,80.40000000000005,81.40000000000005,82.40000000000005,83.40000000000005,84.40000000000005,85.40000000000005,86.40000000000005,87.40000000000006,88.40000000000006,89.40000000000006,90.40000000000006,91.40000000000006,92.40000000000006,93.40000000000006,94.40000000000006,95.40000000000006,96.40000000000006,97.40000000000006,98.40000000000006,99.40000000000006,100.40000000000006,101.40000000000006,102.40000000000006,103.40000000000006,104.40000000000008,105.40000000000008,106.40000000000008,107.40000000000008,108.40000000000008,109.40000000000008,110.40000000000008,111.40000000000008,112.40000000000008,113.40000000000008,114.40000000000008,115.40000000000008,116.40000000000008,117.40000000000008,118.40000000000008,119.40000000000009,120.40000000000009,121.40000000000009,122.40000000000009,123.40000000000009,124.40000000000009,125.40000000000009,126.40000000000009,127.40000000000009,128.4000000000001,129.4000000000001,130.4000000000001,131.4000000000001,132.4000000000001,133.4000000000001,134.4000000000001,135.4000000000001,136.4000000000001,137.4000000000001,138.4000000000001,139.4000000000001,140.4000000000001,141.4000000000001,142.4000000000001,143.4000000000001,144.40000000000012,145.40000000000012,146.40000000000012,147.40000000000012,148.40000000000012,149.40000000000012,150.40000000000012,151.40000000000012,152.40000000000012,153.40000000000012,154.40000000000012,155.40000000000012,156.40000000000012,157.40000000000012,158.40000000000012,159.40000000000012,160.40000000000012,161.40000000000012,162.40000000000012,163.40000000000012,164.40000000000012,165.40000000000012,166.40000000000012,167.40000000000012,168.40000000000012,169.40000000000012,170.40000000000012,171.40000000000012,172.40000000000012,173.40000000000012,174.40000000000012,175.40000000000015,176.40000000000015,177.40000000000015,178.40000000000015,179.40000000000015,180.40000000000015,181.40000000000015,182.40000000000015,183.40000000000015,184.40000000000015,185.40000000000015,186.40000000000015,187.40000000000015,188.40000000000015,189.40000000000015,190.40000000000015,191.40000000000015],\"y\":[96.761,96.761,96.761,95.216,93.448,91.67999999999999,90.216,89.428,88.64,87.851,87.063,86.275,85.487,84.698,83.91,83.122,82.334,81.545,80.757,79.969,79.181,78.392,77.604,76.816,76.02799999999999,75.239,74.451,73.663,72.875,72.086,71.298,70.50999999999999,69.722,68.93299999999999,68.145,67.357,66.56800000000001,65.78,64.992,64.20400000000001,63.415,62.627,61.839,61.051,60.26200000000001,59.474000000000004,58.68600000000001,57.898,57.109,56.321,55.533,54.745,53.956,53.168000000000006,52.38,51.592000000000006,50.792,49.986000000000004,49.181000000000004,48.375,47.57,46.765,45.959,45.153999999999996,44.348,43.543,42.737,41.932,41.126000000000005,40.321,39.515,38.71,37.903999999999996,37.099,36.293,35.488,34.683,33.877,33.072,32.266,31.461,30.654999999999998,29.849999999999998,29.043999999999997,28.238999999999997,27.433000000000003,26.628,25.822,25.017,24.212,23.406,22.601,21.795,20.990000000000002,20.183999999999997,19.378999999999998,18.573,17.768,16.962,16.157,15.351,14.546000000000001,13.74,12.934999999999999,12.13,11.324,10.519,9.713,8.908000000000001,8.102,7.297,6.491,5.686,4.88,4.075,3.2689999999999997,2.464,1.659,0.853,0.048,0.0,0.0,0.0,0.0,0.0,0.0,0.0,0.0,0.0,0.0,0.0,0.0,0.0,0.0,0.0,0.0,0.0,0.0,0.0,0.0,0.0,0.0,0.0,0.0,0.0,0.0,0.0,0.0,0.0,0.0,0.0,0.0,0.0,0.0,0.0,0.0,0.0,0.0,0.0,0.0,0.0,0.0,0.0,0.0,0.0,0.0,0.0,0.0,0.0,0.0]},{\"line\":{\"width\":0.5},\"mode\":\"lines\",\"name\":\"VUG\",\"stackgroup\":\"one\",\"type\":\"scatter\",\"x\":[22.400000000000002,23.400000000000002,24.400000000000002,25.4,26.400000000000002,27.400000000000002,28.400000000000002,29.400000000000006,30.400000000000006,31.400000000000006,32.400000000000006,33.400000000000006,34.400000000000006,35.400000000000006,36.40000000000001,37.40000000000001,38.40000000000001,39.40000000000001,40.40000000000001,41.40000000000001,42.40000000000001,43.40000000000002,44.40000000000002,45.40000000000002,46.40000000000002,47.40000000000002,48.40000000000002,49.40000000000002,50.40000000000002,51.40000000000002,52.40000000000003,53.40000000000003,54.40000000000003,55.40000000000003,56.40000000000003,57.40000000000003,58.40000000000003,59.400000000000034,60.400000000000034,61.400000000000034,62.400000000000034,63.400000000000034,64.40000000000003,65.40000000000003,66.40000000000003,67.40000000000003,68.40000000000003,69.40000000000003,70.40000000000003,71.40000000000003,72.40000000000005,73.40000000000005,74.40000000000005,75.40000000000005,76.40000000000005,77.40000000000005,78.40000000000005,79.40000000000005,80.40000000000005,81.40000000000005,82.40000000000005,83.40000000000005,84.40000000000005,85.40000000000005,86.40000000000005,87.40000000000006,88.40000000000006,89.40000000000006,90.40000000000006,91.40000000000006,92.40000000000006,93.40000000000006,94.40000000000006,95.40000000000006,96.40000000000006,97.40000000000006,98.40000000000006,99.40000000000006,100.40000000000006,101.40000000000006,102.40000000000006,103.40000000000006,104.40000000000008,105.40000000000008,106.40000000000008,107.40000000000008,108.40000000000008,109.40000000000008,110.40000000000008,111.40000000000008,112.40000000000008,113.40000000000008,114.40000000000008,115.40000000000008,116.40000000000008,117.40000000000008,118.40000000000008,119.40000000000009,120.40000000000009,121.40000000000009,122.40000000000009,123.40000000000009,124.40000000000009,125.40000000000009,126.40000000000009,127.40000000000009,128.4000000000001,129.4000000000001,130.4000000000001,131.4000000000001,132.4000000000001,133.4000000000001,134.4000000000001,135.4000000000001,136.4000000000001,137.4000000000001,138.4000000000001,139.4000000000001,140.4000000000001,141.4000000000001,142.4000000000001,143.4000000000001,144.40000000000012,145.40000000000012,146.40000000000012,147.40000000000012,148.40000000000012,149.40000000000012,150.40000000000012,151.40000000000012,152.40000000000012,153.40000000000012,154.40000000000012,155.40000000000012,156.40000000000012,157.40000000000012,158.40000000000012,159.40000000000012,160.40000000000012,161.40000000000012,162.40000000000012,163.40000000000012,164.40000000000012,165.40000000000012,166.40000000000012,167.40000000000012,168.40000000000012,169.40000000000012,170.40000000000012,171.40000000000012,172.40000000000012,173.40000000000012,174.40000000000012,175.40000000000015,176.40000000000015,177.40000000000015,178.40000000000015,179.40000000000015,180.40000000000015,181.40000000000015,182.40000000000015,183.40000000000015,184.40000000000015,185.40000000000015,186.40000000000015,187.40000000000015,188.40000000000015,189.40000000000015,190.40000000000015,191.40000000000015],\"y\":[0.0,0.0,0.0,0.0,0.0,0.0,0.0,0.0,0.0,0.0,0.0,0.0,0.0,0.0,0.0,0.0,0.0,0.0,0.0,0.0,0.0,0.0,0.0,0.0,0.0,0.0,0.0,0.0,0.0,0.0,0.0,0.0,0.0,0.0,0.0,0.0,0.0,0.0,0.0,0.0,0.0,0.0,0.0,0.0,0.0,0.0,0.0,0.0,0.0,0.0,0.0,0.0,0.0,0.0,0.0,0.0,0.0,0.0,0.0,0.0,0.0,0.0,0.0,0.0,0.0,0.0,0.0,0.0,0.0,0.0,0.0,0.0,0.0,0.0,0.0,0.0,0.0,0.0,0.0,0.0,0.0,0.0,0.0,0.0,0.0,0.0,0.0,0.0,0.0,0.0,0.0,0.0,0.0,0.0,0.0,0.0,0.0,0.0,0.0,0.0,0.0,0.0,0.0,0.0,0.0,0.0,0.0,0.0,0.0,0.0,0.0,0.0,0.0,0.0,0.0,0.0,0.0,0.0,0.0,0.0,0.0,0.0,0.0,0.0,0.0,0.0,0.0,0.0,0.0,0.0,0.0,0.0,0.0,0.0,0.0,0.0,0.0,0.0,0.0,0.0,0.0,0.0,0.0,0.0,0.0,0.0,0.0,0.0,0.0,0.0,0.0,0.0,0.0,0.0,0.0,0.0,0.0,0.0,0.0,0.0,0.0,0.0,0.0,0.0,0.0,0.0,0.0,0.0,0.0,0.0]}],                        {\"hovermode\":\"x\",\"template\":{\"data\":{\"bar\":[{\"error_x\":{\"color\":\"#2a3f5f\"},\"error_y\":{\"color\":\"#2a3f5f\"},\"marker\":{\"line\":{\"color\":\"#E5ECF6\",\"width\":0.5},\"pattern\":{\"fillmode\":\"overlay\",\"size\":10,\"solidity\":0.2}},\"type\":\"bar\"}],\"barpolar\":[{\"marker\":{\"line\":{\"color\":\"#E5ECF6\",\"width\":0.5},\"pattern\":{\"fillmode\":\"overlay\",\"size\":10,\"solidity\":0.2}},\"type\":\"barpolar\"}],\"carpet\":[{\"aaxis\":{\"endlinecolor\":\"#2a3f5f\",\"gridcolor\":\"white\",\"linecolor\":\"white\",\"minorgridcolor\":\"white\",\"startlinecolor\":\"#2a3f5f\"},\"baxis\":{\"endlinecolor\":\"#2a3f5f\",\"gridcolor\":\"white\",\"linecolor\":\"white\",\"minorgridcolor\":\"white\",\"startlinecolor\":\"#2a3f5f\"},\"type\":\"carpet\"}],\"choropleth\":[{\"colorbar\":{\"outlinewidth\":0,\"ticks\":\"\"},\"type\":\"choropleth\"}],\"contour\":[{\"colorbar\":{\"outlinewidth\":0,\"ticks\":\"\"},\"colorscale\":[[0.0,\"#0d0887\"],[0.1111111111111111,\"#46039f\"],[0.2222222222222222,\"#7201a8\"],[0.3333333333333333,\"#9c179e\"],[0.4444444444444444,\"#bd3786\"],[0.5555555555555556,\"#d8576b\"],[0.6666666666666666,\"#ed7953\"],[0.7777777777777778,\"#fb9f3a\"],[0.8888888888888888,\"#fdca26\"],[1.0,\"#f0f921\"]],\"type\":\"contour\"}],\"contourcarpet\":[{\"colorbar\":{\"outlinewidth\":0,\"ticks\":\"\"},\"type\":\"contourcarpet\"}],\"heatmap\":[{\"colorbar\":{\"outlinewidth\":0,\"ticks\":\"\"},\"colorscale\":[[0.0,\"#0d0887\"],[0.1111111111111111,\"#46039f\"],[0.2222222222222222,\"#7201a8\"],[0.3333333333333333,\"#9c179e\"],[0.4444444444444444,\"#bd3786\"],[0.5555555555555556,\"#d8576b\"],[0.6666666666666666,\"#ed7953\"],[0.7777777777777778,\"#fb9f3a\"],[0.8888888888888888,\"#fdca26\"],[1.0,\"#f0f921\"]],\"type\":\"heatmap\"}],\"heatmapgl\":[{\"colorbar\":{\"outlinewidth\":0,\"ticks\":\"\"},\"colorscale\":[[0.0,\"#0d0887\"],[0.1111111111111111,\"#46039f\"],[0.2222222222222222,\"#7201a8\"],[0.3333333333333333,\"#9c179e\"],[0.4444444444444444,\"#bd3786\"],[0.5555555555555556,\"#d8576b\"],[0.6666666666666666,\"#ed7953\"],[0.7777777777777778,\"#fb9f3a\"],[0.8888888888888888,\"#fdca26\"],[1.0,\"#f0f921\"]],\"type\":\"heatmapgl\"}],\"histogram\":[{\"marker\":{\"pattern\":{\"fillmode\":\"overlay\",\"size\":10,\"solidity\":0.2}},\"type\":\"histogram\"}],\"histogram2d\":[{\"colorbar\":{\"outlinewidth\":0,\"ticks\":\"\"},\"colorscale\":[[0.0,\"#0d0887\"],[0.1111111111111111,\"#46039f\"],[0.2222222222222222,\"#7201a8\"],[0.3333333333333333,\"#9c179e\"],[0.4444444444444444,\"#bd3786\"],[0.5555555555555556,\"#d8576b\"],[0.6666666666666666,\"#ed7953\"],[0.7777777777777778,\"#fb9f3a\"],[0.8888888888888888,\"#fdca26\"],[1.0,\"#f0f921\"]],\"type\":\"histogram2d\"}],\"histogram2dcontour\":[{\"colorbar\":{\"outlinewidth\":0,\"ticks\":\"\"},\"colorscale\":[[0.0,\"#0d0887\"],[0.1111111111111111,\"#46039f\"],[0.2222222222222222,\"#7201a8\"],[0.3333333333333333,\"#9c179e\"],[0.4444444444444444,\"#bd3786\"],[0.5555555555555556,\"#d8576b\"],[0.6666666666666666,\"#ed7953\"],[0.7777777777777778,\"#fb9f3a\"],[0.8888888888888888,\"#fdca26\"],[1.0,\"#f0f921\"]],\"type\":\"histogram2dcontour\"}],\"mesh3d\":[{\"colorbar\":{\"outlinewidth\":0,\"ticks\":\"\"},\"type\":\"mesh3d\"}],\"parcoords\":[{\"line\":{\"colorbar\":{\"outlinewidth\":0,\"ticks\":\"\"}},\"type\":\"parcoords\"}],\"pie\":[{\"automargin\":true,\"type\":\"pie\"}],\"scatter\":[{\"marker\":{\"colorbar\":{\"outlinewidth\":0,\"ticks\":\"\"}},\"type\":\"scatter\"}],\"scatter3d\":[{\"line\":{\"colorbar\":{\"outlinewidth\":0,\"ticks\":\"\"}},\"marker\":{\"colorbar\":{\"outlinewidth\":0,\"ticks\":\"\"}},\"type\":\"scatter3d\"}],\"scattercarpet\":[{\"marker\":{\"colorbar\":{\"outlinewidth\":0,\"ticks\":\"\"}},\"type\":\"scattercarpet\"}],\"scattergeo\":[{\"marker\":{\"colorbar\":{\"outlinewidth\":0,\"ticks\":\"\"}},\"type\":\"scattergeo\"}],\"scattergl\":[{\"marker\":{\"colorbar\":{\"outlinewidth\":0,\"ticks\":\"\"}},\"type\":\"scattergl\"}],\"scattermapbox\":[{\"marker\":{\"colorbar\":{\"outlinewidth\":0,\"ticks\":\"\"}},\"type\":\"scattermapbox\"}],\"scatterpolar\":[{\"marker\":{\"colorbar\":{\"outlinewidth\":0,\"ticks\":\"\"}},\"type\":\"scatterpolar\"}],\"scatterpolargl\":[{\"marker\":{\"colorbar\":{\"outlinewidth\":0,\"ticks\":\"\"}},\"type\":\"scatterpolargl\"}],\"scatterternary\":[{\"marker\":{\"colorbar\":{\"outlinewidth\":0,\"ticks\":\"\"}},\"type\":\"scatterternary\"}],\"surface\":[{\"colorbar\":{\"outlinewidth\":0,\"ticks\":\"\"},\"colorscale\":[[0.0,\"#0d0887\"],[0.1111111111111111,\"#46039f\"],[0.2222222222222222,\"#7201a8\"],[0.3333333333333333,\"#9c179e\"],[0.4444444444444444,\"#bd3786\"],[0.5555555555555556,\"#d8576b\"],[0.6666666666666666,\"#ed7953\"],[0.7777777777777778,\"#fb9f3a\"],[0.8888888888888888,\"#fdca26\"],[1.0,\"#f0f921\"]],\"type\":\"surface\"}],\"table\":[{\"cells\":{\"fill\":{\"color\":\"#EBF0F8\"},\"line\":{\"color\":\"white\"}},\"header\":{\"fill\":{\"color\":\"#C8D4E3\"},\"line\":{\"color\":\"white\"}},\"type\":\"table\"}]},\"layout\":{\"annotationdefaults\":{\"arrowcolor\":\"#2a3f5f\",\"arrowhead\":0,\"arrowwidth\":1},\"autotypenumbers\":\"strict\",\"coloraxis\":{\"colorbar\":{\"outlinewidth\":0,\"ticks\":\"\"}},\"colorscale\":{\"diverging\":[[0,\"#8e0152\"],[0.1,\"#c51b7d\"],[0.2,\"#de77ae\"],[0.3,\"#f1b6da\"],[0.4,\"#fde0ef\"],[0.5,\"#f7f7f7\"],[0.6,\"#e6f5d0\"],[0.7,\"#b8e186\"],[0.8,\"#7fbc41\"],[0.9,\"#4d9221\"],[1,\"#276419\"]],\"sequential\":[[0.0,\"#0d0887\"],[0.1111111111111111,\"#46039f\"],[0.2222222222222222,\"#7201a8\"],[0.3333333333333333,\"#9c179e\"],[0.4444444444444444,\"#bd3786\"],[0.5555555555555556,\"#d8576b\"],[0.6666666666666666,\"#ed7953\"],[0.7777777777777778,\"#fb9f3a\"],[0.8888888888888888,\"#fdca26\"],[1.0,\"#f0f921\"]],\"sequentialminus\":[[0.0,\"#0d0887\"],[0.1111111111111111,\"#46039f\"],[0.2222222222222222,\"#7201a8\"],[0.3333333333333333,\"#9c179e\"],[0.4444444444444444,\"#bd3786\"],[0.5555555555555556,\"#d8576b\"],[0.6666666666666666,\"#ed7953\"],[0.7777777777777778,\"#fb9f3a\"],[0.8888888888888888,\"#fdca26\"],[1.0,\"#f0f921\"]]},\"colorway\":[\"#636efa\",\"#EF553B\",\"#00cc96\",\"#ab63fa\",\"#FFA15A\",\"#19d3f3\",\"#FF6692\",\"#B6E880\",\"#FF97FF\",\"#FECB52\"],\"font\":{\"color\":\"#2a3f5f\"},\"geo\":{\"bgcolor\":\"white\",\"lakecolor\":\"white\",\"landcolor\":\"#E5ECF6\",\"showlakes\":true,\"showland\":true,\"subunitcolor\":\"white\"},\"hoverlabel\":{\"align\":\"left\"},\"hovermode\":\"closest\",\"mapbox\":{\"style\":\"light\"},\"paper_bgcolor\":\"white\",\"plot_bgcolor\":\"#E5ECF6\",\"polar\":{\"angularaxis\":{\"gridcolor\":\"white\",\"linecolor\":\"white\",\"ticks\":\"\"},\"bgcolor\":\"#E5ECF6\",\"radialaxis\":{\"gridcolor\":\"white\",\"linecolor\":\"white\",\"ticks\":\"\"}},\"scene\":{\"xaxis\":{\"backgroundcolor\":\"#E5ECF6\",\"gridcolor\":\"white\",\"gridwidth\":2,\"linecolor\":\"white\",\"showbackground\":true,\"ticks\":\"\",\"zerolinecolor\":\"white\"},\"yaxis\":{\"backgroundcolor\":\"#E5ECF6\",\"gridcolor\":\"white\",\"gridwidth\":2,\"linecolor\":\"white\",\"showbackground\":true,\"ticks\":\"\",\"zerolinecolor\":\"white\"},\"zaxis\":{\"backgroundcolor\":\"#E5ECF6\",\"gridcolor\":\"white\",\"gridwidth\":2,\"linecolor\":\"white\",\"showbackground\":true,\"ticks\":\"\",\"zerolinecolor\":\"white\"}},\"shapedefaults\":{\"line\":{\"color\":\"#2a3f5f\"}},\"ternary\":{\"aaxis\":{\"gridcolor\":\"white\",\"linecolor\":\"white\",\"ticks\":\"\"},\"baxis\":{\"gridcolor\":\"white\",\"linecolor\":\"white\",\"ticks\":\"\"},\"bgcolor\":\"#E5ECF6\",\"caxis\":{\"gridcolor\":\"white\",\"linecolor\":\"white\",\"ticks\":\"\"}},\"title\":{\"x\":0.05},\"xaxis\":{\"automargin\":true,\"gridcolor\":\"white\",\"linecolor\":\"white\",\"ticks\":\"\",\"title\":{\"standoff\":15},\"zerolinecolor\":\"white\",\"zerolinewidth\":2},\"yaxis\":{\"automargin\":true,\"gridcolor\":\"white\",\"linecolor\":\"white\",\"ticks\":\"\",\"title\":{\"standoff\":15},\"zerolinecolor\":\"white\",\"zerolinewidth\":2}}},\"xaxis\":{\"title\":{\"text\":\"return (%)\"}},\"yaxis\":{\"title\":{\"text\":\"weight (%)\"}}},                        {\"responsive\": true}                    ).then(function(){\n                            \nvar gd = document.getElementById('c10a0912-50ce-4d05-b1a7-4f52d6ba6e96');\nvar x = new MutationObserver(function (mutations, observer) {{\n        var display = window.getComputedStyle(gd).display;\n        if (!display || display === 'none') {{\n            console.log([gd, 'removed!']);\n            Plotly.purge(gd);\n            observer.disconnect();\n        }}\n}});\n\n// Listen for the removal of the full notebook cells\nvar notebookContainer = gd.closest('#notebook-container');\nif (notebookContainer) {{\n    x.observe(notebookContainer, {childList: true});\n}}\n\n// Listen for the clearing of the current output cell\nvar outputEl = gd.closest('.output');\nif (outputEl) {{\n    x.observe(outputEl, {childList: true});\n}}\n\n                        })                };                });            </script>        </div>"
     },
     "metadata": {}
    }
   ],
   "source": [
    "layout = go.Layout(\n",
    "    xaxis={\"title\": \"return (%)\"},\n",
    "    yaxis={\"title\": \"weight (%)\"},\n",
    "    hovermode=\"x\"\n",
    ")\n",
    "\n",
    "fig = go.Figure(layout=layout)\n",
    "\n",
    "for col in weight_df:\n",
    "    fig.add_trace(\n",
    "        go.Scatter(\n",
    "            x=weight_df.index*100, y=weight_df[col]*100,\n",
    "            # hoverinfo=\"x+y\",\n",
    "            mode=\"lines\",\n",
    "            line={\"width\": 0.5},\n",
    "            name=col,\n",
    "            stackgroup=\"one\"\n",
    "        )\n",
    "    )\n",
    "\n",
    "fig.show()"
   ]
  },
  {
   "cell_type": "code",
   "execution_count": null,
   "metadata": {},
   "outputs": [],
   "source": []
  }
 ]
}