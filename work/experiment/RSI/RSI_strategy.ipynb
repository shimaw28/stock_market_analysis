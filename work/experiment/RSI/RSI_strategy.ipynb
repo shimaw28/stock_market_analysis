{
 "metadata": {
  "language_info": {
   "codemirror_mode": {
    "name": "ipython",
    "version": 3
   },
   "file_extension": ".py",
   "mimetype": "text/x-python",
   "name": "python",
   "nbconvert_exporter": "python",
   "pygments_lexer": "ipython3",
   "version": "3.9.4"
  },
  "orig_nbformat": 4,
  "kernelspec": {
   "name": "python3",
   "display_name": "Python 3.9.4 64-bit ('base': conda)"
  },
  "interpreter": {
   "hash": "98b0a9b7b4eaaa670588a142fd0a9b87eaafe866f1db4228be72b4211d12040f"
  }
 },
 "nbformat": 4,
 "nbformat_minor": 2,
 "cells": [
  {
   "cell_type": "code",
   "execution_count": 1,
   "metadata": {},
   "outputs": [
    {
     "output_type": "stream",
     "name": "stderr",
     "text": [
      "/opt/conda/lib/python3.9/site-packages/backtesting/_plotting.py:45: UserWarning: Jupyter Notebook detected. Setting Bokeh output to notebook. This may not work in Jupyter clients without JavaScript support (e.g. PyCharm, Spyder IDE). Reset with `backtesting.set_bokeh_output(notebook=False)`.\n  warnings.warn('Jupyter Notebook detected. '\n"
     ]
    },
    {
     "output_type": "display_data",
     "data": {
      "text/html": "\n    <div class=\"bk-root\">\n        <a href=\"https://bokeh.org\" target=\"_blank\" class=\"bk-logo bk-logo-small bk-logo-notebook\"></a>\n        <span id=\"1002\">Loading BokehJS ...</span>\n    </div>"
     },
     "metadata": {}
    },
    {
     "output_type": "display_data",
     "data": {
      "application/javascript": "\n(function(root) {\n  function now() {\n    return new Date();\n  }\n\n  var force = true;\n\n  if (typeof root._bokeh_onload_callbacks === \"undefined\" || force === true) {\n    root._bokeh_onload_callbacks = [];\n    root._bokeh_is_loading = undefined;\n  }\n\n  var JS_MIME_TYPE = 'application/javascript';\n  var HTML_MIME_TYPE = 'text/html';\n  var EXEC_MIME_TYPE = 'application/vnd.bokehjs_exec.v0+json';\n  var CLASS_NAME = 'output_bokeh rendered_html';\n\n  /**\n   * Render data to the DOM node\n   */\n  function render(props, node) {\n    var script = document.createElement(\"script\");\n    node.appendChild(script);\n  }\n\n  /**\n   * Handle when an output is cleared or removed\n   */\n  function handleClearOutput(event, handle) {\n    var cell = handle.cell;\n\n    var id = cell.output_area._bokeh_element_id;\n    var server_id = cell.output_area._bokeh_server_id;\n    // Clean up Bokeh references\n    if (id != null && id in Bokeh.index) {\n      Bokeh.index[id].model.document.clear();\n      delete Bokeh.index[id];\n    }\n\n    if (server_id !== undefined) {\n      // Clean up Bokeh references\n      var cmd = \"from bokeh.io.state import curstate; print(curstate().uuid_to_server['\" + server_id + \"'].get_sessions()[0].document.roots[0]._id)\";\n      cell.notebook.kernel.execute(cmd, {\n        iopub: {\n          output: function(msg) {\n            var id = msg.content.text.trim();\n            if (id in Bokeh.index) {\n              Bokeh.index[id].model.document.clear();\n              delete Bokeh.index[id];\n            }\n          }\n        }\n      });\n      // Destroy server and session\n      var cmd = \"import bokeh.io.notebook as ion; ion.destroy_server('\" + server_id + \"')\";\n      cell.notebook.kernel.execute(cmd);\n    }\n  }\n\n  /**\n   * Handle when a new output is added\n   */\n  function handleAddOutput(event, handle) {\n    var output_area = handle.output_area;\n    var output = handle.output;\n\n    // limit handleAddOutput to display_data with EXEC_MIME_TYPE content only\n    if ((output.output_type != \"display_data\") || (!Object.prototype.hasOwnProperty.call(output.data, EXEC_MIME_TYPE))) {\n      return\n    }\n\n    var toinsert = output_area.element.find(\".\" + CLASS_NAME.split(' ')[0]);\n\n    if (output.metadata[EXEC_MIME_TYPE][\"id\"] !== undefined) {\n      toinsert[toinsert.length - 1].firstChild.textContent = output.data[JS_MIME_TYPE];\n      // store reference to embed id on output_area\n      output_area._bokeh_element_id = output.metadata[EXEC_MIME_TYPE][\"id\"];\n    }\n    if (output.metadata[EXEC_MIME_TYPE][\"server_id\"] !== undefined) {\n      var bk_div = document.createElement(\"div\");\n      bk_div.innerHTML = output.data[HTML_MIME_TYPE];\n      var script_attrs = bk_div.children[0].attributes;\n      for (var i = 0; i < script_attrs.length; i++) {\n        toinsert[toinsert.length - 1].firstChild.setAttribute(script_attrs[i].name, script_attrs[i].value);\n        toinsert[toinsert.length - 1].firstChild.textContent = bk_div.children[0].textContent\n      }\n      // store reference to server id on output_area\n      output_area._bokeh_server_id = output.metadata[EXEC_MIME_TYPE][\"server_id\"];\n    }\n  }\n\n  function register_renderer(events, OutputArea) {\n\n    function append_mime(data, metadata, element) {\n      // create a DOM node to render to\n      var toinsert = this.create_output_subarea(\n        metadata,\n        CLASS_NAME,\n        EXEC_MIME_TYPE\n      );\n      this.keyboard_manager.register_events(toinsert);\n      // Render to node\n      var props = {data: data, metadata: metadata[EXEC_MIME_TYPE]};\n      render(props, toinsert[toinsert.length - 1]);\n      element.append(toinsert);\n      return toinsert\n    }\n\n    /* Handle when an output is cleared or removed */\n    events.on('clear_output.CodeCell', handleClearOutput);\n    events.on('delete.Cell', handleClearOutput);\n\n    /* Handle when a new output is added */\n    events.on('output_added.OutputArea', handleAddOutput);\n\n    /**\n     * Register the mime type and append_mime function with output_area\n     */\n    OutputArea.prototype.register_mime_type(EXEC_MIME_TYPE, append_mime, {\n      /* Is output safe? */\n      safe: true,\n      /* Index of renderer in `output_area.display_order` */\n      index: 0\n    });\n  }\n\n  // register the mime type if in Jupyter Notebook environment and previously unregistered\n  if (root.Jupyter !== undefined) {\n    var events = require('base/js/events');\n    var OutputArea = require('notebook/js/outputarea').OutputArea;\n\n    if (OutputArea.prototype.mime_types().indexOf(EXEC_MIME_TYPE) == -1) {\n      register_renderer(events, OutputArea);\n    }\n  }\n\n  \n  if (typeof (root._bokeh_timeout) === \"undefined\" || force === true) {\n    root._bokeh_timeout = Date.now() + 5000;\n    root._bokeh_failed_load = false;\n  }\n\n  var NB_LOAD_WARNING = {'data': {'text/html':\n     \"<div style='background-color: #fdd'>\\n\"+\n     \"<p>\\n\"+\n     \"BokehJS does not appear to have successfully loaded. If loading BokehJS from CDN, this \\n\"+\n     \"may be due to a slow or bad network connection. Possible fixes:\\n\"+\n     \"</p>\\n\"+\n     \"<ul>\\n\"+\n     \"<li>re-rerun `output_notebook()` to attempt to load from CDN again, or</li>\\n\"+\n     \"<li>use INLINE resources instead, as so:</li>\\n\"+\n     \"</ul>\\n\"+\n     \"<code>\\n\"+\n     \"from bokeh.resources import INLINE\\n\"+\n     \"output_notebook(resources=INLINE)\\n\"+\n     \"</code>\\n\"+\n     \"</div>\"}};\n\n  function display_loaded() {\n    var el = document.getElementById(\"1002\");\n    if (el != null) {\n      el.textContent = \"BokehJS is loading...\";\n    }\n    if (root.Bokeh !== undefined) {\n      if (el != null) {\n        el.textContent = \"BokehJS \" + root.Bokeh.version + \" successfully loaded.\";\n      }\n    } else if (Date.now() < root._bokeh_timeout) {\n      setTimeout(display_loaded, 100)\n    }\n  }\n\n\n  function run_callbacks() {\n    try {\n      root._bokeh_onload_callbacks.forEach(function(callback) {\n        if (callback != null)\n          callback();\n      });\n    } finally {\n      delete root._bokeh_onload_callbacks\n    }\n    console.debug(\"Bokeh: all callbacks have finished\");\n  }\n\n  function load_libs(css_urls, js_urls, callback) {\n    if (css_urls == null) css_urls = [];\n    if (js_urls == null) js_urls = [];\n\n    root._bokeh_onload_callbacks.push(callback);\n    if (root._bokeh_is_loading > 0) {\n      console.debug(\"Bokeh: BokehJS is being loaded, scheduling callback at\", now());\n      return null;\n    }\n    if (js_urls == null || js_urls.length === 0) {\n      run_callbacks();\n      return null;\n    }\n    console.debug(\"Bokeh: BokehJS not loaded, scheduling load and callback at\", now());\n    root._bokeh_is_loading = css_urls.length + js_urls.length;\n\n    function on_load() {\n      root._bokeh_is_loading--;\n      if (root._bokeh_is_loading === 0) {\n        console.debug(\"Bokeh: all BokehJS libraries/stylesheets loaded\");\n        run_callbacks()\n      }\n    }\n\n    function on_error(url) {\n      console.error(\"failed to load \" + url);\n    }\n\n    for (let i = 0; i < css_urls.length; i++) {\n      const url = css_urls[i];\n      const element = document.createElement(\"link\");\n      element.onload = on_load;\n      element.onerror = on_error.bind(null, url);\n      element.rel = \"stylesheet\";\n      element.type = \"text/css\";\n      element.href = url;\n      console.debug(\"Bokeh: injecting link tag for BokehJS stylesheet: \", url);\n      document.body.appendChild(element);\n    }\n\n    const hashes = {\"https://cdn.bokeh.org/bokeh/release/bokeh-2.3.2.min.js\": \"XypntL49z55iwGVUW4qsEu83zKL3XEcz0MjuGOQ9SlaaQ68X/g+k1FcioZi7oQAc\", \"https://cdn.bokeh.org/bokeh/release/bokeh-tables-2.3.2.min.js\": \"bEsM86IHGDTLCS0Zod8a8WM6Y4+lafAL/eSiyQcuPzinmWNgNO2/olUF0Z2Dkn5i\", \"https://cdn.bokeh.org/bokeh/release/bokeh-widgets-2.3.2.min.js\": \"TX0gSQTdXTTeScqxj6PVQxTiRW8DOoGVwinyi1D3kxv7wuxQ02XkOxv0xwiypcAH\"};\n\n    for (let i = 0; i < js_urls.length; i++) {\n      const url = js_urls[i];\n      const element = document.createElement('script');\n      element.onload = on_load;\n      element.onerror = on_error.bind(null, url);\n      element.async = false;\n      element.src = url;\n      if (url in hashes) {\n        element.crossOrigin = \"anonymous\";\n        element.integrity = \"sha384-\" + hashes[url];\n      }\n      console.debug(\"Bokeh: injecting script tag for BokehJS library: \", url);\n      document.head.appendChild(element);\n    }\n  };\n\n  function inject_raw_css(css) {\n    const element = document.createElement(\"style\");\n    element.appendChild(document.createTextNode(css));\n    document.body.appendChild(element);\n  }\n\n  \n  var js_urls = [\"https://cdn.bokeh.org/bokeh/release/bokeh-2.3.2.min.js\", \"https://cdn.bokeh.org/bokeh/release/bokeh-widgets-2.3.2.min.js\", \"https://cdn.bokeh.org/bokeh/release/bokeh-tables-2.3.2.min.js\"];\n  var css_urls = [];\n  \n\n  var inline_js = [\n    function(Bokeh) {\n      Bokeh.set_log_level(\"info\");\n    },\n    function(Bokeh) {\n    \n    \n    }\n  ];\n\n  function run_inline_js() {\n    \n    if (root.Bokeh !== undefined || force === true) {\n      \n    for (var i = 0; i < inline_js.length; i++) {\n      inline_js[i].call(root, root.Bokeh);\n    }\n    if (force === true) {\n        display_loaded();\n      }} else if (Date.now() < root._bokeh_timeout) {\n      setTimeout(run_inline_js, 100);\n    } else if (!root._bokeh_failed_load) {\n      console.log(\"Bokeh: BokehJS failed to load within specified timeout.\");\n      root._bokeh_failed_load = true;\n    } else if (force !== true) {\n      var cell = $(document.getElementById(\"1002\")).parents('.cell').data().cell;\n      cell.output_area.append_execute_result(NB_LOAD_WARNING)\n    }\n\n  }\n\n  if (root._bokeh_is_loading === 0) {\n    console.debug(\"Bokeh: BokehJS loaded, going straight to plotting\");\n    run_inline_js();\n  } else {\n    load_libs(css_urls, js_urls, function() {\n      console.debug(\"Bokeh: BokehJS plotting callback run at\", now());\n      run_inline_js();\n    });\n  }\n}(window));",
      "application/vnd.bokehjs_load.v0+json": "\n(function(root) {\n  function now() {\n    return new Date();\n  }\n\n  var force = true;\n\n  if (typeof root._bokeh_onload_callbacks === \"undefined\" || force === true) {\n    root._bokeh_onload_callbacks = [];\n    root._bokeh_is_loading = undefined;\n  }\n\n  \n\n  \n  if (typeof (root._bokeh_timeout) === \"undefined\" || force === true) {\n    root._bokeh_timeout = Date.now() + 5000;\n    root._bokeh_failed_load = false;\n  }\n\n  var NB_LOAD_WARNING = {'data': {'text/html':\n     \"<div style='background-color: #fdd'>\\n\"+\n     \"<p>\\n\"+\n     \"BokehJS does not appear to have successfully loaded. If loading BokehJS from CDN, this \\n\"+\n     \"may be due to a slow or bad network connection. Possible fixes:\\n\"+\n     \"</p>\\n\"+\n     \"<ul>\\n\"+\n     \"<li>re-rerun `output_notebook()` to attempt to load from CDN again, or</li>\\n\"+\n     \"<li>use INLINE resources instead, as so:</li>\\n\"+\n     \"</ul>\\n\"+\n     \"<code>\\n\"+\n     \"from bokeh.resources import INLINE\\n\"+\n     \"output_notebook(resources=INLINE)\\n\"+\n     \"</code>\\n\"+\n     \"</div>\"}};\n\n  function display_loaded() {\n    var el = document.getElementById(\"1002\");\n    if (el != null) {\n      el.textContent = \"BokehJS is loading...\";\n    }\n    if (root.Bokeh !== undefined) {\n      if (el != null) {\n        el.textContent = \"BokehJS \" + root.Bokeh.version + \" successfully loaded.\";\n      }\n    } else if (Date.now() < root._bokeh_timeout) {\n      setTimeout(display_loaded, 100)\n    }\n  }\n\n\n  function run_callbacks() {\n    try {\n      root._bokeh_onload_callbacks.forEach(function(callback) {\n        if (callback != null)\n          callback();\n      });\n    } finally {\n      delete root._bokeh_onload_callbacks\n    }\n    console.debug(\"Bokeh: all callbacks have finished\");\n  }\n\n  function load_libs(css_urls, js_urls, callback) {\n    if (css_urls == null) css_urls = [];\n    if (js_urls == null) js_urls = [];\n\n    root._bokeh_onload_callbacks.push(callback);\n    if (root._bokeh_is_loading > 0) {\n      console.debug(\"Bokeh: BokehJS is being loaded, scheduling callback at\", now());\n      return null;\n    }\n    if (js_urls == null || js_urls.length === 0) {\n      run_callbacks();\n      return null;\n    }\n    console.debug(\"Bokeh: BokehJS not loaded, scheduling load and callback at\", now());\n    root._bokeh_is_loading = css_urls.length + js_urls.length;\n\n    function on_load() {\n      root._bokeh_is_loading--;\n      if (root._bokeh_is_loading === 0) {\n        console.debug(\"Bokeh: all BokehJS libraries/stylesheets loaded\");\n        run_callbacks()\n      }\n    }\n\n    function on_error(url) {\n      console.error(\"failed to load \" + url);\n    }\n\n    for (let i = 0; i < css_urls.length; i++) {\n      const url = css_urls[i];\n      const element = document.createElement(\"link\");\n      element.onload = on_load;\n      element.onerror = on_error.bind(null, url);\n      element.rel = \"stylesheet\";\n      element.type = \"text/css\";\n      element.href = url;\n      console.debug(\"Bokeh: injecting link tag for BokehJS stylesheet: \", url);\n      document.body.appendChild(element);\n    }\n\n    const hashes = {\"https://cdn.bokeh.org/bokeh/release/bokeh-2.3.2.min.js\": \"XypntL49z55iwGVUW4qsEu83zKL3XEcz0MjuGOQ9SlaaQ68X/g+k1FcioZi7oQAc\", \"https://cdn.bokeh.org/bokeh/release/bokeh-tables-2.3.2.min.js\": \"bEsM86IHGDTLCS0Zod8a8WM6Y4+lafAL/eSiyQcuPzinmWNgNO2/olUF0Z2Dkn5i\", \"https://cdn.bokeh.org/bokeh/release/bokeh-widgets-2.3.2.min.js\": \"TX0gSQTdXTTeScqxj6PVQxTiRW8DOoGVwinyi1D3kxv7wuxQ02XkOxv0xwiypcAH\"};\n\n    for (let i = 0; i < js_urls.length; i++) {\n      const url = js_urls[i];\n      const element = document.createElement('script');\n      element.onload = on_load;\n      element.onerror = on_error.bind(null, url);\n      element.async = false;\n      element.src = url;\n      if (url in hashes) {\n        element.crossOrigin = \"anonymous\";\n        element.integrity = \"sha384-\" + hashes[url];\n      }\n      console.debug(\"Bokeh: injecting script tag for BokehJS library: \", url);\n      document.head.appendChild(element);\n    }\n  };\n\n  function inject_raw_css(css) {\n    const element = document.createElement(\"style\");\n    element.appendChild(document.createTextNode(css));\n    document.body.appendChild(element);\n  }\n\n  \n  var js_urls = [\"https://cdn.bokeh.org/bokeh/release/bokeh-2.3.2.min.js\", \"https://cdn.bokeh.org/bokeh/release/bokeh-widgets-2.3.2.min.js\", \"https://cdn.bokeh.org/bokeh/release/bokeh-tables-2.3.2.min.js\"];\n  var css_urls = [];\n  \n\n  var inline_js = [\n    function(Bokeh) {\n      Bokeh.set_log_level(\"info\");\n    },\n    function(Bokeh) {\n    \n    \n    }\n  ];\n\n  function run_inline_js() {\n    \n    if (root.Bokeh !== undefined || force === true) {\n      \n    for (var i = 0; i < inline_js.length; i++) {\n      inline_js[i].call(root, root.Bokeh);\n    }\n    if (force === true) {\n        display_loaded();\n      }} else if (Date.now() < root._bokeh_timeout) {\n      setTimeout(run_inline_js, 100);\n    } else if (!root._bokeh_failed_load) {\n      console.log(\"Bokeh: BokehJS failed to load within specified timeout.\");\n      root._bokeh_failed_load = true;\n    } else if (force !== true) {\n      var cell = $(document.getElementById(\"1002\")).parents('.cell').data().cell;\n      cell.output_area.append_execute_result(NB_LOAD_WARNING)\n    }\n\n  }\n\n  if (root._bokeh_is_loading === 0) {\n    console.debug(\"Bokeh: BokehJS loaded, going straight to plotting\");\n    run_inline_js();\n  } else {\n    load_libs(css_urls, js_urls, function() {\n      console.debug(\"Bokeh: BokehJS plotting callback run at\", now());\n      run_inline_js();\n    });\n  }\n}(window));"
     },
     "metadata": {}
    }
   ],
   "source": [
    "import numpy as np\n",
    "import pandas as pd\n",
    "import yfinance as yf\n",
    "\n",
    "from backtesting import Backtest, Strategy \n",
    "from backtesting.lib import crossover\n",
    "from backtesting.test import SMA"
   ]
  },
  {
   "cell_type": "code",
   "execution_count": 4,
   "metadata": {},
   "outputs": [],
   "source": [
    "import talib"
   ]
  },
  {
   "cell_type": "code",
   "execution_count": null,
   "metadata": {},
   "outputs": [],
   "source": []
  },
  {
   "cell_type": "code",
   "execution_count": 2,
   "metadata": {},
   "outputs": [
    {
     "output_type": "stream",
     "name": "stdout",
     "text": [
      "[*********************100%***********************]  3 of 3 completed\n"
     ]
    }
   ],
   "source": [
    "hist = yf.download(\n",
    "    tickers=\"AAPL MSFT GOOG\",\n",
    "    period=\"2y\",\n",
    "    group_by=\"ticker\"\n",
    ")"
   ]
  },
  {
   "cell_type": "code",
   "execution_count": 3,
   "metadata": {},
   "outputs": [
    {
     "output_type": "execute_result",
     "data": {
      "text/plain": [
       "                   GOOG                                                      \\\n",
       "                   Open         High          Low        Close    Adj Close   \n",
       "Date                                                                          \n",
       "2019-06-17  1086.280029  1099.180054  1086.280029  1092.500000  1092.500000   \n",
       "2019-06-18  1109.689941  1116.390015  1098.989990  1103.599976  1103.599976   \n",
       "2019-06-19  1105.599976  1107.000000  1093.479980  1102.329956  1102.329956   \n",
       "2019-06-20  1119.989990  1120.119995  1104.739990  1111.420044  1111.420044   \n",
       "2019-06-21  1109.239990  1124.109985  1108.079956  1121.880005  1121.880005   \n",
       "...                 ...          ...          ...          ...          ...   \n",
       "2021-06-11  2524.919922  2526.989990  2498.290039  2513.929932  2513.929932   \n",
       "2021-06-14  2513.389893  2528.229980  2500.939941  2527.040039  2527.040039   \n",
       "2021-06-15  2530.439941  2537.239990  2512.969971  2520.659912  2520.659912   \n",
       "2021-06-16  2524.949951  2530.469971  2482.999023  2513.929932  2513.929932   \n",
       "2021-06-17  2510.459961  2521.294922  2510.300049  2520.429932  2520.429932   \n",
       "\n",
       "                           MSFT                                      \\\n",
       "             Volume        Open        High         Low       Close   \n",
       "Date                                                                  \n",
       "2019-06-17   941600  132.630005  133.729996  132.529999  132.850006   \n",
       "2019-06-18  1386700  134.190002  135.240005  133.570007  135.160004   \n",
       "2019-06-19  1338800  135.000000  135.929993  133.809998  135.690002   \n",
       "2019-06-20  1262000  137.449997  137.660004  135.720001  136.949997   \n",
       "2019-06-21  1947600  136.580002  137.729996  136.460007  136.970001   \n",
       "...             ...         ...         ...         ...         ...   \n",
       "2021-06-11  1262000  257.989990  258.489990  256.609985  257.890015   \n",
       "2021-06-14  1127500  257.899994  259.950012  256.799988  259.890015   \n",
       "2021-06-15  1109100  259.769989  259.989990  257.679993  258.359985   \n",
       "2021-06-16  1311100  259.399994  260.579987  254.419998  257.380005   \n",
       "2021-06-17    95946  256.065002  257.848999  256.010010  257.838501   \n",
       "\n",
       "                                        AAPL                          \\\n",
       "             Adj Close    Volume        Open        High         Low   \n",
       "Date                                                                   \n",
       "2019-06-17  129.976608  14517800   48.224998   48.740002   48.042500   \n",
       "2019-06-18  132.236633  25934500   49.012501   50.072498   48.802502   \n",
       "2019-06-19  132.755188  23744400   49.919998   49.970001   49.327499   \n",
       "2019-06-20  133.987885  33042600   50.092499   50.152500   49.507500   \n",
       "2019-06-21  134.007477  36727900   49.700001   50.212502   49.537498   \n",
       "...                ...       ...         ...         ...         ...   \n",
       "2021-06-11  257.890015  18995100  126.529999  127.440002  126.099998   \n",
       "2021-06-14  259.890015  19150500  127.820000  130.539993  127.070000   \n",
       "2021-06-15  258.359985  18038900  129.940002  130.600006  129.389999   \n",
       "2021-06-16  257.380005  27178100  130.369995  130.889999  128.460007   \n",
       "2021-06-17  257.838501   2256119  129.800003  130.809998  129.649994   \n",
       "\n",
       "                                               \n",
       "                 Close   Adj Close     Volume  \n",
       "Date                                           \n",
       "2019-06-17   48.472500   47.580223   58676400  \n",
       "2019-06-18   49.612499   48.699249  106204000  \n",
       "2019-06-19   49.467499   48.556911   84496800  \n",
       "2019-06-20   49.865002   48.947098   86056000  \n",
       "2019-06-21   49.695000   48.780224  191202400  \n",
       "...                ...         ...        ...  \n",
       "2021-06-11  127.349998  127.349998   53415300  \n",
       "2021-06-14  130.479996  130.479996   96906500  \n",
       "2021-06-15  129.639999  129.639999   62746300  \n",
       "2021-06-16  130.149994  130.149994   91657900  \n",
       "2021-06-17  130.690002  130.690002    9801091  \n",
       "\n",
       "[506 rows x 18 columns]"
      ],
      "text/html": "<div>\n<style scoped>\n    .dataframe tbody tr th:only-of-type {\n        vertical-align: middle;\n    }\n\n    .dataframe tbody tr th {\n        vertical-align: top;\n    }\n\n    .dataframe thead tr th {\n        text-align: left;\n    }\n\n    .dataframe thead tr:last-of-type th {\n        text-align: right;\n    }\n</style>\n<table border=\"1\" class=\"dataframe\">\n  <thead>\n    <tr>\n      <th></th>\n      <th colspan=\"6\" halign=\"left\">GOOG</th>\n      <th colspan=\"6\" halign=\"left\">MSFT</th>\n      <th colspan=\"6\" halign=\"left\">AAPL</th>\n    </tr>\n    <tr>\n      <th></th>\n      <th>Open</th>\n      <th>High</th>\n      <th>Low</th>\n      <th>Close</th>\n      <th>Adj Close</th>\n      <th>Volume</th>\n      <th>Open</th>\n      <th>High</th>\n      <th>Low</th>\n      <th>Close</th>\n      <th>Adj Close</th>\n      <th>Volume</th>\n      <th>Open</th>\n      <th>High</th>\n      <th>Low</th>\n      <th>Close</th>\n      <th>Adj Close</th>\n      <th>Volume</th>\n    </tr>\n    <tr>\n      <th>Date</th>\n      <th></th>\n      <th></th>\n      <th></th>\n      <th></th>\n      <th></th>\n      <th></th>\n      <th></th>\n      <th></th>\n      <th></th>\n      <th></th>\n      <th></th>\n      <th></th>\n      <th></th>\n      <th></th>\n      <th></th>\n      <th></th>\n      <th></th>\n      <th></th>\n    </tr>\n  </thead>\n  <tbody>\n    <tr>\n      <th>2019-06-17</th>\n      <td>1086.280029</td>\n      <td>1099.180054</td>\n      <td>1086.280029</td>\n      <td>1092.500000</td>\n      <td>1092.500000</td>\n      <td>941600</td>\n      <td>132.630005</td>\n      <td>133.729996</td>\n      <td>132.529999</td>\n      <td>132.850006</td>\n      <td>129.976608</td>\n      <td>14517800</td>\n      <td>48.224998</td>\n      <td>48.740002</td>\n      <td>48.042500</td>\n      <td>48.472500</td>\n      <td>47.580223</td>\n      <td>58676400</td>\n    </tr>\n    <tr>\n      <th>2019-06-18</th>\n      <td>1109.689941</td>\n      <td>1116.390015</td>\n      <td>1098.989990</td>\n      <td>1103.599976</td>\n      <td>1103.599976</td>\n      <td>1386700</td>\n      <td>134.190002</td>\n      <td>135.240005</td>\n      <td>133.570007</td>\n      <td>135.160004</td>\n      <td>132.236633</td>\n      <td>25934500</td>\n      <td>49.012501</td>\n      <td>50.072498</td>\n      <td>48.802502</td>\n      <td>49.612499</td>\n      <td>48.699249</td>\n      <td>106204000</td>\n    </tr>\n    <tr>\n      <th>2019-06-19</th>\n      <td>1105.599976</td>\n      <td>1107.000000</td>\n      <td>1093.479980</td>\n      <td>1102.329956</td>\n      <td>1102.329956</td>\n      <td>1338800</td>\n      <td>135.000000</td>\n      <td>135.929993</td>\n      <td>133.809998</td>\n      <td>135.690002</td>\n      <td>132.755188</td>\n      <td>23744400</td>\n      <td>49.919998</td>\n      <td>49.970001</td>\n      <td>49.327499</td>\n      <td>49.467499</td>\n      <td>48.556911</td>\n      <td>84496800</td>\n    </tr>\n    <tr>\n      <th>2019-06-20</th>\n      <td>1119.989990</td>\n      <td>1120.119995</td>\n      <td>1104.739990</td>\n      <td>1111.420044</td>\n      <td>1111.420044</td>\n      <td>1262000</td>\n      <td>137.449997</td>\n      <td>137.660004</td>\n      <td>135.720001</td>\n      <td>136.949997</td>\n      <td>133.987885</td>\n      <td>33042600</td>\n      <td>50.092499</td>\n      <td>50.152500</td>\n      <td>49.507500</td>\n      <td>49.865002</td>\n      <td>48.947098</td>\n      <td>86056000</td>\n    </tr>\n    <tr>\n      <th>2019-06-21</th>\n      <td>1109.239990</td>\n      <td>1124.109985</td>\n      <td>1108.079956</td>\n      <td>1121.880005</td>\n      <td>1121.880005</td>\n      <td>1947600</td>\n      <td>136.580002</td>\n      <td>137.729996</td>\n      <td>136.460007</td>\n      <td>136.970001</td>\n      <td>134.007477</td>\n      <td>36727900</td>\n      <td>49.700001</td>\n      <td>50.212502</td>\n      <td>49.537498</td>\n      <td>49.695000</td>\n      <td>48.780224</td>\n      <td>191202400</td>\n    </tr>\n    <tr>\n      <th>...</th>\n      <td>...</td>\n      <td>...</td>\n      <td>...</td>\n      <td>...</td>\n      <td>...</td>\n      <td>...</td>\n      <td>...</td>\n      <td>...</td>\n      <td>...</td>\n      <td>...</td>\n      <td>...</td>\n      <td>...</td>\n      <td>...</td>\n      <td>...</td>\n      <td>...</td>\n      <td>...</td>\n      <td>...</td>\n      <td>...</td>\n    </tr>\n    <tr>\n      <th>2021-06-11</th>\n      <td>2524.919922</td>\n      <td>2526.989990</td>\n      <td>2498.290039</td>\n      <td>2513.929932</td>\n      <td>2513.929932</td>\n      <td>1262000</td>\n      <td>257.989990</td>\n      <td>258.489990</td>\n      <td>256.609985</td>\n      <td>257.890015</td>\n      <td>257.890015</td>\n      <td>18995100</td>\n      <td>126.529999</td>\n      <td>127.440002</td>\n      <td>126.099998</td>\n      <td>127.349998</td>\n      <td>127.349998</td>\n      <td>53415300</td>\n    </tr>\n    <tr>\n      <th>2021-06-14</th>\n      <td>2513.389893</td>\n      <td>2528.229980</td>\n      <td>2500.939941</td>\n      <td>2527.040039</td>\n      <td>2527.040039</td>\n      <td>1127500</td>\n      <td>257.899994</td>\n      <td>259.950012</td>\n      <td>256.799988</td>\n      <td>259.890015</td>\n      <td>259.890015</td>\n      <td>19150500</td>\n      <td>127.820000</td>\n      <td>130.539993</td>\n      <td>127.070000</td>\n      <td>130.479996</td>\n      <td>130.479996</td>\n      <td>96906500</td>\n    </tr>\n    <tr>\n      <th>2021-06-15</th>\n      <td>2530.439941</td>\n      <td>2537.239990</td>\n      <td>2512.969971</td>\n      <td>2520.659912</td>\n      <td>2520.659912</td>\n      <td>1109100</td>\n      <td>259.769989</td>\n      <td>259.989990</td>\n      <td>257.679993</td>\n      <td>258.359985</td>\n      <td>258.359985</td>\n      <td>18038900</td>\n      <td>129.940002</td>\n      <td>130.600006</td>\n      <td>129.389999</td>\n      <td>129.639999</td>\n      <td>129.639999</td>\n      <td>62746300</td>\n    </tr>\n    <tr>\n      <th>2021-06-16</th>\n      <td>2524.949951</td>\n      <td>2530.469971</td>\n      <td>2482.999023</td>\n      <td>2513.929932</td>\n      <td>2513.929932</td>\n      <td>1311100</td>\n      <td>259.399994</td>\n      <td>260.579987</td>\n      <td>254.419998</td>\n      <td>257.380005</td>\n      <td>257.380005</td>\n      <td>27178100</td>\n      <td>130.369995</td>\n      <td>130.889999</td>\n      <td>128.460007</td>\n      <td>130.149994</td>\n      <td>130.149994</td>\n      <td>91657900</td>\n    </tr>\n    <tr>\n      <th>2021-06-17</th>\n      <td>2510.459961</td>\n      <td>2521.294922</td>\n      <td>2510.300049</td>\n      <td>2520.429932</td>\n      <td>2520.429932</td>\n      <td>95946</td>\n      <td>256.065002</td>\n      <td>257.848999</td>\n      <td>256.010010</td>\n      <td>257.838501</td>\n      <td>257.838501</td>\n      <td>2256119</td>\n      <td>129.800003</td>\n      <td>130.809998</td>\n      <td>129.649994</td>\n      <td>130.690002</td>\n      <td>130.690002</td>\n      <td>9801091</td>\n    </tr>\n  </tbody>\n</table>\n<p>506 rows × 18 columns</p>\n</div>"
     },
     "metadata": {},
     "execution_count": 3
    }
   ],
   "source": [
    "hist"
   ]
  },
  {
   "cell_type": "code",
   "execution_count": 12,
   "metadata": {},
   "outputs": [
    {
     "output_type": "execute_result",
     "data": {
      "text/plain": [
       "                  Open        High         Low       Close   Adj Close  \\\n",
       "Date                                                                     \n",
       "2019-06-17   48.224998   48.740002   48.042500   48.472500   47.580223   \n",
       "2019-06-18   49.012501   50.072498   48.802502   49.612499   48.699249   \n",
       "2019-06-19   49.919998   49.970001   49.327499   49.467499   48.556911   \n",
       "2019-06-20   50.092499   50.152500   49.507500   49.865002   48.947098   \n",
       "2019-06-21   49.700001   50.212502   49.537498   49.695000   48.780224   \n",
       "...                ...         ...         ...         ...         ...   \n",
       "2021-06-10  127.019997  128.190002  125.940002  126.110001  126.110001   \n",
       "2021-06-11  126.529999  127.440002  126.099998  127.349998  127.349998   \n",
       "2021-06-14  127.820000  130.539993  127.070000  130.479996  130.479996   \n",
       "2021-06-15  129.940002  130.600006  129.389999  129.639999  129.639999   \n",
       "2021-06-16  130.369995  130.889999  128.460007  130.149994  130.149994   \n",
       "\n",
       "               Volume  \n",
       "Date                   \n",
       "2019-06-17   58676400  \n",
       "2019-06-18  106204000  \n",
       "2019-06-19   84496800  \n",
       "2019-06-20   86056000  \n",
       "2019-06-21  191202400  \n",
       "...               ...  \n",
       "2021-06-10   71186400  \n",
       "2021-06-11   53415300  \n",
       "2021-06-14   96906500  \n",
       "2021-06-15   62746300  \n",
       "2021-06-16   91657900  \n",
       "\n",
       "[505 rows x 6 columns]"
      ],
      "text/html": "<div>\n<style scoped>\n    .dataframe tbody tr th:only-of-type {\n        vertical-align: middle;\n    }\n\n    .dataframe tbody tr th {\n        vertical-align: top;\n    }\n\n    .dataframe thead th {\n        text-align: right;\n    }\n</style>\n<table border=\"1\" class=\"dataframe\">\n  <thead>\n    <tr style=\"text-align: right;\">\n      <th></th>\n      <th>Open</th>\n      <th>High</th>\n      <th>Low</th>\n      <th>Close</th>\n      <th>Adj Close</th>\n      <th>Volume</th>\n    </tr>\n    <tr>\n      <th>Date</th>\n      <th></th>\n      <th></th>\n      <th></th>\n      <th></th>\n      <th></th>\n      <th></th>\n    </tr>\n  </thead>\n  <tbody>\n    <tr>\n      <th>2019-06-17</th>\n      <td>48.224998</td>\n      <td>48.740002</td>\n      <td>48.042500</td>\n      <td>48.472500</td>\n      <td>47.580223</td>\n      <td>58676400</td>\n    </tr>\n    <tr>\n      <th>2019-06-18</th>\n      <td>49.012501</td>\n      <td>50.072498</td>\n      <td>48.802502</td>\n      <td>49.612499</td>\n      <td>48.699249</td>\n      <td>106204000</td>\n    </tr>\n    <tr>\n      <th>2019-06-19</th>\n      <td>49.919998</td>\n      <td>49.970001</td>\n      <td>49.327499</td>\n      <td>49.467499</td>\n      <td>48.556911</td>\n      <td>84496800</td>\n    </tr>\n    <tr>\n      <th>2019-06-20</th>\n      <td>50.092499</td>\n      <td>50.152500</td>\n      <td>49.507500</td>\n      <td>49.865002</td>\n      <td>48.947098</td>\n      <td>86056000</td>\n    </tr>\n    <tr>\n      <th>2019-06-21</th>\n      <td>49.700001</td>\n      <td>50.212502</td>\n      <td>49.537498</td>\n      <td>49.695000</td>\n      <td>48.780224</td>\n      <td>191202400</td>\n    </tr>\n    <tr>\n      <th>...</th>\n      <td>...</td>\n      <td>...</td>\n      <td>...</td>\n      <td>...</td>\n      <td>...</td>\n      <td>...</td>\n    </tr>\n    <tr>\n      <th>2021-06-10</th>\n      <td>127.019997</td>\n      <td>128.190002</td>\n      <td>125.940002</td>\n      <td>126.110001</td>\n      <td>126.110001</td>\n      <td>71186400</td>\n    </tr>\n    <tr>\n      <th>2021-06-11</th>\n      <td>126.529999</td>\n      <td>127.440002</td>\n      <td>126.099998</td>\n      <td>127.349998</td>\n      <td>127.349998</td>\n      <td>53415300</td>\n    </tr>\n    <tr>\n      <th>2021-06-14</th>\n      <td>127.820000</td>\n      <td>130.539993</td>\n      <td>127.070000</td>\n      <td>130.479996</td>\n      <td>130.479996</td>\n      <td>96906500</td>\n    </tr>\n    <tr>\n      <th>2021-06-15</th>\n      <td>129.940002</td>\n      <td>130.600006</td>\n      <td>129.389999</td>\n      <td>129.639999</td>\n      <td>129.639999</td>\n      <td>62746300</td>\n    </tr>\n    <tr>\n      <th>2021-06-16</th>\n      <td>130.369995</td>\n      <td>130.889999</td>\n      <td>128.460007</td>\n      <td>130.149994</td>\n      <td>130.149994</td>\n      <td>91657900</td>\n    </tr>\n  </tbody>\n</table>\n<p>505 rows × 6 columns</p>\n</div>"
     },
     "metadata": {},
     "execution_count": 12
    }
   ],
   "source": [
    "hist[\"AAPL\"]"
   ]
  },
  {
   "cell_type": "code",
   "execution_count": null,
   "metadata": {},
   "outputs": [],
   "source": []
  }
 ]
}